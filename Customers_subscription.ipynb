{
 "cells": [
  {
   "cell_type": "code",
   "execution_count": 1,
   "id": "3711fc22",
   "metadata": {},
   "outputs": [
    {
     "data": {
      "text/html": [
       "        <script type=\"text/javascript\">\n",
       "        window.PlotlyConfig = {MathJaxConfig: 'local'};\n",
       "        if (window.MathJax && window.MathJax.Hub && window.MathJax.Hub.Config) {window.MathJax.Hub.Config({SVG: {font: \"STIX-Web\"}});}\n",
       "        if (typeof require !== 'undefined') {\n",
       "        require.undef(\"plotly\");\n",
       "        requirejs.config({\n",
       "            paths: {\n",
       "                'plotly': ['https://cdn.plot.ly/plotly-2.26.0.min']\n",
       "            }\n",
       "        });\n",
       "        require(['plotly'], function(Plotly) {\n",
       "            window._Plotly = Plotly;\n",
       "        });\n",
       "        }\n",
       "        </script>\n",
       "        "
      ]
     },
     "metadata": {},
     "output_type": "display_data"
    }
   ],
   "source": [
    "import numpy as np\n",
    "import matplotlib.pyplot as plt\n",
    "import pandas as pd\n",
    "import seaborn as sns\n",
    "import cufflinks as cf\n",
    "cf.go_offline()\n",
    "%matplotlib inline"
   ]
  },
  {
   "cell_type": "code",
   "execution_count": 2,
   "id": "081cc052",
   "metadata": {},
   "outputs": [],
   "source": [
    "dataset=pd.read_csv('appdata10.csv')"
   ]
  },
  {
   "cell_type": "code",
   "execution_count": 3,
   "id": "e4ed88e8",
   "metadata": {},
   "outputs": [
    {
     "data": {
      "text/html": [
       "<div>\n",
       "<style scoped>\n",
       "    .dataframe tbody tr th:only-of-type {\n",
       "        vertical-align: middle;\n",
       "    }\n",
       "\n",
       "    .dataframe tbody tr th {\n",
       "        vertical-align: top;\n",
       "    }\n",
       "\n",
       "    .dataframe thead th {\n",
       "        text-align: right;\n",
       "    }\n",
       "</style>\n",
       "<table border=\"1\" class=\"dataframe\">\n",
       "  <thead>\n",
       "    <tr style=\"text-align: right;\">\n",
       "      <th></th>\n",
       "      <th>user</th>\n",
       "      <th>first_open</th>\n",
       "      <th>dayofweek</th>\n",
       "      <th>hour</th>\n",
       "      <th>age</th>\n",
       "      <th>screen_list</th>\n",
       "      <th>numscreens</th>\n",
       "      <th>minigame</th>\n",
       "      <th>used_premium_feature</th>\n",
       "      <th>enrolled</th>\n",
       "      <th>enrolled_date</th>\n",
       "      <th>liked</th>\n",
       "    </tr>\n",
       "  </thead>\n",
       "  <tbody>\n",
       "    <tr>\n",
       "      <th>0</th>\n",
       "      <td>235136</td>\n",
       "      <td>2012-12-27 02:14:51.273</td>\n",
       "      <td>3</td>\n",
       "      <td>02:00:00</td>\n",
       "      <td>23</td>\n",
       "      <td>idscreen,joinscreen,Cycle,product_review,ScanP...</td>\n",
       "      <td>15</td>\n",
       "      <td>0</td>\n",
       "      <td>0</td>\n",
       "      <td>0</td>\n",
       "      <td>NaN</td>\n",
       "      <td>0</td>\n",
       "    </tr>\n",
       "    <tr>\n",
       "      <th>1</th>\n",
       "      <td>333588</td>\n",
       "      <td>2012-12-02 01:16:00.905</td>\n",
       "      <td>6</td>\n",
       "      <td>01:00:00</td>\n",
       "      <td>24</td>\n",
       "      <td>joinscreen,product_review,product_review2,Scan...</td>\n",
       "      <td>13</td>\n",
       "      <td>0</td>\n",
       "      <td>0</td>\n",
       "      <td>0</td>\n",
       "      <td>NaN</td>\n",
       "      <td>0</td>\n",
       "    </tr>\n",
       "    <tr>\n",
       "      <th>2</th>\n",
       "      <td>254414</td>\n",
       "      <td>2013-03-19 19:19:09.157</td>\n",
       "      <td>1</td>\n",
       "      <td>19:00:00</td>\n",
       "      <td>23</td>\n",
       "      <td>Splash,Cycle,Loan</td>\n",
       "      <td>3</td>\n",
       "      <td>0</td>\n",
       "      <td>1</td>\n",
       "      <td>0</td>\n",
       "      <td>NaN</td>\n",
       "      <td>1</td>\n",
       "    </tr>\n",
       "    <tr>\n",
       "      <th>3</th>\n",
       "      <td>234192</td>\n",
       "      <td>2013-07-05 16:08:46.354</td>\n",
       "      <td>4</td>\n",
       "      <td>16:00:00</td>\n",
       "      <td>28</td>\n",
       "      <td>product_review,Home,product_review,Loan3,Finan...</td>\n",
       "      <td>40</td>\n",
       "      <td>0</td>\n",
       "      <td>0</td>\n",
       "      <td>1</td>\n",
       "      <td>2013-07-05 16:11:49.513</td>\n",
       "      <td>0</td>\n",
       "    </tr>\n",
       "    <tr>\n",
       "      <th>4</th>\n",
       "      <td>51549</td>\n",
       "      <td>2013-02-26 18:50:48.661</td>\n",
       "      <td>1</td>\n",
       "      <td>18:00:00</td>\n",
       "      <td>31</td>\n",
       "      <td>idscreen,joinscreen,Cycle,Credit3Container,Sca...</td>\n",
       "      <td>32</td>\n",
       "      <td>0</td>\n",
       "      <td>0</td>\n",
       "      <td>1</td>\n",
       "      <td>2013-02-26 18:56:37.841</td>\n",
       "      <td>1</td>\n",
       "    </tr>\n",
       "  </tbody>\n",
       "</table>\n",
       "</div>"
      ],
      "text/plain": [
       "     user               first_open  dayofweek       hour  age  \\\n",
       "0  235136  2012-12-27 02:14:51.273          3   02:00:00   23   \n",
       "1  333588  2012-12-02 01:16:00.905          6   01:00:00   24   \n",
       "2  254414  2013-03-19 19:19:09.157          1   19:00:00   23   \n",
       "3  234192  2013-07-05 16:08:46.354          4   16:00:00   28   \n",
       "4   51549  2013-02-26 18:50:48.661          1   18:00:00   31   \n",
       "\n",
       "                                         screen_list  numscreens  minigame  \\\n",
       "0  idscreen,joinscreen,Cycle,product_review,ScanP...          15         0   \n",
       "1  joinscreen,product_review,product_review2,Scan...          13         0   \n",
       "2                                  Splash,Cycle,Loan           3         0   \n",
       "3  product_review,Home,product_review,Loan3,Finan...          40         0   \n",
       "4  idscreen,joinscreen,Cycle,Credit3Container,Sca...          32         0   \n",
       "\n",
       "   used_premium_feature  enrolled            enrolled_date  liked  \n",
       "0                     0         0                      NaN      0  \n",
       "1                     0         0                      NaN      0  \n",
       "2                     1         0                      NaN      1  \n",
       "3                     0         1  2013-07-05 16:11:49.513      0  \n",
       "4                     0         1  2013-02-26 18:56:37.841      1  "
      ]
     },
     "execution_count": 3,
     "metadata": {},
     "output_type": "execute_result"
    }
   ],
   "source": [
    "dataset.head()"
   ]
  },
  {
   "cell_type": "code",
   "execution_count": 4,
   "id": "05df240d",
   "metadata": {},
   "outputs": [
    {
     "data": {
      "text/html": [
       "<div>\n",
       "<style scoped>\n",
       "    .dataframe tbody tr th:only-of-type {\n",
       "        vertical-align: middle;\n",
       "    }\n",
       "\n",
       "    .dataframe tbody tr th {\n",
       "        vertical-align: top;\n",
       "    }\n",
       "\n",
       "    .dataframe thead th {\n",
       "        text-align: right;\n",
       "    }\n",
       "</style>\n",
       "<table border=\"1\" class=\"dataframe\">\n",
       "  <thead>\n",
       "    <tr style=\"text-align: right;\">\n",
       "      <th></th>\n",
       "      <th>user</th>\n",
       "      <th>dayofweek</th>\n",
       "      <th>age</th>\n",
       "      <th>numscreens</th>\n",
       "      <th>minigame</th>\n",
       "      <th>used_premium_feature</th>\n",
       "      <th>enrolled</th>\n",
       "      <th>liked</th>\n",
       "    </tr>\n",
       "  </thead>\n",
       "  <tbody>\n",
       "    <tr>\n",
       "      <th>count</th>\n",
       "      <td>50000.000000</td>\n",
       "      <td>50000.000000</td>\n",
       "      <td>50000.00000</td>\n",
       "      <td>50000.000000</td>\n",
       "      <td>50000.000000</td>\n",
       "      <td>50000.000000</td>\n",
       "      <td>50000.000000</td>\n",
       "      <td>50000.000000</td>\n",
       "    </tr>\n",
       "    <tr>\n",
       "      <th>mean</th>\n",
       "      <td>186889.729900</td>\n",
       "      <td>3.029860</td>\n",
       "      <td>31.72436</td>\n",
       "      <td>21.095900</td>\n",
       "      <td>0.107820</td>\n",
       "      <td>0.172020</td>\n",
       "      <td>0.621480</td>\n",
       "      <td>0.165000</td>\n",
       "    </tr>\n",
       "    <tr>\n",
       "      <th>std</th>\n",
       "      <td>107768.520361</td>\n",
       "      <td>2.031997</td>\n",
       "      <td>10.80331</td>\n",
       "      <td>15.728812</td>\n",
       "      <td>0.310156</td>\n",
       "      <td>0.377402</td>\n",
       "      <td>0.485023</td>\n",
       "      <td>0.371184</td>\n",
       "    </tr>\n",
       "    <tr>\n",
       "      <th>min</th>\n",
       "      <td>13.000000</td>\n",
       "      <td>0.000000</td>\n",
       "      <td>16.00000</td>\n",
       "      <td>1.000000</td>\n",
       "      <td>0.000000</td>\n",
       "      <td>0.000000</td>\n",
       "      <td>0.000000</td>\n",
       "      <td>0.000000</td>\n",
       "    </tr>\n",
       "    <tr>\n",
       "      <th>25%</th>\n",
       "      <td>93526.750000</td>\n",
       "      <td>1.000000</td>\n",
       "      <td>24.00000</td>\n",
       "      <td>10.000000</td>\n",
       "      <td>0.000000</td>\n",
       "      <td>0.000000</td>\n",
       "      <td>0.000000</td>\n",
       "      <td>0.000000</td>\n",
       "    </tr>\n",
       "    <tr>\n",
       "      <th>50%</th>\n",
       "      <td>187193.500000</td>\n",
       "      <td>3.000000</td>\n",
       "      <td>29.00000</td>\n",
       "      <td>18.000000</td>\n",
       "      <td>0.000000</td>\n",
       "      <td>0.000000</td>\n",
       "      <td>1.000000</td>\n",
       "      <td>0.000000</td>\n",
       "    </tr>\n",
       "    <tr>\n",
       "      <th>75%</th>\n",
       "      <td>279984.250000</td>\n",
       "      <td>5.000000</td>\n",
       "      <td>37.00000</td>\n",
       "      <td>28.000000</td>\n",
       "      <td>0.000000</td>\n",
       "      <td>0.000000</td>\n",
       "      <td>1.000000</td>\n",
       "      <td>0.000000</td>\n",
       "    </tr>\n",
       "    <tr>\n",
       "      <th>max</th>\n",
       "      <td>373662.000000</td>\n",
       "      <td>6.000000</td>\n",
       "      <td>101.00000</td>\n",
       "      <td>325.000000</td>\n",
       "      <td>1.000000</td>\n",
       "      <td>1.000000</td>\n",
       "      <td>1.000000</td>\n",
       "      <td>1.000000</td>\n",
       "    </tr>\n",
       "  </tbody>\n",
       "</table>\n",
       "</div>"
      ],
      "text/plain": [
       "                user     dayofweek          age    numscreens      minigame  \\\n",
       "count   50000.000000  50000.000000  50000.00000  50000.000000  50000.000000   \n",
       "mean   186889.729900      3.029860     31.72436     21.095900      0.107820   \n",
       "std    107768.520361      2.031997     10.80331     15.728812      0.310156   \n",
       "min        13.000000      0.000000     16.00000      1.000000      0.000000   \n",
       "25%     93526.750000      1.000000     24.00000     10.000000      0.000000   \n",
       "50%    187193.500000      3.000000     29.00000     18.000000      0.000000   \n",
       "75%    279984.250000      5.000000     37.00000     28.000000      0.000000   \n",
       "max    373662.000000      6.000000    101.00000    325.000000      1.000000   \n",
       "\n",
       "       used_premium_feature      enrolled         liked  \n",
       "count          50000.000000  50000.000000  50000.000000  \n",
       "mean               0.172020      0.621480      0.165000  \n",
       "std                0.377402      0.485023      0.371184  \n",
       "min                0.000000      0.000000      0.000000  \n",
       "25%                0.000000      0.000000      0.000000  \n",
       "50%                0.000000      1.000000      0.000000  \n",
       "75%                0.000000      1.000000      0.000000  \n",
       "max                1.000000      1.000000      1.000000  "
      ]
     },
     "execution_count": 4,
     "metadata": {},
     "output_type": "execute_result"
    }
   ],
   "source": [
    "dataset.describe()"
   ]
  },
  {
   "cell_type": "code",
   "execution_count": 5,
   "id": "4e817764",
   "metadata": {},
   "outputs": [],
   "source": [
    "from dateutil import parser"
   ]
  },
  {
   "cell_type": "code",
   "execution_count": 6,
   "id": "ea3c5d4d",
   "metadata": {},
   "outputs": [
    {
     "name": "stdout",
     "output_type": "stream",
     "text": [
      "<class 'pandas.core.frame.DataFrame'>\n",
      "RangeIndex: 50000 entries, 0 to 49999\n",
      "Data columns (total 12 columns):\n",
      " #   Column                Non-Null Count  Dtype \n",
      "---  ------                --------------  ----- \n",
      " 0   user                  50000 non-null  int64 \n",
      " 1   first_open            50000 non-null  object\n",
      " 2   dayofweek             50000 non-null  int64 \n",
      " 3   hour                  50000 non-null  object\n",
      " 4   age                   50000 non-null  int64 \n",
      " 5   screen_list           50000 non-null  object\n",
      " 6   numscreens            50000 non-null  int64 \n",
      " 7   minigame              50000 non-null  int64 \n",
      " 8   used_premium_feature  50000 non-null  int64 \n",
      " 9   enrolled              50000 non-null  int64 \n",
      " 10  enrolled_date         31074 non-null  object\n",
      " 11  liked                 50000 non-null  int64 \n",
      "dtypes: int64(8), object(4)\n",
      "memory usage: 4.6+ MB\n"
     ]
    }
   ],
   "source": [
    "dataset.info()"
   ]
  },
  {
   "cell_type": "code",
   "execution_count": 7,
   "id": "a9c814e3",
   "metadata": {},
   "outputs": [],
   "source": [
    "dataset['hour']=dataset.hour.str.slice(1,3).astype(int)"
   ]
  },
  {
   "cell_type": "code",
   "execution_count": 8,
   "id": "0a0f9736",
   "metadata": {},
   "outputs": [
    {
     "data": {
      "text/html": [
       "<div>\n",
       "<style scoped>\n",
       "    .dataframe tbody tr th:only-of-type {\n",
       "        vertical-align: middle;\n",
       "    }\n",
       "\n",
       "    .dataframe tbody tr th {\n",
       "        vertical-align: top;\n",
       "    }\n",
       "\n",
       "    .dataframe thead th {\n",
       "        text-align: right;\n",
       "    }\n",
       "</style>\n",
       "<table border=\"1\" class=\"dataframe\">\n",
       "  <thead>\n",
       "    <tr style=\"text-align: right;\">\n",
       "      <th></th>\n",
       "      <th>user</th>\n",
       "      <th>first_open</th>\n",
       "      <th>dayofweek</th>\n",
       "      <th>hour</th>\n",
       "      <th>age</th>\n",
       "      <th>screen_list</th>\n",
       "      <th>numscreens</th>\n",
       "      <th>minigame</th>\n",
       "      <th>used_premium_feature</th>\n",
       "      <th>enrolled</th>\n",
       "      <th>enrolled_date</th>\n",
       "      <th>liked</th>\n",
       "    </tr>\n",
       "  </thead>\n",
       "  <tbody>\n",
       "    <tr>\n",
       "      <th>0</th>\n",
       "      <td>235136</td>\n",
       "      <td>2012-12-27 02:14:51.273</td>\n",
       "      <td>3</td>\n",
       "      <td>2</td>\n",
       "      <td>23</td>\n",
       "      <td>idscreen,joinscreen,Cycle,product_review,ScanP...</td>\n",
       "      <td>15</td>\n",
       "      <td>0</td>\n",
       "      <td>0</td>\n",
       "      <td>0</td>\n",
       "      <td>NaN</td>\n",
       "      <td>0</td>\n",
       "    </tr>\n",
       "    <tr>\n",
       "      <th>1</th>\n",
       "      <td>333588</td>\n",
       "      <td>2012-12-02 01:16:00.905</td>\n",
       "      <td>6</td>\n",
       "      <td>1</td>\n",
       "      <td>24</td>\n",
       "      <td>joinscreen,product_review,product_review2,Scan...</td>\n",
       "      <td>13</td>\n",
       "      <td>0</td>\n",
       "      <td>0</td>\n",
       "      <td>0</td>\n",
       "      <td>NaN</td>\n",
       "      <td>0</td>\n",
       "    </tr>\n",
       "    <tr>\n",
       "      <th>2</th>\n",
       "      <td>254414</td>\n",
       "      <td>2013-03-19 19:19:09.157</td>\n",
       "      <td>1</td>\n",
       "      <td>19</td>\n",
       "      <td>23</td>\n",
       "      <td>Splash,Cycle,Loan</td>\n",
       "      <td>3</td>\n",
       "      <td>0</td>\n",
       "      <td>1</td>\n",
       "      <td>0</td>\n",
       "      <td>NaN</td>\n",
       "      <td>1</td>\n",
       "    </tr>\n",
       "    <tr>\n",
       "      <th>3</th>\n",
       "      <td>234192</td>\n",
       "      <td>2013-07-05 16:08:46.354</td>\n",
       "      <td>4</td>\n",
       "      <td>16</td>\n",
       "      <td>28</td>\n",
       "      <td>product_review,Home,product_review,Loan3,Finan...</td>\n",
       "      <td>40</td>\n",
       "      <td>0</td>\n",
       "      <td>0</td>\n",
       "      <td>1</td>\n",
       "      <td>2013-07-05 16:11:49.513</td>\n",
       "      <td>0</td>\n",
       "    </tr>\n",
       "    <tr>\n",
       "      <th>4</th>\n",
       "      <td>51549</td>\n",
       "      <td>2013-02-26 18:50:48.661</td>\n",
       "      <td>1</td>\n",
       "      <td>18</td>\n",
       "      <td>31</td>\n",
       "      <td>idscreen,joinscreen,Cycle,Credit3Container,Sca...</td>\n",
       "      <td>32</td>\n",
       "      <td>0</td>\n",
       "      <td>0</td>\n",
       "      <td>1</td>\n",
       "      <td>2013-02-26 18:56:37.841</td>\n",
       "      <td>1</td>\n",
       "    </tr>\n",
       "  </tbody>\n",
       "</table>\n",
       "</div>"
      ],
      "text/plain": [
       "     user               first_open  dayofweek  hour  age  \\\n",
       "0  235136  2012-12-27 02:14:51.273          3     2   23   \n",
       "1  333588  2012-12-02 01:16:00.905          6     1   24   \n",
       "2  254414  2013-03-19 19:19:09.157          1    19   23   \n",
       "3  234192  2013-07-05 16:08:46.354          4    16   28   \n",
       "4   51549  2013-02-26 18:50:48.661          1    18   31   \n",
       "\n",
       "                                         screen_list  numscreens  minigame  \\\n",
       "0  idscreen,joinscreen,Cycle,product_review,ScanP...          15         0   \n",
       "1  joinscreen,product_review,product_review2,Scan...          13         0   \n",
       "2                                  Splash,Cycle,Loan           3         0   \n",
       "3  product_review,Home,product_review,Loan3,Finan...          40         0   \n",
       "4  idscreen,joinscreen,Cycle,Credit3Container,Sca...          32         0   \n",
       "\n",
       "   used_premium_feature  enrolled            enrolled_date  liked  \n",
       "0                     0         0                      NaN      0  \n",
       "1                     0         0                      NaN      0  \n",
       "2                     1         0                      NaN      1  \n",
       "3                     0         1  2013-07-05 16:11:49.513      0  \n",
       "4                     0         1  2013-02-26 18:56:37.841      1  "
      ]
     },
     "execution_count": 8,
     "metadata": {},
     "output_type": "execute_result"
    }
   ],
   "source": [
    "dataset.head()"
   ]
  },
  {
   "cell_type": "code",
   "execution_count": 9,
   "id": "d5260dd6",
   "metadata": {},
   "outputs": [],
   "source": [
    "dataset2=dataset.copy().drop(columns=['user','first_open','screen_list','enrolled_date'])"
   ]
  },
  {
   "cell_type": "code",
   "execution_count": 10,
   "id": "d5072a41",
   "metadata": {},
   "outputs": [
    {
     "name": "stdout",
     "output_type": "stream",
     "text": [
      "<class 'pandas.core.frame.DataFrame'>\n",
      "RangeIndex: 50000 entries, 0 to 49999\n",
      "Data columns (total 8 columns):\n",
      " #   Column                Non-Null Count  Dtype\n",
      "---  ------                --------------  -----\n",
      " 0   dayofweek             50000 non-null  int64\n",
      " 1   hour                  50000 non-null  int32\n",
      " 2   age                   50000 non-null  int64\n",
      " 3   numscreens            50000 non-null  int64\n",
      " 4   minigame              50000 non-null  int64\n",
      " 5   used_premium_feature  50000 non-null  int64\n",
      " 6   enrolled              50000 non-null  int64\n",
      " 7   liked                 50000 non-null  int64\n",
      "dtypes: int32(1), int64(7)\n",
      "memory usage: 2.9 MB\n"
     ]
    }
   ],
   "source": [
    "dataset2.info()"
   ]
  },
  {
   "cell_type": "code",
   "execution_count": 11,
   "id": "fc6d04fd",
   "metadata": {},
   "outputs": [
    {
     "data": {
      "image/png": "[encoded data removed]",
      "text/plain": [
       "<Figure size 1800x1440 with 8 Axes>"
      ]
     },
     "metadata": {
      "needs_background": "light"
     },
     "output_type": "display_data"
    }
   ],
   "source": [
    "plt.figure(figsize=(25,20))\n",
    "plt.rc('font',size=20)\n",
    "plt.suptitle(\"Histogram plots of features\",fontsize=30)\n",
    "for i in range(1,dataset2.shape[1]+1):\n",
    "    plt.subplot(3,3,i)\n",
    "    plt.hist(dataset2.iloc[:,i-1],bins=40)\n",
    "    plt.title(dataset2.columns[i-1],fontsize=20)\n",
    "    plt.tight_layout\n",
    "    "
   ]
  },
  {
   "cell_type": "code",
   "execution_count": 12,
   "id": "710ea6b6",
   "metadata": {},
   "outputs": [
    {
     "data": {
      "text/plain": [
       "<Axes: >"
      ]
     },
     "execution_count": 12,
     "metadata": {},
     "output_type": "execute_result"
    },
    {
     "data": {
      "image/png": "[encoded data removed]",
      "text/plain": [
       "<Figure size 720x504 with 2 Axes>"
      ]
     },
     "metadata": {
      "needs_background": "light"
     },
     "output_type": "display_data"
    }
   ],
   "source": [
    "plt.figure(figsize=(10,7))\n",
    "sns.heatmap(dataset2.corr(),annot=False)"
   ]
  },
  {
   "cell_type": "code",
   "execution_count": 13,
   "id": "10e6ed9b",
   "metadata": {},
   "outputs": [
    {
     "data": {
      "text/html": [
       "<div>\n",
       "<style scoped>\n",
       "    .dataframe tbody tr th:only-of-type {\n",
       "        vertical-align: middle;\n",
       "    }\n",
       "\n",
       "    .dataframe tbody tr th {\n",
       "        vertical-align: top;\n",
       "    }\n",
       "\n",
       "    .dataframe thead th {\n",
       "        text-align: right;\n",
       "    }\n",
       "</style>\n",
       "<table border=\"1\" class=\"dataframe\">\n",
       "  <thead>\n",
       "    <tr style=\"text-align: right;\">\n",
       "      <th></th>\n",
       "      <th>dayofweek</th>\n",
       "      <th>hour</th>\n",
       "      <th>age</th>\n",
       "      <th>numscreens</th>\n",
       "      <th>minigame</th>\n",
       "      <th>used_premium_feature</th>\n",
       "      <th>enrolled</th>\n",
       "      <th>liked</th>\n",
       "    </tr>\n",
       "  </thead>\n",
       "  <tbody>\n",
       "    <tr>\n",
       "      <th>0</th>\n",
       "      <td>False</td>\n",
       "      <td>False</td>\n",
       "      <td>False</td>\n",
       "      <td>False</td>\n",
       "      <td>False</td>\n",
       "      <td>False</td>\n",
       "      <td>False</td>\n",
       "      <td>False</td>\n",
       "    </tr>\n",
       "    <tr>\n",
       "      <th>1</th>\n",
       "      <td>False</td>\n",
       "      <td>False</td>\n",
       "      <td>False</td>\n",
       "      <td>False</td>\n",
       "      <td>False</td>\n",
       "      <td>False</td>\n",
       "      <td>False</td>\n",
       "      <td>False</td>\n",
       "    </tr>\n",
       "    <tr>\n",
       "      <th>2</th>\n",
       "      <td>False</td>\n",
       "      <td>False</td>\n",
       "      <td>False</td>\n",
       "      <td>False</td>\n",
       "      <td>False</td>\n",
       "      <td>False</td>\n",
       "      <td>False</td>\n",
       "      <td>False</td>\n",
       "    </tr>\n",
       "    <tr>\n",
       "      <th>3</th>\n",
       "      <td>False</td>\n",
       "      <td>False</td>\n",
       "      <td>False</td>\n",
       "      <td>False</td>\n",
       "      <td>False</td>\n",
       "      <td>False</td>\n",
       "      <td>False</td>\n",
       "      <td>False</td>\n",
       "    </tr>\n",
       "    <tr>\n",
       "      <th>4</th>\n",
       "      <td>False</td>\n",
       "      <td>False</td>\n",
       "      <td>False</td>\n",
       "      <td>False</td>\n",
       "      <td>False</td>\n",
       "      <td>False</td>\n",
       "      <td>False</td>\n",
       "      <td>False</td>\n",
       "    </tr>\n",
       "    <tr>\n",
       "      <th>...</th>\n",
       "      <td>...</td>\n",
       "      <td>...</td>\n",
       "      <td>...</td>\n",
       "      <td>...</td>\n",
       "      <td>...</td>\n",
       "      <td>...</td>\n",
       "      <td>...</td>\n",
       "      <td>...</td>\n",
       "    </tr>\n",
       "    <tr>\n",
       "      <th>49995</th>\n",
       "      <td>False</td>\n",
       "      <td>False</td>\n",
       "      <td>False</td>\n",
       "      <td>False</td>\n",
       "      <td>False</td>\n",
       "      <td>False</td>\n",
       "      <td>False</td>\n",
       "      <td>False</td>\n",
       "    </tr>\n",
       "    <tr>\n",
       "      <th>49996</th>\n",
       "      <td>False</td>\n",
       "      <td>False</td>\n",
       "      <td>False</td>\n",
       "      <td>False</td>\n",
       "      <td>False</td>\n",
       "      <td>False</td>\n",
       "      <td>False</td>\n",
       "      <td>False</td>\n",
       "    </tr>\n",
       "    <tr>\n",
       "      <th>49997</th>\n",
       "      <td>False</td>\n",
       "      <td>False</td>\n",
       "      <td>False</td>\n",
       "      <td>False</td>\n",
       "      <td>False</td>\n",
       "      <td>False</td>\n",
       "      <td>False</td>\n",
       "      <td>False</td>\n",
       "    </tr>\n",
       "    <tr>\n",
       "      <th>49998</th>\n",
       "      <td>False</td>\n",
       "      <td>False</td>\n",
       "      <td>False</td>\n",
       "      <td>False</td>\n",
       "      <td>False</td>\n",
       "      <td>False</td>\n",
       "      <td>False</td>\n",
       "      <td>False</td>\n",
       "    </tr>\n",
       "    <tr>\n",
       "      <th>49999</th>\n",
       "      <td>False</td>\n",
       "      <td>False</td>\n",
       "      <td>False</td>\n",
       "      <td>False</td>\n",
       "      <td>False</td>\n",
       "      <td>False</td>\n",
       "      <td>False</td>\n",
       "      <td>False</td>\n",
       "    </tr>\n",
       "  </tbody>\n",
       "</table>\n",
       "<p>50000 rows × 8 columns</p>\n",
       "</div>"
      ],
      "text/plain": [
       "       dayofweek   hour    age  numscreens  minigame  used_premium_feature  \\\n",
       "0          False  False  False       False     False                 False   \n",
       "1          False  False  False       False     False                 False   \n",
       "2          False  False  False       False     False                 False   \n",
       "3          False  False  False       False     False                 False   \n",
       "4          False  False  False       False     False                 False   \n",
       "...          ...    ...    ...         ...       ...                   ...   \n",
       "49995      False  False  False       False     False                 False   \n",
       "49996      False  False  False       False     False                 False   \n",
       "49997      False  False  False       False     False                 False   \n",
       "49998      False  False  False       False     False                 False   \n",
       "49999      False  False  False       False     False                 False   \n",
       "\n",
       "       enrolled  liked  \n",
       "0         False  False  \n",
       "1         False  False  \n",
       "2         False  False  \n",
       "3         False  False  \n",
       "4         False  False  \n",
       "...         ...    ...  \n",
       "49995     False  False  \n",
       "49996     False  False  \n",
       "49997     False  False  \n",
       "49998     False  False  \n",
       "49999     False  False  \n",
       "\n",
       "[50000 rows x 8 columns]"
      ]
     },
     "execution_count": 13,
     "metadata": {},
     "output_type": "execute_result"
    }
   ],
   "source": [
    "dataset2.isnull()"
   ]
  },
  {
   "cell_type": "code",
   "execution_count": 14,
   "id": "1e5608e0",
   "metadata": {},
   "outputs": [
    {
     "data": {
      "text/plain": [
       "<Axes: >"
      ]
     },
     "execution_count": 14,
     "metadata": {},
     "output_type": "execute_result"
    },
    {
     "data": {
      "image/png": "[encoded data removed]",
      "text/plain": [
       "<Figure size 432x288 with 2 Axes>"
      ]
     },
     "metadata": {
      "needs_background": "light"
     },
     "output_type": "display_data"
    }
   ],
   "source": [
    "sns.heatmap(dataset2.isnull())"
   ]
  },
  {
   "cell_type": "code",
   "execution_count": 15,
   "id": "53f79d98",
   "metadata": {},
   "outputs": [
    {
     "data": {
      "application/vnd.plotly.v1+json": {
       "config": {
        "linkText": "Export to plot.ly",
        "plotlyServerURL": "https://plot.ly",
        "showLink": true
       },
       "data": [
        {
         "marker": {
          "color": "rgba(226, 74, 51, 0.6)",
          "line": {
           "color": "rgba(226, 74, 51, 1.0)",
           "width": 1
          }
         },
         "name": "None",
         "orientation": "v",
         "text": "",
         "type": "bar",
         "x": [
          "dayofweek",
          "hour",
          "age",
          "numscreens",
          "minigame",
          "used_premium_feature",
          "enrolled",
          "liked"
         ],
         "y": [
          0.011326323809027998,
          -0.06669350839173423,
          -0.13130308608972932,
          0.2094568668855473,
          0.1049793698748216,
          -0.05270288884568459,
          1,
          -0.007022190094899388
         ]
        }
       ],
       "layout": {
        "legend": {
         "bgcolor": "#FFFFFF",
         "font": {
          "color": "#666666"
         }
        },
        "paper_bgcolor": "#FFFFFF",
        "plot_bgcolor": "#E5E5E5",
        "template": {
         "data": {
          "bar": [
           {
            "error_x": {
             "color": "#2a3f5f"
            },
            "error_y": {
             "color": "#2a3f5f"
            },
            "marker": {
             "line": {
              "color": "#E5ECF6",
              "width": 0.5
             },
             "pattern": {
              "fillmode": "overlay",
              "size": 10,
              "solidity": 0.2
             }
            },
            "type": "bar"
           }
          ],
          "barpolar": [
           {
            "marker": {
             "line": {
              "color": "#E5ECF6",
              "width": 0.5
             },
             "pattern": {
              "fillmode": "overlay",
              "size": 10,
              "solidity": 0.2
             }
            },
            "type": "barpolar"
           }
          ],
          "carpet": [
           {
            "aaxis": {
             "endlinecolor": "#2a3f5f",
             "gridcolor": "white",
             "linecolor": "white",
             "minorgridcolor": "white",
             "startlinecolor": "#2a3f5f"
            },
            "baxis": {
             "endlinecolor": "#2a3f5f",
             "gridcolor": "white",
             "linecolor": "white",
             "minorgridcolor": "white",
             "startlinecolor": "#2a3f5f"
            },
            "type": "carpet"
           }
          ],
          "choropleth": [
           {
            "colorbar": {
             "outlinewidth": 0,
             "ticks": ""
            },
            "type": "choropleth"
           }
          ],
          "contour": [
           {
            "colorbar": {
             "outlinewidth": 0,
             "ticks": ""
            },
            "colorscale": [
             [
              0,
              "#0d0887"
             ],
             [
              0.1111111111111111,
              "#46039f"
             ],
             [
              0.2222222222222222,
              "#7201a8"
             ],
             [
              0.3333333333333333,
              "#9c179e"
             ],
             [
              0.4444444444444444,
              "#bd3786"
             ],
             [
              0.5555555555555556,
              "#d8576b"
             ],
             [
              0.6666666666666666,
              "#ed7953"
             ],
             [
              0.7777777777777778,
              "#fb9f3a"
             ],
             [
              0.8888888888888888,
              "#fdca26"
             ],
             [
              1,
              "#f0f921"
             ]
            ],
            "type": "contour"
           }
          ],
          "contourcarpet": [
           {
            "colorbar": {
             "outlinewidth": 0,
             "ticks": ""
            },
            "type": "contourcarpet"
           }
          ],
          "heatmap": [
           {
            "colorbar": {
             "outlinewidth": 0,
             "ticks": ""
            },
            "colorscale": [
             [
              0,
              "#0d0887"
             ],
             [
              0.1111111111111111,
              "#46039f"
             ],
             [
              0.2222222222222222,
              "#7201a8"
             ],
             [
              0.3333333333333333,
              "#9c179e"
             ],
             [
              0.4444444444444444,
              "#bd3786"
             ],
             [
              0.5555555555555556,
              "#d8576b"
             ],
             [
              0.6666666666666666,
              "#ed7953"
             ],
             [
              0.7777777777777778,
              "#fb9f3a"
             ],
             [
              0.8888888888888888,
              "#fdca26"
             ],
             [
              1,
              "#f0f921"
             ]
            ],
            "type": "heatmap"
           }
          ],
          "heatmapgl": [
           {
            "colorbar": {
             "outlinewidth": 0,
             "ticks": ""
            },
            "colorscale": [
             [
              0,
              "#0d0887"
             ],
             [
              0.1111111111111111,
              "#46039f"
             ],
             [
              0.2222222222222222,
              "#7201a8"
             ],
             [
              0.3333333333333333,
              "#9c179e"
             ],
             [
              0.4444444444444444,
              "#bd3786"
             ],
             [
              0.5555555555555556,
              "#d8576b"
             ],
             [
              0.6666666666666666,
              "#ed7953"
             ],
             [
              0.7777777777777778,
              "#fb9f3a"
             ],
             [
              0.8888888888888888,
              "#fdca26"
             ],
             [
              1,
              "#f0f921"
             ]
            ],
            "type": "heatmapgl"
           }
          ],
          "histogram": [
           {
            "marker": {
             "pattern": {
              "fillmode": "overlay",
              "size": 10,
              "solidity": 0.2
             }
            },
            "type": "histogram"
           }
          ],
          "histogram2d": [
           {
            "colorbar": {
             "outlinewidth": 0,
             "ticks": ""
            },
            "colorscale": [
             [
              0,
              "#0d0887"
             ],
             [
              0.1111111111111111,
              "#46039f"
             ],
             [
              0.2222222222222222,
              "#7201a8"
             ],
             [
              0.3333333333333333,
              "#9c179e"
             ],
             [
              0.4444444444444444,
              "#bd3786"
             ],
             [
              0.5555555555555556,
              "#d8576b"
             ],
             [
              0.6666666666666666,
              "#ed7953"
             ],
             [
              0.7777777777777778,
              "#fb9f3a"
             ],
             [
              0.8888888888888888,
              "#fdca26"
             ],
             [
              1,
              "#f0f921"
             ]
            ],
            "type": "histogram2d"
           }
          ],
          "histogram2dcontour": [
           {
            "colorbar": {
             "outlinewidth": 0,
             "ticks": ""
            },
            "colorscale": [
             [
              0,
              "#0d0887"
             ],
             [
              0.1111111111111111,
              "#46039f"
             ],
             [
              0.2222222222222222,
              "#7201a8"
             ],
             [
              0.3333333333333333,
              "#9c179e"
             ],
             [
              0.4444444444444444,
              "#bd3786"
             ],
             [
              0.5555555555555556,
              "#d8576b"
             ],
             [
              0.6666666666666666,
              "#ed7953"
             ],
             [
              0.7777777777777778,
              "#fb9f3a"
             ],
             [
              0.8888888888888888,
              "#fdca26"
             ],
             [
              1,
              "#f0f921"
             ]
            ],
            "type": "histogram2dcontour"
           }
          ],
          "mesh3d": [
           {
            "colorbar": {
             "outlinewidth": 0,
             "ticks": ""
            },
            "type": "mesh3d"
           }
          ],
          "parcoords": [
           {
            "line": {
             "colorbar": {
              "outlinewidth": 0,
              "ticks": ""
             }
            },
            "type": "parcoords"
           }
          ],
          "pie": [
           {
            "automargin": true,
            "type": "pie"
           }
          ],
          "scatter": [
           {
            "fillpattern": {
             "fillmode": "overlay",
             "size": 10,
             "solidity": 0.2
            },
            "type": "scatter"
           }
          ],
          "scatter3d": [
           {
            "line": {
             "colorbar": {
              "outlinewidth": 0,
              "ticks": ""
             }
            },
            "marker": {
             "colorbar": {
              "outlinewidth": 0,
              "ticks": ""
             }
            },
            "type": "scatter3d"
           }
          ],
          "scattercarpet": [
           {
            "marker": {
             "colorbar": {
              "outlinewidth": 0,
              "ticks": ""
             }
            },
            "type": "scattercarpet"
           }
          ],
          "scattergeo": [
           {
            "marker": {
             "colorbar": {
              "outlinewidth": 0,
              "ticks": ""
             }
            },
            "type": "scattergeo"
           }
          ],
          "scattergl": [
           {
            "marker": {
             "colorbar": {
              "outlinewidth": 0,
              "ticks": ""
             }
            },
            "type": "scattergl"
           }
          ],
          "scattermapbox": [
           {
            "marker": {
             "colorbar": {
              "outlinewidth": 0,
              "ticks": ""
             }
            },
            "type": "scattermapbox"
           }
          ],
          "scatterpolar": [
           {
            "marker": {
             "colorbar": {
              "outlinewidth": 0,
              "ticks": ""
             }
            },
            "type": "scatterpolar"
           }
          ],
          "scatterpolargl": [
           {
            "marker": {
             "colorbar": {
              "outlinewidth": 0,
              "ticks": ""
             }
            },
            "type": "scatterpolargl"
           }
          ],
          "scatterternary": [
           {
            "marker": {
             "colorbar": {
              "outlinewidth": 0,
              "ticks": ""
             }
            },
            "type": "scatterternary"
           }
          ],
          "surface": [
           {
            "colorbar": {
             "outlinewidth": 0,
             "ticks": ""
            },
            "colorscale": [
             [
              0,
              "#0d0887"
             ],
             [
              0.1111111111111111,
              "#46039f"
             ],
             [
              0.2222222222222222,
              "#7201a8"
             ],
             [
              0.3333333333333333,
              "#9c179e"
             ],
             [
              0.4444444444444444,
              "#bd3786"
             ],
             [
              0.5555555555555556,
              "#d8576b"
             ],
             [
              0.6666666666666666,
              "#ed7953"
             ],
             [
              0.7777777777777778,
              "#fb9f3a"
             ],
             [
              0.8888888888888888,
              "#fdca26"
             ],
             [
              1,
              "#f0f921"
             ]
            ],
            "type": "surface"
           }
          ],
          "table": [
           {
            "cells": {
             "fill": {
              "color": "#EBF0F8"
             },
             "line": {
              "color": "white"
             }
            },
            "header": {
             "fill": {
              "color": "#C8D4E3"
             },
             "line": {
              "color": "white"
             }
            },
            "type": "table"
           }
          ]
         },
         "layout": {
          "annotationdefaults": {
           "arrowcolor": "#2a3f5f",
           "arrowhead": 0,
           "arrowwidth": 1
          },
          "autotypenumbers": "strict",
          "coloraxis": {
           "colorbar": {
            "outlinewidth": 0,
            "ticks": ""
           }
          },
          "colorscale": {
           "diverging": [
            [
             0,
             "#8e0152"
            ],
            [
             0.1,
             "#c51b7d"
            ],
            [
             0.2,
             "#de77ae"
            ],
            [
             0.3,
             "#f1b6da"
            ],
            [
             0.4,
             "#fde0ef"
            ],
            [
             0.5,
             "#f7f7f7"
            ],
            [
             0.6,
             "#e6f5d0"
            ],
            [
             0.7,
             "#b8e186"
            ],
            [
             0.8,
             "#7fbc41"
            ],
            [
             0.9,
             "#4d9221"
            ],
            [
             1,
             "#276419"
            ]
           ],
           "sequential": [
            [
             0,
             "#0d0887"
            ],
            [
             0.1111111111111111,
             "#46039f"
            ],
            [
             0.2222222222222222,
             "#7201a8"
            ],
            [
             0.3333333333333333,
             "#9c179e"
            ],
            [
             0.4444444444444444,
             "#bd3786"
            ],
            [
             0.5555555555555556,
             "#d8576b"
            ],
            [
             0.6666666666666666,
             "#ed7953"
            ],
            [
             0.7777777777777778,
             "#fb9f3a"
            ],
            [
             0.8888888888888888,
             "#fdca26"
            ],
            [
             1,
             "#f0f921"
            ]
           ],
           "sequentialminus": [
            [
             0,
             "#0d0887"
            ],
            [
             0.1111111111111111,
             "#46039f"
            ],
            [
             0.2222222222222222,
             "#7201a8"
            ],
            [
             0.3333333333333333,
             "#9c179e"
            ],
            [
             0.4444444444444444,
             "#bd3786"
            ],
            [
             0.5555555555555556,
             "#d8576b"
            ],
            [
             0.6666666666666666,
             "#ed7953"
            ],
            [
             0.7777777777777778,
             "#fb9f3a"
            ],
            [
             0.8888888888888888,
             "#fdca26"
            ],
            [
             1,
             "#f0f921"
            ]
           ]
          },
          "colorway": [
           "#636efa",
           "#EF553B",
           "#00cc96",
           "#ab63fa",
           "#FFA15A",
           "#19d3f3",
           "#FF6692",
           "#B6E880",
           "#FF97FF",
           "#FECB52"
          ],
          "font": {
           "color": "#2a3f5f"
          },
          "geo": {
           "bgcolor": "white",
           "lakecolor": "white",
           "landcolor": "#E5ECF6",
           "showlakes": true,
           "showland": true,
           "subunitcolor": "white"
          },
          "hoverlabel": {
           "align": "left"
          },
          "hovermode": "closest",
          "mapbox": {
           "style": "light"
          },
          "paper_bgcolor": "white",
          "plot_bgcolor": "#E5ECF6",
          "polar": {
           "angularaxis": {
            "gridcolor": "white",
            "linecolor": "white",
            "ticks": ""
           },
           "bgcolor": "#E5ECF6",
           "radialaxis": {
            "gridcolor": "white",
            "linecolor": "white",
            "ticks": ""
           }
          },
          "scene": {
           "xaxis": {
            "backgroundcolor": "#E5ECF6",
            "gridcolor": "white",
            "gridwidth": 2,
            "linecolor": "white",
            "showbackground": true,
            "ticks": "",
            "zerolinecolor": "white"
           },
           "yaxis": {
            "backgroundcolor": "#E5ECF6",
            "gridcolor": "white",
            "gridwidth": 2,
            "linecolor": "white",
            "showbackground": true,
            "ticks": "",
            "zerolinecolor": "white"
           },
           "zaxis": {
            "backgroundcolor": "#E5ECF6",
            "gridcolor": "white",
            "gridwidth": 2,
            "linecolor": "white",
            "showbackground": true,
            "ticks": "",
            "zerolinecolor": "white"
           }
          },
          "shapedefaults": {
           "line": {
            "color": "#2a3f5f"
           }
          },
          "ternary": {
           "aaxis": {
            "gridcolor": "white",
            "linecolor": "white",
            "ticks": ""
           },
           "baxis": {
            "gridcolor": "white",
            "linecolor": "white",
            "ticks": ""
           },
           "bgcolor": "#E5ECF6",
           "caxis": {
            "gridcolor": "white",
            "linecolor": "white",
            "ticks": ""
           }
          },
          "title": {
           "x": 0.05
          },
          "xaxis": {
           "automargin": true,
           "gridcolor": "white",
           "linecolor": "white",
           "ticks": "",
           "title": {
            "standoff": 15
           },
           "zerolinecolor": "white",
           "zerolinewidth": 2
          },
          "yaxis": {
           "automargin": true,
           "gridcolor": "white",
           "linecolor": "white",
           "ticks": "",
           "title": {
            "standoff": 15
           },
           "zerolinecolor": "white",
           "zerolinewidth": 2
          }
         }
        },
        "title": {
         "font": {
          "color": "#151516"
         }
        },
        "xaxis": {
         "gridcolor": "#F6F6F6",
         "showgrid": true,
         "tickfont": {
          "color": "#666666"
         },
         "title": {
          "font": {
           "color": "#666666"
          },
          "text": ""
         },
         "zerolinecolor": "#F6F6F6"
        },
        "yaxis": {
         "gridcolor": "#F6F6F6",
         "showgrid": true,
         "tickfont": {
          "color": "#666666"
         },
         "title": {
          "font": {
           "color": "#666666"
          },
          "text": ""
         },
         "zerolinecolor": "#F6F6F6"
        }
       }
      },
      "text/html": [
       "<div>                            <div id=\"a402f464-e190-4063-b46d-765fac4c9223\" class=\"plotly-graph-div\" style=\"height:525px; width:100%;\"></div>            <script type=\"text/javascript\">                require([\"plotly\"], function(Plotly) {                    window.PLOTLYENV=window.PLOTLYENV || {};\n",
       "                    window.PLOTLYENV.BASE_URL='https://plot.ly';                                    if (document.getElementById(\"a402f464-e190-4063-b46d-765fac4c9223\")) {                    Plotly.newPlot(                        \"a402f464-e190-4063-b46d-765fac4c9223\",                        [{\"marker\":{\"color\":\"rgba(226, 74, 51, 0.6)\",\"line\":{\"color\":\"rgba(226, 74, 51, 1.0)\",\"width\":1}},\"name\":\"None\",\"orientation\":\"v\",\"text\":\"\",\"x\":[\"dayofweek\",\"hour\",\"age\",\"numscreens\",\"minigame\",\"used_premium_feature\",\"enrolled\",\"liked\"],\"y\":[0.011326323809027998,-0.06669350839173423,-0.13130308608972932,0.2094568668855473,0.1049793698748216,-0.05270288884568459,1.0,-0.007022190094899388],\"type\":\"bar\"}],                        {\"legend\":{\"bgcolor\":\"#FFFFFF\",\"font\":{\"color\":\"#666666\"}},\"paper_bgcolor\":\"#FFFFFF\",\"plot_bgcolor\":\"#E5E5E5\",\"template\":{\"data\":{\"barpolar\":[{\"marker\":{\"line\":{\"color\":\"#E5ECF6\",\"width\":0.5},\"pattern\":{\"fillmode\":\"overlay\",\"size\":10,\"solidity\":0.2}},\"type\":\"barpolar\"}],\"bar\":[{\"error_x\":{\"color\":\"#2a3f5f\"},\"error_y\":{\"color\":\"#2a3f5f\"},\"marker\":{\"line\":{\"color\":\"#E5ECF6\",\"width\":0.5},\"pattern\":{\"fillmode\":\"overlay\",\"size\":10,\"solidity\":0.2}},\"type\":\"bar\"}],\"carpet\":[{\"aaxis\":{\"endlinecolor\":\"#2a3f5f\",\"gridcolor\":\"white\",\"linecolor\":\"white\",\"minorgridcolor\":\"white\",\"startlinecolor\":\"#2a3f5f\"},\"baxis\":{\"endlinecolor\":\"#2a3f5f\",\"gridcolor\":\"white\",\"linecolor\":\"white\",\"minorgridcolor\":\"white\",\"startlinecolor\":\"#2a3f5f\"},\"type\":\"carpet\"}],\"choropleth\":[{\"colorbar\":{\"outlinewidth\":0,\"ticks\":\"\"},\"type\":\"choropleth\"}],\"contourcarpet\":[{\"colorbar\":{\"outlinewidth\":0,\"ticks\":\"\"},\"type\":\"contourcarpet\"}],\"contour\":[{\"colorbar\":{\"outlinewidth\":0,\"ticks\":\"\"},\"colorscale\":[[0.0,\"#0d0887\"],[0.1111111111111111,\"#46039f\"],[0.2222222222222222,\"#7201a8\"],[0.3333333333333333,\"#9c179e\"],[0.4444444444444444,\"#bd3786\"],[0.5555555555555556,\"#d8576b\"],[0.6666666666666666,\"#ed7953\"],[0.7777777777777778,\"#fb9f3a\"],[0.8888888888888888,\"#fdca26\"],[1.0,\"#f0f921\"]],\"type\":\"contour\"}],\"heatmapgl\":[{\"colorbar\":{\"outlinewidth\":0,\"ticks\":\"\"},\"colorscale\":[[0.0,\"#0d0887\"],[0.1111111111111111,\"#46039f\"],[0.2222222222222222,\"#7201a8\"],[0.3333333333333333,\"#9c179e\"],[0.4444444444444444,\"#bd3786\"],[0.5555555555555556,\"#d8576b\"],[0.6666666666666666,\"#ed7953\"],[0.7777777777777778,\"#fb9f3a\"],[0.8888888888888888,\"#fdca26\"],[1.0,\"#f0f921\"]],\"type\":\"heatmapgl\"}],\"heatmap\":[{\"colorbar\":{\"outlinewidth\":0,\"ticks\":\"\"},\"colorscale\":[[0.0,\"#0d0887\"],[0.1111111111111111,\"#46039f\"],[0.2222222222222222,\"#7201a8\"],[0.3333333333333333,\"#9c179e\"],[0.4444444444444444,\"#bd3786\"],[0.5555555555555556,\"#d8576b\"],[0.6666666666666666,\"#ed7953\"],[0.7777777777777778,\"#fb9f3a\"],[0.8888888888888888,\"#fdca26\"],[1.0,\"#f0f921\"]],\"type\":\"heatmap\"}],\"histogram2dcontour\":[{\"colorbar\":{\"outlinewidth\":0,\"ticks\":\"\"},\"colorscale\":[[0.0,\"#0d0887\"],[0.1111111111111111,\"#46039f\"],[0.2222222222222222,\"#7201a8\"],[0.3333333333333333,\"#9c179e\"],[0.4444444444444444,\"#bd3786\"],[0.5555555555555556,\"#d8576b\"],[0.6666666666666666,\"#ed7953\"],[0.7777777777777778,\"#fb9f3a\"],[0.8888888888888888,\"#fdca26\"],[1.0,\"#f0f921\"]],\"type\":\"histogram2dcontour\"}],\"histogram2d\":[{\"colorbar\":{\"outlinewidth\":0,\"ticks\":\"\"},\"colorscale\":[[0.0,\"#0d0887\"],[0.1111111111111111,\"#46039f\"],[0.2222222222222222,\"#7201a8\"],[0.3333333333333333,\"#9c179e\"],[0.4444444444444444,\"#bd3786\"],[0.5555555555555556,\"#d8576b\"],[0.6666666666666666,\"#ed7953\"],[0.7777777777777778,\"#fb9f3a\"],[0.8888888888888888,\"#fdca26\"],[1.0,\"#f0f921\"]],\"type\":\"histogram2d\"}],\"histogram\":[{\"marker\":{\"pattern\":{\"fillmode\":\"overlay\",\"size\":10,\"solidity\":0.2}},\"type\":\"histogram\"}],\"mesh3d\":[{\"colorbar\":{\"outlinewidth\":0,\"ticks\":\"\"},\"type\":\"mesh3d\"}],\"parcoords\":[{\"line\":{\"colorbar\":{\"outlinewidth\":0,\"ticks\":\"\"}},\"type\":\"parcoords\"}],\"pie\":[{\"automargin\":true,\"type\":\"pie\"}],\"scatter3d\":[{\"line\":{\"colorbar\":{\"outlinewidth\":0,\"ticks\":\"\"}},\"marker\":{\"colorbar\":{\"outlinewidth\":0,\"ticks\":\"\"}},\"type\":\"scatter3d\"}],\"scattercarpet\":[{\"marker\":{\"colorbar\":{\"outlinewidth\":0,\"ticks\":\"\"}},\"type\":\"scattercarpet\"}],\"scattergeo\":[{\"marker\":{\"colorbar\":{\"outlinewidth\":0,\"ticks\":\"\"}},\"type\":\"scattergeo\"}],\"scattergl\":[{\"marker\":{\"colorbar\":{\"outlinewidth\":0,\"ticks\":\"\"}},\"type\":\"scattergl\"}],\"scattermapbox\":[{\"marker\":{\"colorbar\":{\"outlinewidth\":0,\"ticks\":\"\"}},\"type\":\"scattermapbox\"}],\"scatterpolargl\":[{\"marker\":{\"colorbar\":{\"outlinewidth\":0,\"ticks\":\"\"}},\"type\":\"scatterpolargl\"}],\"scatterpolar\":[{\"marker\":{\"colorbar\":{\"outlinewidth\":0,\"ticks\":\"\"}},\"type\":\"scatterpolar\"}],\"scatter\":[{\"fillpattern\":{\"fillmode\":\"overlay\",\"size\":10,\"solidity\":0.2},\"type\":\"scatter\"}],\"scatterternary\":[{\"marker\":{\"colorbar\":{\"outlinewidth\":0,\"ticks\":\"\"}},\"type\":\"scatterternary\"}],\"surface\":[{\"colorbar\":{\"outlinewidth\":0,\"ticks\":\"\"},\"colorscale\":[[0.0,\"#0d0887\"],[0.1111111111111111,\"#46039f\"],[0.2222222222222222,\"#7201a8\"],[0.3333333333333333,\"#9c179e\"],[0.4444444444444444,\"#bd3786\"],[0.5555555555555556,\"#d8576b\"],[0.6666666666666666,\"#ed7953\"],[0.7777777777777778,\"#fb9f3a\"],[0.8888888888888888,\"#fdca26\"],[1.0,\"#f0f921\"]],\"type\":\"surface\"}],\"table\":[{\"cells\":{\"fill\":{\"color\":\"#EBF0F8\"},\"line\":{\"color\":\"white\"}},\"header\":{\"fill\":{\"color\":\"#C8D4E3\"},\"line\":{\"color\":\"white\"}},\"type\":\"table\"}]},\"layout\":{\"annotationdefaults\":{\"arrowcolor\":\"#2a3f5f\",\"arrowhead\":0,\"arrowwidth\":1},\"autotypenumbers\":\"strict\",\"coloraxis\":{\"colorbar\":{\"outlinewidth\":0,\"ticks\":\"\"}},\"colorscale\":{\"diverging\":[[0,\"#8e0152\"],[0.1,\"#c51b7d\"],[0.2,\"#de77ae\"],[0.3,\"#f1b6da\"],[0.4,\"#fde0ef\"],[0.5,\"#f7f7f7\"],[0.6,\"#e6f5d0\"],[0.7,\"#b8e186\"],[0.8,\"#7fbc41\"],[0.9,\"#4d9221\"],[1,\"#276419\"]],\"sequential\":[[0.0,\"#0d0887\"],[0.1111111111111111,\"#46039f\"],[0.2222222222222222,\"#7201a8\"],[0.3333333333333333,\"#9c179e\"],[0.4444444444444444,\"#bd3786\"],[0.5555555555555556,\"#d8576b\"],[0.6666666666666666,\"#ed7953\"],[0.7777777777777778,\"#fb9f3a\"],[0.8888888888888888,\"#fdca26\"],[1.0,\"#f0f921\"]],\"sequentialminus\":[[0.0,\"#0d0887\"],[0.1111111111111111,\"#46039f\"],[0.2222222222222222,\"#7201a8\"],[0.3333333333333333,\"#9c179e\"],[0.4444444444444444,\"#bd3786\"],[0.5555555555555556,\"#d8576b\"],[0.6666666666666666,\"#ed7953\"],[0.7777777777777778,\"#fb9f3a\"],[0.8888888888888888,\"#fdca26\"],[1.0,\"#f0f921\"]]},\"colorway\":[\"#636efa\",\"#EF553B\",\"#00cc96\",\"#ab63fa\",\"#FFA15A\",\"#19d3f3\",\"#FF6692\",\"#B6E880\",\"#FF97FF\",\"#FECB52\"],\"font\":{\"color\":\"#2a3f5f\"},\"geo\":{\"bgcolor\":\"white\",\"lakecolor\":\"white\",\"landcolor\":\"#E5ECF6\",\"showlakes\":true,\"showland\":true,\"subunitcolor\":\"white\"},\"hoverlabel\":{\"align\":\"left\"},\"hovermode\":\"closest\",\"mapbox\":{\"style\":\"light\"},\"paper_bgcolor\":\"white\",\"plot_bgcolor\":\"#E5ECF6\",\"polar\":{\"angularaxis\":{\"gridcolor\":\"white\",\"linecolor\":\"white\",\"ticks\":\"\"},\"bgcolor\":\"#E5ECF6\",\"radialaxis\":{\"gridcolor\":\"white\",\"linecolor\":\"white\",\"ticks\":\"\"}},\"scene\":{\"xaxis\":{\"backgroundcolor\":\"#E5ECF6\",\"gridcolor\":\"white\",\"gridwidth\":2,\"linecolor\":\"white\",\"showbackground\":true,\"ticks\":\"\",\"zerolinecolor\":\"white\"},\"yaxis\":{\"backgroundcolor\":\"#E5ECF6\",\"gridcolor\":\"white\",\"gridwidth\":2,\"linecolor\":\"white\",\"showbackground\":true,\"ticks\":\"\",\"zerolinecolor\":\"white\"},\"zaxis\":{\"backgroundcolor\":\"#E5ECF6\",\"gridcolor\":\"white\",\"gridwidth\":2,\"linecolor\":\"white\",\"showbackground\":true,\"ticks\":\"\",\"zerolinecolor\":\"white\"}},\"shapedefaults\":{\"line\":{\"color\":\"#2a3f5f\"}},\"ternary\":{\"aaxis\":{\"gridcolor\":\"white\",\"linecolor\":\"white\",\"ticks\":\"\"},\"baxis\":{\"gridcolor\":\"white\",\"linecolor\":\"white\",\"ticks\":\"\"},\"bgcolor\":\"#E5ECF6\",\"caxis\":{\"gridcolor\":\"white\",\"linecolor\":\"white\",\"ticks\":\"\"}},\"title\":{\"x\":0.05},\"xaxis\":{\"automargin\":true,\"gridcolor\":\"white\",\"linecolor\":\"white\",\"ticks\":\"\",\"title\":{\"standoff\":15},\"zerolinecolor\":\"white\",\"zerolinewidth\":2},\"yaxis\":{\"automargin\":true,\"gridcolor\":\"white\",\"linecolor\":\"white\",\"ticks\":\"\",\"title\":{\"standoff\":15},\"zerolinecolor\":\"white\",\"zerolinewidth\":2}}},\"title\":{\"font\":{\"color\":\"#151516\"}},\"xaxis\":{\"gridcolor\":\"#F6F6F6\",\"showgrid\":true,\"tickfont\":{\"color\":\"#666666\"},\"title\":{\"font\":{\"color\":\"#666666\"},\"text\":\"\"},\"zerolinecolor\":\"#F6F6F6\"},\"yaxis\":{\"gridcolor\":\"#F6F6F6\",\"showgrid\":true,\"tickfont\":{\"color\":\"#666666\"},\"title\":{\"font\":{\"color\":\"#666666\"},\"text\":\"\"},\"zerolinecolor\":\"#F6F6F6\"}},                        {\"showLink\": true, \"linkText\": \"Export to plot.ly\", \"plotlyServerURL\": \"https://plot.ly\", \"responsive\": true}                    ).then(function(){\n",
       "                            \n",
       "var gd = document.getElementById('a402f464-e190-4063-b46d-765fac4c9223');\n",
       "var x = new MutationObserver(function (mutations, observer) {{\n",
       "        var display = window.getComputedStyle(gd).display;\n",
       "        if (!display || display === 'none') {{\n",
       "            console.log([gd, 'removed!']);\n",
       "            Plotly.purge(gd);\n",
       "            observer.disconnect();\n",
       "        }}\n",
       "}});\n",
       "\n",
       "// Listen for the removal of the full notebook cells\n",
       "var notebookContainer = gd.closest('#notebook-container');\n",
       "if (notebookContainer) {{\n",
       "    x.observe(notebookContainer, {childList: true});\n",
       "}}\n",
       "\n",
       "// Listen for the clearing of the current output cell\n",
       "var outputEl = gd.closest('.output');\n",
       "if (outputEl) {{\n",
       "    x.observe(outputEl, {childList: true});\n",
       "}}\n",
       "\n",
       "                        })                };                });            </script>        </div>"
      ]
     },
     "metadata": {},
     "output_type": "display_data"
    }
   ],
   "source": [
    "\n",
    "dataset2.corrwith(dataset2['enrolled']).iplot('bar',theme='ggplot')"
   ]
  },
  {
   "cell_type": "code",
   "execution_count": 16,
   "id": "93146ece",
   "metadata": {},
   "outputs": [
    {
     "data": {
      "text/plain": [
       "['ggplot', 'pearl', 'solar', 'space', 'white', 'polar', 'henanigans']"
      ]
     },
     "execution_count": 16,
     "metadata": {},
     "output_type": "execute_result"
    }
   ],
   "source": [
    "cf.getThemes()"
   ]
  },
  {
   "cell_type": "code",
   "execution_count": null,
   "id": "6260096c",
   "metadata": {},
   "outputs": [],
   "source": []
  },
  {
   "cell_type": "code",
   "execution_count": 17,
   "id": "8535ba21",
   "metadata": {},
   "outputs": [
    {
     "data": {
      "text/html": [
       "<div>\n",
       "<style scoped>\n",
       "    .dataframe tbody tr th:only-of-type {\n",
       "        vertical-align: middle;\n",
       "    }\n",
       "\n",
       "    .dataframe tbody tr th {\n",
       "        vertical-align: top;\n",
       "    }\n",
       "\n",
       "    .dataframe thead th {\n",
       "        text-align: right;\n",
       "    }\n",
       "</style>\n",
       "<table border=\"1\" class=\"dataframe\">\n",
       "  <thead>\n",
       "    <tr style=\"text-align: right;\">\n",
       "      <th></th>\n",
       "      <th>user</th>\n",
       "      <th>first_open</th>\n",
       "      <th>dayofweek</th>\n",
       "      <th>hour</th>\n",
       "      <th>age</th>\n",
       "      <th>screen_list</th>\n",
       "      <th>numscreens</th>\n",
       "      <th>minigame</th>\n",
       "      <th>used_premium_feature</th>\n",
       "      <th>enrolled</th>\n",
       "      <th>enrolled_date</th>\n",
       "      <th>liked</th>\n",
       "    </tr>\n",
       "  </thead>\n",
       "  <tbody>\n",
       "    <tr>\n",
       "      <th>0</th>\n",
       "      <td>235136</td>\n",
       "      <td>2012-12-27 02:14:51.273</td>\n",
       "      <td>3</td>\n",
       "      <td>2</td>\n",
       "      <td>23</td>\n",
       "      <td>idscreen,joinscreen,Cycle,product_review,ScanP...</td>\n",
       "      <td>15</td>\n",
       "      <td>0</td>\n",
       "      <td>0</td>\n",
       "      <td>0</td>\n",
       "      <td>NaN</td>\n",
       "      <td>0</td>\n",
       "    </tr>\n",
       "    <tr>\n",
       "      <th>1</th>\n",
       "      <td>333588</td>\n",
       "      <td>2012-12-02 01:16:00.905</td>\n",
       "      <td>6</td>\n",
       "      <td>1</td>\n",
       "      <td>24</td>\n",
       "      <td>joinscreen,product_review,product_review2,Scan...</td>\n",
       "      <td>13</td>\n",
       "      <td>0</td>\n",
       "      <td>0</td>\n",
       "      <td>0</td>\n",
       "      <td>NaN</td>\n",
       "      <td>0</td>\n",
       "    </tr>\n",
       "    <tr>\n",
       "      <th>2</th>\n",
       "      <td>254414</td>\n",
       "      <td>2013-03-19 19:19:09.157</td>\n",
       "      <td>1</td>\n",
       "      <td>19</td>\n",
       "      <td>23</td>\n",
       "      <td>Splash,Cycle,Loan</td>\n",
       "      <td>3</td>\n",
       "      <td>0</td>\n",
       "      <td>1</td>\n",
       "      <td>0</td>\n",
       "      <td>NaN</td>\n",
       "      <td>1</td>\n",
       "    </tr>\n",
       "    <tr>\n",
       "      <th>3</th>\n",
       "      <td>234192</td>\n",
       "      <td>2013-07-05 16:08:46.354</td>\n",
       "      <td>4</td>\n",
       "      <td>16</td>\n",
       "      <td>28</td>\n",
       "      <td>product_review,Home,product_review,Loan3,Finan...</td>\n",
       "      <td>40</td>\n",
       "      <td>0</td>\n",
       "      <td>0</td>\n",
       "      <td>1</td>\n",
       "      <td>2013-07-05 16:11:49.513</td>\n",
       "      <td>0</td>\n",
       "    </tr>\n",
       "    <tr>\n",
       "      <th>4</th>\n",
       "      <td>51549</td>\n",
       "      <td>2013-02-26 18:50:48.661</td>\n",
       "      <td>1</td>\n",
       "      <td>18</td>\n",
       "      <td>31</td>\n",
       "      <td>idscreen,joinscreen,Cycle,Credit3Container,Sca...</td>\n",
       "      <td>32</td>\n",
       "      <td>0</td>\n",
       "      <td>0</td>\n",
       "      <td>1</td>\n",
       "      <td>2013-02-26 18:56:37.841</td>\n",
       "      <td>1</td>\n",
       "    </tr>\n",
       "  </tbody>\n",
       "</table>\n",
       "</div>"
      ],
      "text/plain": [
       "     user               first_open  dayofweek  hour  age  \\\n",
       "0  235136  2012-12-27 02:14:51.273          3     2   23   \n",
       "1  333588  2012-12-02 01:16:00.905          6     1   24   \n",
       "2  254414  2013-03-19 19:19:09.157          1    19   23   \n",
       "3  234192  2013-07-05 16:08:46.354          4    16   28   \n",
       "4   51549  2013-02-26 18:50:48.661          1    18   31   \n",
       "\n",
       "                                         screen_list  numscreens  minigame  \\\n",
       "0  idscreen,joinscreen,Cycle,product_review,ScanP...          15         0   \n",
       "1  joinscreen,product_review,product_review2,Scan...          13         0   \n",
       "2                                  Splash,Cycle,Loan           3         0   \n",
       "3  product_review,Home,product_review,Loan3,Finan...          40         0   \n",
       "4  idscreen,joinscreen,Cycle,Credit3Container,Sca...          32         0   \n",
       "\n",
       "   used_premium_feature  enrolled            enrolled_date  liked  \n",
       "0                     0         0                      NaN      0  \n",
       "1                     0         0                      NaN      0  \n",
       "2                     1         0                      NaN      1  \n",
       "3                     0         1  2013-07-05 16:11:49.513      0  \n",
       "4                     0         1  2013-02-26 18:56:37.841      1  "
      ]
     },
     "execution_count": 17,
     "metadata": {},
     "output_type": "execute_result"
    }
   ],
   "source": [
    "dataset.head()"
   ]
  },
  {
   "cell_type": "code",
   "execution_count": 18,
   "id": "b19a7b63",
   "metadata": {},
   "outputs": [],
   "source": [
    "dataset['first_open']=[parser.parse(row_data) for row_data in dataset['first_open']]"
   ]
  },
  {
   "cell_type": "code",
   "execution_count": 19,
   "id": "3be31262",
   "metadata": {},
   "outputs": [
    {
     "data": {
      "text/html": [
       "<div>\n",
       "<style scoped>\n",
       "    .dataframe tbody tr th:only-of-type {\n",
       "        vertical-align: middle;\n",
       "    }\n",
       "\n",
       "    .dataframe tbody tr th {\n",
       "        vertical-align: top;\n",
       "    }\n",
       "\n",
       "    .dataframe thead th {\n",
       "        text-align: right;\n",
       "    }\n",
       "</style>\n",
       "<table border=\"1\" class=\"dataframe\">\n",
       "  <thead>\n",
       "    <tr style=\"text-align: right;\">\n",
       "      <th></th>\n",
       "      <th>user</th>\n",
       "      <th>first_open</th>\n",
       "      <th>dayofweek</th>\n",
       "      <th>hour</th>\n",
       "      <th>age</th>\n",
       "      <th>screen_list</th>\n",
       "      <th>numscreens</th>\n",
       "      <th>minigame</th>\n",
       "      <th>used_premium_feature</th>\n",
       "      <th>enrolled</th>\n",
       "      <th>enrolled_date</th>\n",
       "      <th>liked</th>\n",
       "    </tr>\n",
       "  </thead>\n",
       "  <tbody>\n",
       "    <tr>\n",
       "      <th>0</th>\n",
       "      <td>235136</td>\n",
       "      <td>2012-12-27 02:14:51.273</td>\n",
       "      <td>3</td>\n",
       "      <td>2</td>\n",
       "      <td>23</td>\n",
       "      <td>idscreen,joinscreen,Cycle,product_review,ScanP...</td>\n",
       "      <td>15</td>\n",
       "      <td>0</td>\n",
       "      <td>0</td>\n",
       "      <td>0</td>\n",
       "      <td>NaN</td>\n",
       "      <td>0</td>\n",
       "    </tr>\n",
       "    <tr>\n",
       "      <th>1</th>\n",
       "      <td>333588</td>\n",
       "      <td>2012-12-02 01:16:00.905</td>\n",
       "      <td>6</td>\n",
       "      <td>1</td>\n",
       "      <td>24</td>\n",
       "      <td>joinscreen,product_review,product_review2,Scan...</td>\n",
       "      <td>13</td>\n",
       "      <td>0</td>\n",
       "      <td>0</td>\n",
       "      <td>0</td>\n",
       "      <td>NaN</td>\n",
       "      <td>0</td>\n",
       "    </tr>\n",
       "    <tr>\n",
       "      <th>2</th>\n",
       "      <td>254414</td>\n",
       "      <td>2013-03-19 19:19:09.157</td>\n",
       "      <td>1</td>\n",
       "      <td>19</td>\n",
       "      <td>23</td>\n",
       "      <td>Splash,Cycle,Loan</td>\n",
       "      <td>3</td>\n",
       "      <td>0</td>\n",
       "      <td>1</td>\n",
       "      <td>0</td>\n",
       "      <td>NaN</td>\n",
       "      <td>1</td>\n",
       "    </tr>\n",
       "    <tr>\n",
       "      <th>3</th>\n",
       "      <td>234192</td>\n",
       "      <td>2013-07-05 16:08:46.354</td>\n",
       "      <td>4</td>\n",
       "      <td>16</td>\n",
       "      <td>28</td>\n",
       "      <td>product_review,Home,product_review,Loan3,Finan...</td>\n",
       "      <td>40</td>\n",
       "      <td>0</td>\n",
       "      <td>0</td>\n",
       "      <td>1</td>\n",
       "      <td>2013-07-05 16:11:49.513</td>\n",
       "      <td>0</td>\n",
       "    </tr>\n",
       "    <tr>\n",
       "      <th>4</th>\n",
       "      <td>51549</td>\n",
       "      <td>2013-02-26 18:50:48.661</td>\n",
       "      <td>1</td>\n",
       "      <td>18</td>\n",
       "      <td>31</td>\n",
       "      <td>idscreen,joinscreen,Cycle,Credit3Container,Sca...</td>\n",
       "      <td>32</td>\n",
       "      <td>0</td>\n",
       "      <td>0</td>\n",
       "      <td>1</td>\n",
       "      <td>2013-02-26 18:56:37.841</td>\n",
       "      <td>1</td>\n",
       "    </tr>\n",
       "  </tbody>\n",
       "</table>\n",
       "</div>"
      ],
      "text/plain": [
       "     user              first_open  dayofweek  hour  age  \\\n",
       "0  235136 2012-12-27 02:14:51.273          3     2   23   \n",
       "1  333588 2012-12-02 01:16:00.905          6     1   24   \n",
       "2  254414 2013-03-19 19:19:09.157          1    19   23   \n",
       "3  234192 2013-07-05 16:08:46.354          4    16   28   \n",
       "4   51549 2013-02-26 18:50:48.661          1    18   31   \n",
       "\n",
       "                                         screen_list  numscreens  minigame  \\\n",
       "0  idscreen,joinscreen,Cycle,product_review,ScanP...          15         0   \n",
       "1  joinscreen,product_review,product_review2,Scan...          13         0   \n",
       "2                                  Splash,Cycle,Loan           3         0   \n",
       "3  product_review,Home,product_review,Loan3,Finan...          40         0   \n",
       "4  idscreen,joinscreen,Cycle,Credit3Container,Sca...          32         0   \n",
       "\n",
       "   used_premium_feature  enrolled            enrolled_date  liked  \n",
       "0                     0         0                      NaN      0  \n",
       "1                     0         0                      NaN      0  \n",
       "2                     1         0                      NaN      1  \n",
       "3                     0         1  2013-07-05 16:11:49.513      0  \n",
       "4                     0         1  2013-02-26 18:56:37.841      1  "
      ]
     },
     "execution_count": 19,
     "metadata": {},
     "output_type": "execute_result"
    }
   ],
   "source": [
    "dataset.head()"
   ]
  },
  {
   "cell_type": "code",
   "execution_count": 20,
   "id": "dd674366",
   "metadata": {},
   "outputs": [],
   "source": [
    "dataset[\"enrolled_date\"] = [parser.parse(row_date) if isinstance(row_date,str) else row_date for row_date in dataset['enrolled_date']]"
   ]
  },
  {
   "cell_type": "code",
   "execution_count": 21,
   "id": "7c214f12",
   "metadata": {},
   "outputs": [],
   "source": [
    "dataset['difference']=dataset[\"enrolled_date\"]-dataset[\"first_open\"]"
   ]
  },
  {
   "cell_type": "code",
   "execution_count": 22,
   "id": "f22e471e",
   "metadata": {},
   "outputs": [
    {
     "data": {
      "text/html": [
       "<div>\n",
       "<style scoped>\n",
       "    .dataframe tbody tr th:only-of-type {\n",
       "        vertical-align: middle;\n",
       "    }\n",
       "\n",
       "    .dataframe tbody tr th {\n",
       "        vertical-align: top;\n",
       "    }\n",
       "\n",
       "    .dataframe thead th {\n",
       "        text-align: right;\n",
       "    }\n",
       "</style>\n",
       "<table border=\"1\" class=\"dataframe\">\n",
       "  <thead>\n",
       "    <tr style=\"text-align: right;\">\n",
       "      <th></th>\n",
       "      <th>user</th>\n",
       "      <th>first_open</th>\n",
       "      <th>dayofweek</th>\n",
       "      <th>hour</th>\n",
       "      <th>age</th>\n",
       "      <th>screen_list</th>\n",
       "      <th>numscreens</th>\n",
       "      <th>minigame</th>\n",
       "      <th>used_premium_feature</th>\n",
       "      <th>enrolled</th>\n",
       "      <th>enrolled_date</th>\n",
       "      <th>liked</th>\n",
       "      <th>difference</th>\n",
       "    </tr>\n",
       "  </thead>\n",
       "  <tbody>\n",
       "    <tr>\n",
       "      <th>0</th>\n",
       "      <td>235136</td>\n",
       "      <td>2012-12-27 02:14:51.273</td>\n",
       "      <td>3</td>\n",
       "      <td>2</td>\n",
       "      <td>23</td>\n",
       "      <td>idscreen,joinscreen,Cycle,product_review,ScanP...</td>\n",
       "      <td>15</td>\n",
       "      <td>0</td>\n",
       "      <td>0</td>\n",
       "      <td>0</td>\n",
       "      <td>NaT</td>\n",
       "      <td>0</td>\n",
       "      <td>NaT</td>\n",
       "    </tr>\n",
       "    <tr>\n",
       "      <th>1</th>\n",
       "      <td>333588</td>\n",
       "      <td>2012-12-02 01:16:00.905</td>\n",
       "      <td>6</td>\n",
       "      <td>1</td>\n",
       "      <td>24</td>\n",
       "      <td>joinscreen,product_review,product_review2,Scan...</td>\n",
       "      <td>13</td>\n",
       "      <td>0</td>\n",
       "      <td>0</td>\n",
       "      <td>0</td>\n",
       "      <td>NaT</td>\n",
       "      <td>0</td>\n",
       "      <td>NaT</td>\n",
       "    </tr>\n",
       "    <tr>\n",
       "      <th>2</th>\n",
       "      <td>254414</td>\n",
       "      <td>2013-03-19 19:19:09.157</td>\n",
       "      <td>1</td>\n",
       "      <td>19</td>\n",
       "      <td>23</td>\n",
       "      <td>Splash,Cycle,Loan</td>\n",
       "      <td>3</td>\n",
       "      <td>0</td>\n",
       "      <td>1</td>\n",
       "      <td>0</td>\n",
       "      <td>NaT</td>\n",
       "      <td>1</td>\n",
       "      <td>NaT</td>\n",
       "    </tr>\n",
       "    <tr>\n",
       "      <th>3</th>\n",
       "      <td>234192</td>\n",
       "      <td>2013-07-05 16:08:46.354</td>\n",
       "      <td>4</td>\n",
       "      <td>16</td>\n",
       "      <td>28</td>\n",
       "      <td>product_review,Home,product_review,Loan3,Finan...</td>\n",
       "      <td>40</td>\n",
       "      <td>0</td>\n",
       "      <td>0</td>\n",
       "      <td>1</td>\n",
       "      <td>2013-07-05 16:11:49.513</td>\n",
       "      <td>0</td>\n",
       "      <td>0 days 00:03:03.159000</td>\n",
       "    </tr>\n",
       "    <tr>\n",
       "      <th>4</th>\n",
       "      <td>51549</td>\n",
       "      <td>2013-02-26 18:50:48.661</td>\n",
       "      <td>1</td>\n",
       "      <td>18</td>\n",
       "      <td>31</td>\n",
       "      <td>idscreen,joinscreen,Cycle,Credit3Container,Sca...</td>\n",
       "      <td>32</td>\n",
       "      <td>0</td>\n",
       "      <td>0</td>\n",
       "      <td>1</td>\n",
       "      <td>2013-02-26 18:56:37.841</td>\n",
       "      <td>1</td>\n",
       "      <td>0 days 00:05:49.180000</td>\n",
       "    </tr>\n",
       "  </tbody>\n",
       "</table>\n",
       "</div>"
      ],
      "text/plain": [
       "     user              first_open  dayofweek  hour  age  \\\n",
       "0  235136 2012-12-27 02:14:51.273          3     2   23   \n",
       "1  333588 2012-12-02 01:16:00.905          6     1   24   \n",
       "2  254414 2013-03-19 19:19:09.157          1    19   23   \n",
       "3  234192 2013-07-05 16:08:46.354          4    16   28   \n",
       "4   51549 2013-02-26 18:50:48.661          1    18   31   \n",
       "\n",
       "                                         screen_list  numscreens  minigame  \\\n",
       "0  idscreen,joinscreen,Cycle,product_review,ScanP...          15         0   \n",
       "1  joinscreen,product_review,product_review2,Scan...          13         0   \n",
       "2                                  Splash,Cycle,Loan           3         0   \n",
       "3  product_review,Home,product_review,Loan3,Finan...          40         0   \n",
       "4  idscreen,joinscreen,Cycle,Credit3Container,Sca...          32         0   \n",
       "\n",
       "   used_premium_feature  enrolled           enrolled_date  liked  \\\n",
       "0                     0         0                     NaT      0   \n",
       "1                     0         0                     NaT      0   \n",
       "2                     1         0                     NaT      1   \n",
       "3                     0         1 2013-07-05 16:11:49.513      0   \n",
       "4                     0         1 2013-02-26 18:56:37.841      1   \n",
       "\n",
       "              difference  \n",
       "0                    NaT  \n",
       "1                    NaT  \n",
       "2                    NaT  \n",
       "3 0 days 00:03:03.159000  \n",
       "4 0 days 00:05:49.180000  "
      ]
     },
     "execution_count": 22,
     "metadata": {},
     "output_type": "execute_result"
    }
   ],
   "source": [
    "dataset.head()"
   ]
  },
  {
   "cell_type": "code",
   "execution_count": 23,
   "id": "70dbbe80",
   "metadata": {},
   "outputs": [],
   "source": [
    "dataset['difference']=dataset.difference.astype('timedelta64[h]')"
   ]
  },
  {
   "cell_type": "code",
   "execution_count": 24,
   "id": "91c829d9",
   "metadata": {},
   "outputs": [
    {
     "data": {
      "text/html": [
       "<div>\n",
       "<style scoped>\n",
       "    .dataframe tbody tr th:only-of-type {\n",
       "        vertical-align: middle;\n",
       "    }\n",
       "\n",
       "    .dataframe tbody tr th {\n",
       "        vertical-align: top;\n",
       "    }\n",
       "\n",
       "    .dataframe thead th {\n",
       "        text-align: right;\n",
       "    }\n",
       "</style>\n",
       "<table border=\"1\" class=\"dataframe\">\n",
       "  <thead>\n",
       "    <tr style=\"text-align: right;\">\n",
       "      <th></th>\n",
       "      <th>user</th>\n",
       "      <th>first_open</th>\n",
       "      <th>dayofweek</th>\n",
       "      <th>hour</th>\n",
       "      <th>age</th>\n",
       "      <th>screen_list</th>\n",
       "      <th>numscreens</th>\n",
       "      <th>minigame</th>\n",
       "      <th>used_premium_feature</th>\n",
       "      <th>enrolled</th>\n",
       "      <th>enrolled_date</th>\n",
       "      <th>liked</th>\n",
       "      <th>difference</th>\n",
       "    </tr>\n",
       "  </thead>\n",
       "  <tbody>\n",
       "    <tr>\n",
       "      <th>0</th>\n",
       "      <td>235136</td>\n",
       "      <td>2012-12-27 02:14:51.273</td>\n",
       "      <td>3</td>\n",
       "      <td>2</td>\n",
       "      <td>23</td>\n",
       "      <td>idscreen,joinscreen,Cycle,product_review,ScanP...</td>\n",
       "      <td>15</td>\n",
       "      <td>0</td>\n",
       "      <td>0</td>\n",
       "      <td>0</td>\n",
       "      <td>NaT</td>\n",
       "      <td>0</td>\n",
       "      <td>NaN</td>\n",
       "    </tr>\n",
       "    <tr>\n",
       "      <th>1</th>\n",
       "      <td>333588</td>\n",
       "      <td>2012-12-02 01:16:00.905</td>\n",
       "      <td>6</td>\n",
       "      <td>1</td>\n",
       "      <td>24</td>\n",
       "      <td>joinscreen,product_review,product_review2,Scan...</td>\n",
       "      <td>13</td>\n",
       "      <td>0</td>\n",
       "      <td>0</td>\n",
       "      <td>0</td>\n",
       "      <td>NaT</td>\n",
       "      <td>0</td>\n",
       "      <td>NaN</td>\n",
       "    </tr>\n",
       "    <tr>\n",
       "      <th>2</th>\n",
       "      <td>254414</td>\n",
       "      <td>2013-03-19 19:19:09.157</td>\n",
       "      <td>1</td>\n",
       "      <td>19</td>\n",
       "      <td>23</td>\n",
       "      <td>Splash,Cycle,Loan</td>\n",
       "      <td>3</td>\n",
       "      <td>0</td>\n",
       "      <td>1</td>\n",
       "      <td>0</td>\n",
       "      <td>NaT</td>\n",
       "      <td>1</td>\n",
       "      <td>NaN</td>\n",
       "    </tr>\n",
       "    <tr>\n",
       "      <th>3</th>\n",
       "      <td>234192</td>\n",
       "      <td>2013-07-05 16:08:46.354</td>\n",
       "      <td>4</td>\n",
       "      <td>16</td>\n",
       "      <td>28</td>\n",
       "      <td>product_review,Home,product_review,Loan3,Finan...</td>\n",
       "      <td>40</td>\n",
       "      <td>0</td>\n",
       "      <td>0</td>\n",
       "      <td>1</td>\n",
       "      <td>2013-07-05 16:11:49.513</td>\n",
       "      <td>0</td>\n",
       "      <td>0.0</td>\n",
       "    </tr>\n",
       "    <tr>\n",
       "      <th>4</th>\n",
       "      <td>51549</td>\n",
       "      <td>2013-02-26 18:50:48.661</td>\n",
       "      <td>1</td>\n",
       "      <td>18</td>\n",
       "      <td>31</td>\n",
       "      <td>idscreen,joinscreen,Cycle,Credit3Container,Sca...</td>\n",
       "      <td>32</td>\n",
       "      <td>0</td>\n",
       "      <td>0</td>\n",
       "      <td>1</td>\n",
       "      <td>2013-02-26 18:56:37.841</td>\n",
       "      <td>1</td>\n",
       "      <td>0.0</td>\n",
       "    </tr>\n",
       "    <tr>\n",
       "      <th>5</th>\n",
       "      <td>56480</td>\n",
       "      <td>2013-04-03 09:58:15.752</td>\n",
       "      <td>2</td>\n",
       "      <td>9</td>\n",
       "      <td>20</td>\n",
       "      <td>idscreen,Cycle,Home,ScanPreview,VerifyPhone,Ve...</td>\n",
       "      <td>14</td>\n",
       "      <td>0</td>\n",
       "      <td>0</td>\n",
       "      <td>1</td>\n",
       "      <td>2013-04-03 09:59:03.291</td>\n",
       "      <td>0</td>\n",
       "      <td>0.0</td>\n",
       "    </tr>\n",
       "    <tr>\n",
       "      <th>6</th>\n",
       "      <td>144649</td>\n",
       "      <td>2012-12-25 02:33:18.461</td>\n",
       "      <td>1</td>\n",
       "      <td>2</td>\n",
       "      <td>35</td>\n",
       "      <td>product_review,product_review2,ScanPreview</td>\n",
       "      <td>3</td>\n",
       "      <td>0</td>\n",
       "      <td>0</td>\n",
       "      <td>0</td>\n",
       "      <td>NaT</td>\n",
       "      <td>0</td>\n",
       "      <td>NaN</td>\n",
       "    </tr>\n",
       "    <tr>\n",
       "      <th>7</th>\n",
       "      <td>249366</td>\n",
       "      <td>2012-12-11 03:07:49.875</td>\n",
       "      <td>1</td>\n",
       "      <td>3</td>\n",
       "      <td>26</td>\n",
       "      <td>Splash,Cycle,Home,Credit3Container,Credit3Dash...</td>\n",
       "      <td>41</td>\n",
       "      <td>0</td>\n",
       "      <td>1</td>\n",
       "      <td>0</td>\n",
       "      <td>NaT</td>\n",
       "      <td>0</td>\n",
       "      <td>NaN</td>\n",
       "    </tr>\n",
       "    <tr>\n",
       "      <th>8</th>\n",
       "      <td>372004</td>\n",
       "      <td>2013-03-20 14:22:01.569</td>\n",
       "      <td>2</td>\n",
       "      <td>14</td>\n",
       "      <td>29</td>\n",
       "      <td>product_review,product_review2,ScanPreview,Ver...</td>\n",
       "      <td>33</td>\n",
       "      <td>1</td>\n",
       "      <td>1</td>\n",
       "      <td>1</td>\n",
       "      <td>2013-04-27 22:24:54.542</td>\n",
       "      <td>0</td>\n",
       "      <td>920.0</td>\n",
       "    </tr>\n",
       "    <tr>\n",
       "      <th>9</th>\n",
       "      <td>338013</td>\n",
       "      <td>2013-04-26 18:22:16.013</td>\n",
       "      <td>4</td>\n",
       "      <td>18</td>\n",
       "      <td>26</td>\n",
       "      <td>Home,Loan2,product_review,product_review,produ...</td>\n",
       "      <td>19</td>\n",
       "      <td>0</td>\n",
       "      <td>0</td>\n",
       "      <td>1</td>\n",
       "      <td>2013-04-26 18:31:58.923</td>\n",
       "      <td>0</td>\n",
       "      <td>0.0</td>\n",
       "    </tr>\n",
       "    <tr>\n",
       "      <th>10</th>\n",
       "      <td>43555</td>\n",
       "      <td>2013-05-14 04:48:27.597</td>\n",
       "      <td>1</td>\n",
       "      <td>4</td>\n",
       "      <td>39</td>\n",
       "      <td>Splash,idscreen,Home,RewardsContainer,Settings...</td>\n",
       "      <td>14</td>\n",
       "      <td>0</td>\n",
       "      <td>0</td>\n",
       "      <td>1</td>\n",
       "      <td>2013-05-15 21:02:17.200</td>\n",
       "      <td>0</td>\n",
       "      <td>40.0</td>\n",
       "    </tr>\n",
       "    <tr>\n",
       "      <th>11</th>\n",
       "      <td>317454</td>\n",
       "      <td>2013-05-28 11:07:07.358</td>\n",
       "      <td>1</td>\n",
       "      <td>11</td>\n",
       "      <td>32</td>\n",
       "      <td>product_review,Home,Loan2,Credit3Container,Ver...</td>\n",
       "      <td>25</td>\n",
       "      <td>1</td>\n",
       "      <td>1</td>\n",
       "      <td>0</td>\n",
       "      <td>NaT</td>\n",
       "      <td>0</td>\n",
       "      <td>NaN</td>\n",
       "    </tr>\n",
       "    <tr>\n",
       "      <th>12</th>\n",
       "      <td>205375</td>\n",
       "      <td>2012-12-17 06:28:45.903</td>\n",
       "      <td>0</td>\n",
       "      <td>6</td>\n",
       "      <td>25</td>\n",
       "      <td>idscreen,joinscreen,Cycle,product_review,produ...</td>\n",
       "      <td>11</td>\n",
       "      <td>0</td>\n",
       "      <td>0</td>\n",
       "      <td>0</td>\n",
       "      <td>NaT</td>\n",
       "      <td>0</td>\n",
       "      <td>NaN</td>\n",
       "    </tr>\n",
       "    <tr>\n",
       "      <th>13</th>\n",
       "      <td>307608</td>\n",
       "      <td>2013-05-25 19:52:31.798</td>\n",
       "      <td>5</td>\n",
       "      <td>19</td>\n",
       "      <td>23</td>\n",
       "      <td>Alerts,ProfilePage,Home,Credit3Container</td>\n",
       "      <td>4</td>\n",
       "      <td>0</td>\n",
       "      <td>0</td>\n",
       "      <td>1</td>\n",
       "      <td>2013-06-18 14:27:42.824</td>\n",
       "      <td>0</td>\n",
       "      <td>570.0</td>\n",
       "    </tr>\n",
       "    <tr>\n",
       "      <th>14</th>\n",
       "      <td>359855</td>\n",
       "      <td>2013-02-18 04:48:48.912</td>\n",
       "      <td>0</td>\n",
       "      <td>4</td>\n",
       "      <td>17</td>\n",
       "      <td>joinscreen,product_review,product_review2,Scan...</td>\n",
       "      <td>9</td>\n",
       "      <td>0</td>\n",
       "      <td>0</td>\n",
       "      <td>0</td>\n",
       "      <td>NaT</td>\n",
       "      <td>0</td>\n",
       "      <td>NaN</td>\n",
       "    </tr>\n",
       "    <tr>\n",
       "      <th>15</th>\n",
       "      <td>284938</td>\n",
       "      <td>2013-02-02 18:41:35.724</td>\n",
       "      <td>5</td>\n",
       "      <td>18</td>\n",
       "      <td>25</td>\n",
       "      <td>idscreen,joinscreen,Cycle,Loan2,product_review...</td>\n",
       "      <td>26</td>\n",
       "      <td>1</td>\n",
       "      <td>0</td>\n",
       "      <td>1</td>\n",
       "      <td>2013-04-29 21:10:04.466</td>\n",
       "      <td>0</td>\n",
       "      <td>2066.0</td>\n",
       "    </tr>\n",
       "    <tr>\n",
       "      <th>16</th>\n",
       "      <td>235143</td>\n",
       "      <td>2013-07-07 16:07:35.057</td>\n",
       "      <td>6</td>\n",
       "      <td>16</td>\n",
       "      <td>21</td>\n",
       "      <td>product_review,product_review,product_review,p...</td>\n",
       "      <td>6</td>\n",
       "      <td>0</td>\n",
       "      <td>0</td>\n",
       "      <td>1</td>\n",
       "      <td>2013-07-08 16:24:09.052</td>\n",
       "      <td>0</td>\n",
       "      <td>24.0</td>\n",
       "    </tr>\n",
       "    <tr>\n",
       "      <th>17</th>\n",
       "      <td>141402</td>\n",
       "      <td>2013-02-02 21:12:46.888</td>\n",
       "      <td>5</td>\n",
       "      <td>21</td>\n",
       "      <td>55</td>\n",
       "      <td>joinscreen,Cycle,product_review,Loan2,product_...</td>\n",
       "      <td>20</td>\n",
       "      <td>0</td>\n",
       "      <td>0</td>\n",
       "      <td>1</td>\n",
       "      <td>2013-02-11 01:35:03.098</td>\n",
       "      <td>0</td>\n",
       "      <td>196.0</td>\n",
       "    </tr>\n",
       "    <tr>\n",
       "      <th>18</th>\n",
       "      <td>257945</td>\n",
       "      <td>2013-05-10 05:59:43.405</td>\n",
       "      <td>4</td>\n",
       "      <td>5</td>\n",
       "      <td>32</td>\n",
       "      <td>Splash,product_review,Home,Loan2,product_revie...</td>\n",
       "      <td>15</td>\n",
       "      <td>0</td>\n",
       "      <td>0</td>\n",
       "      <td>1</td>\n",
       "      <td>2013-05-11 04:29:36.906</td>\n",
       "      <td>1</td>\n",
       "      <td>22.0</td>\n",
       "    </tr>\n",
       "    <tr>\n",
       "      <th>19</th>\n",
       "      <td>54931</td>\n",
       "      <td>2013-07-06 17:34:46.439</td>\n",
       "      <td>5</td>\n",
       "      <td>17</td>\n",
       "      <td>25</td>\n",
       "      <td>idscreen,Loan3,product_review,product_review,Home</td>\n",
       "      <td>5</td>\n",
       "      <td>0</td>\n",
       "      <td>0</td>\n",
       "      <td>1</td>\n",
       "      <td>2013-07-06 18:55:54.215</td>\n",
       "      <td>0</td>\n",
       "      <td>1.0</td>\n",
       "    </tr>\n",
       "  </tbody>\n",
       "</table>\n",
       "</div>"
      ],
      "text/plain": [
       "      user              first_open  dayofweek  hour  age  \\\n",
       "0   235136 2012-12-27 02:14:51.273          3     2   23   \n",
       "1   333588 2012-12-02 01:16:00.905          6     1   24   \n",
       "2   254414 2013-03-19 19:19:09.157          1    19   23   \n",
       "3   234192 2013-07-05 16:08:46.354          4    16   28   \n",
       "4    51549 2013-02-26 18:50:48.661          1    18   31   \n",
       "5    56480 2013-04-03 09:58:15.752          2     9   20   \n",
       "6   144649 2012-12-25 02:33:18.461          1     2   35   \n",
       "7   249366 2012-12-11 03:07:49.875          1     3   26   \n",
       "8   372004 2013-03-20 14:22:01.569          2    14   29   \n",
       "9   338013 2013-04-26 18:22:16.013          4    18   26   \n",
       "10   43555 2013-05-14 04:48:27.597          1     4   39   \n",
       "11  317454 2013-05-28 11:07:07.358          1    11   32   \n",
       "12  205375 2012-12-17 06:28:45.903          0     6   25   \n",
       "13  307608 2013-05-25 19:52:31.798          5    19   23   \n",
       "14  359855 2013-02-18 04:48:48.912          0     4   17   \n",
       "15  284938 2013-02-02 18:41:35.724          5    18   25   \n",
       "16  235143 2013-07-07 16:07:35.057          6    16   21   \n",
       "17  141402 2013-02-02 21:12:46.888          5    21   55   \n",
       "18  257945 2013-05-10 05:59:43.405          4     5   32   \n",
       "19   54931 2013-07-06 17:34:46.439          5    17   25   \n",
       "\n",
       "                                          screen_list  numscreens  minigame  \\\n",
       "0   idscreen,joinscreen,Cycle,product_review,ScanP...          15         0   \n",
       "1   joinscreen,product_review,product_review2,Scan...          13         0   \n",
       "2                                   Splash,Cycle,Loan           3         0   \n",
       "3   product_review,Home,product_review,Loan3,Finan...          40         0   \n",
       "4   idscreen,joinscreen,Cycle,Credit3Container,Sca...          32         0   \n",
       "5   idscreen,Cycle,Home,ScanPreview,VerifyPhone,Ve...          14         0   \n",
       "6          product_review,product_review2,ScanPreview           3         0   \n",
       "7   Splash,Cycle,Home,Credit3Container,Credit3Dash...          41         0   \n",
       "8   product_review,product_review2,ScanPreview,Ver...          33         1   \n",
       "9   Home,Loan2,product_review,product_review,produ...          19         0   \n",
       "10  Splash,idscreen,Home,RewardsContainer,Settings...          14         0   \n",
       "11  product_review,Home,Loan2,Credit3Container,Ver...          25         1   \n",
       "12  idscreen,joinscreen,Cycle,product_review,produ...          11         0   \n",
       "13           Alerts,ProfilePage,Home,Credit3Container           4         0   \n",
       "14  joinscreen,product_review,product_review2,Scan...           9         0   \n",
       "15  idscreen,joinscreen,Cycle,Loan2,product_review...          26         1   \n",
       "16  product_review,product_review,product_review,p...           6         0   \n",
       "17  joinscreen,Cycle,product_review,Loan2,product_...          20         0   \n",
       "18  Splash,product_review,Home,Loan2,product_revie...          15         0   \n",
       "19  idscreen,Loan3,product_review,product_review,Home           5         0   \n",
       "\n",
       "    used_premium_feature  enrolled           enrolled_date  liked  difference  \n",
       "0                      0         0                     NaT      0         NaN  \n",
       "1                      0         0                     NaT      0         NaN  \n",
       "2                      1         0                     NaT      1         NaN  \n",
       "3                      0         1 2013-07-05 16:11:49.513      0         0.0  \n",
       "4                      0         1 2013-02-26 18:56:37.841      1         0.0  \n",
       "5                      0         1 2013-04-03 09:59:03.291      0         0.0  \n",
       "6                      0         0                     NaT      0         NaN  \n",
       "7                      1         0                     NaT      0         NaN  \n",
       "8                      1         1 2013-04-27 22:24:54.542      0       920.0  \n",
       "9                      0         1 2013-04-26 18:31:58.923      0         0.0  \n",
       "10                     0         1 2013-05-15 21:02:17.200      0        40.0  \n",
       "11                     1         0                     NaT      0         NaN  \n",
       "12                     0         0                     NaT      0         NaN  \n",
       "13                     0         1 2013-06-18 14:27:42.824      0       570.0  \n",
       "14                     0         0                     NaT      0         NaN  \n",
       "15                     0         1 2013-04-29 21:10:04.466      0      2066.0  \n",
       "16                     0         1 2013-07-08 16:24:09.052      0        24.0  \n",
       "17                     0         1 2013-02-11 01:35:03.098      0       196.0  \n",
       "18                     0         1 2013-05-11 04:29:36.906      1        22.0  \n",
       "19                     0         1 2013-07-06 18:55:54.215      0         1.0  "
      ]
     },
     "execution_count": 24,
     "metadata": {},
     "output_type": "execute_result"
    }
   ],
   "source": [
    "dataset.head(20)"
   ]
  },
  {
   "cell_type": "code",
   "execution_count": 25,
   "id": "20c2e92e",
   "metadata": {},
   "outputs": [
    {
     "data": {
      "text/plain": [
       "(array([22793.,   755.,   707.,   288.,   347.,   210.,   187.,   212.,\n",
       "          135.,   194.]),\n",
       " array([  0.,  10.,  20.,  30.,  40.,  50.,  60.,  70.,  80.,  90., 100.]),\n",
       " <BarContainer object of 10 artists>)"
      ]
     },
     "execution_count": 25,
     "metadata": {},
     "output_type": "execute_result"
    },
    {
     "data": {
      "image/png": "[encoded data removed]",
      "text/plain": [
       "<Figure size 1440x720 with 1 Axes>"
      ]
     },
     "metadata": {
      "needs_background": "light"
     },
     "output_type": "display_data"
    }
   ],
   "source": [
    "plt.figure(figsize=(20,10))\n",
    "plt.hist(dataset['difference'].dropna(),range=(0,100))"
   ]
  },
  {
   "cell_type": "code",
   "execution_count": 26,
   "id": "c6b638ee",
   "metadata": {},
   "outputs": [
    {
     "data": {
      "text/plain": [
       "<Axes: xlabel='difference', ylabel='Count'>"
      ]
     },
     "execution_count": 26,
     "metadata": {},
     "output_type": "execute_result"
    },
    {
     "data": {
      "image/png": "[encoded data removed]",
      "text/plain": [
       "<Figure size 432x288 with 1 Axes>"
      ]
     },
     "metadata": {},
     "output_type": "display_data"
    }
   ],
   "source": [
    "sns.set_theme()\n",
    "\n",
    "sns.histplot(dataset.dropna(),x='difference')"
   ]
  },
  {
   "cell_type": "code",
   "execution_count": 27,
   "id": "f05182e2",
   "metadata": {},
   "outputs": [],
   "source": [
    "dataset[dataset['difference']>48]['enrolled']=0"
   ]
  },
  {
   "cell_type": "code",
   "execution_count": 28,
   "id": "87a5a1b9",
   "metadata": {},
   "outputs": [
    {
     "data": {
      "text/html": [
       "<div>\n",
       "<style scoped>\n",
       "    .dataframe tbody tr th:only-of-type {\n",
       "        vertical-align: middle;\n",
       "    }\n",
       "\n",
       "    .dataframe tbody tr th {\n",
       "        vertical-align: top;\n",
       "    }\n",
       "\n",
       "    .dataframe thead th {\n",
       "        text-align: right;\n",
       "    }\n",
       "</style>\n",
       "<table border=\"1\" class=\"dataframe\">\n",
       "  <thead>\n",
       "    <tr style=\"text-align: right;\">\n",
       "      <th></th>\n",
       "      <th>user</th>\n",
       "      <th>dayofweek</th>\n",
       "      <th>hour</th>\n",
       "      <th>age</th>\n",
       "      <th>screen_list</th>\n",
       "      <th>numscreens</th>\n",
       "      <th>minigame</th>\n",
       "      <th>used_premium_feature</th>\n",
       "      <th>enrolled</th>\n",
       "      <th>liked</th>\n",
       "    </tr>\n",
       "  </thead>\n",
       "  <tbody>\n",
       "    <tr>\n",
       "      <th>0</th>\n",
       "      <td>235136</td>\n",
       "      <td>3</td>\n",
       "      <td>2</td>\n",
       "      <td>23</td>\n",
       "      <td>idscreen,joinscreen,Cycle,product_review,ScanP...</td>\n",
       "      <td>15</td>\n",
       "      <td>0</td>\n",
       "      <td>0</td>\n",
       "      <td>0</td>\n",
       "      <td>0</td>\n",
       "    </tr>\n",
       "    <tr>\n",
       "      <th>1</th>\n",
       "      <td>333588</td>\n",
       "      <td>6</td>\n",
       "      <td>1</td>\n",
       "      <td>24</td>\n",
       "      <td>joinscreen,product_review,product_review2,Scan...</td>\n",
       "      <td>13</td>\n",
       "      <td>0</td>\n",
       "      <td>0</td>\n",
       "      <td>0</td>\n",
       "      <td>0</td>\n",
       "    </tr>\n",
       "    <tr>\n",
       "      <th>2</th>\n",
       "      <td>254414</td>\n",
       "      <td>1</td>\n",
       "      <td>19</td>\n",
       "      <td>23</td>\n",
       "      <td>Splash,Cycle,Loan</td>\n",
       "      <td>3</td>\n",
       "      <td>0</td>\n",
       "      <td>1</td>\n",
       "      <td>0</td>\n",
       "      <td>1</td>\n",
       "    </tr>\n",
       "    <tr>\n",
       "      <th>3</th>\n",
       "      <td>234192</td>\n",
       "      <td>4</td>\n",
       "      <td>16</td>\n",
       "      <td>28</td>\n",
       "      <td>product_review,Home,product_review,Loan3,Finan...</td>\n",
       "      <td>40</td>\n",
       "      <td>0</td>\n",
       "      <td>0</td>\n",
       "      <td>1</td>\n",
       "      <td>0</td>\n",
       "    </tr>\n",
       "    <tr>\n",
       "      <th>4</th>\n",
       "      <td>51549</td>\n",
       "      <td>1</td>\n",
       "      <td>18</td>\n",
       "      <td>31</td>\n",
       "      <td>idscreen,joinscreen,Cycle,Credit3Container,Sca...</td>\n",
       "      <td>32</td>\n",
       "      <td>0</td>\n",
       "      <td>0</td>\n",
       "      <td>1</td>\n",
       "      <td>1</td>\n",
       "    </tr>\n",
       "    <tr>\n",
       "      <th>...</th>\n",
       "      <td>...</td>\n",
       "      <td>...</td>\n",
       "      <td>...</td>\n",
       "      <td>...</td>\n",
       "      <td>...</td>\n",
       "      <td>...</td>\n",
       "      <td>...</td>\n",
       "      <td>...</td>\n",
       "      <td>...</td>\n",
       "      <td>...</td>\n",
       "    </tr>\n",
       "    <tr>\n",
       "      <th>49995</th>\n",
       "      <td>222774</td>\n",
       "      <td>3</td>\n",
       "      <td>13</td>\n",
       "      <td>32</td>\n",
       "      <td>Splash,Home,ScanPreview,VerifyPhone,VerifySSN,...</td>\n",
       "      <td>13</td>\n",
       "      <td>0</td>\n",
       "      <td>0</td>\n",
       "      <td>1</td>\n",
       "      <td>0</td>\n",
       "    </tr>\n",
       "    <tr>\n",
       "      <th>49996</th>\n",
       "      <td>169179</td>\n",
       "      <td>1</td>\n",
       "      <td>0</td>\n",
       "      <td>35</td>\n",
       "      <td>Cycle,Splash,Home,RewardsContainer</td>\n",
       "      <td>4</td>\n",
       "      <td>0</td>\n",
       "      <td>1</td>\n",
       "      <td>0</td>\n",
       "      <td>0</td>\n",
       "    </tr>\n",
       "    <tr>\n",
       "      <th>49997</th>\n",
       "      <td>302367</td>\n",
       "      <td>2</td>\n",
       "      <td>22</td>\n",
       "      <td>39</td>\n",
       "      <td>joinscreen,product_review,product_review2,Scan...</td>\n",
       "      <td>25</td>\n",
       "      <td>0</td>\n",
       "      <td>0</td>\n",
       "      <td>0</td>\n",
       "      <td>0</td>\n",
       "    </tr>\n",
       "    <tr>\n",
       "      <th>49998</th>\n",
       "      <td>324905</td>\n",
       "      <td>6</td>\n",
       "      <td>12</td>\n",
       "      <td>27</td>\n",
       "      <td>Cycle,Home,product_review,product_review,produ...</td>\n",
       "      <td>26</td>\n",
       "      <td>0</td>\n",
       "      <td>0</td>\n",
       "      <td>1</td>\n",
       "      <td>0</td>\n",
       "    </tr>\n",
       "    <tr>\n",
       "      <th>49999</th>\n",
       "      <td>27047</td>\n",
       "      <td>4</td>\n",
       "      <td>1</td>\n",
       "      <td>25</td>\n",
       "      <td>product_review,ScanPreview,VerifyDateOfBirth,V...</td>\n",
       "      <td>26</td>\n",
       "      <td>0</td>\n",
       "      <td>0</td>\n",
       "      <td>0</td>\n",
       "      <td>1</td>\n",
       "    </tr>\n",
       "  </tbody>\n",
       "</table>\n",
       "<p>50000 rows × 10 columns</p>\n",
       "</div>"
      ],
      "text/plain": [
       "         user  dayofweek  hour  age  \\\n",
       "0      235136          3     2   23   \n",
       "1      333588          6     1   24   \n",
       "2      254414          1    19   23   \n",
       "3      234192          4    16   28   \n",
       "4       51549          1    18   31   \n",
       "...       ...        ...   ...  ...   \n",
       "49995  222774          3    13   32   \n",
       "49996  169179          1     0   35   \n",
       "49997  302367          2    22   39   \n",
       "49998  324905          6    12   27   \n",
       "49999   27047          4     1   25   \n",
       "\n",
       "                                             screen_list  numscreens  \\\n",
       "0      idscreen,joinscreen,Cycle,product_review,ScanP...          15   \n",
       "1      joinscreen,product_review,product_review2,Scan...          13   \n",
       "2                                      Splash,Cycle,Loan           3   \n",
       "3      product_review,Home,product_review,Loan3,Finan...          40   \n",
       "4      idscreen,joinscreen,Cycle,Credit3Container,Sca...          32   \n",
       "...                                                  ...         ...   \n",
       "49995  Splash,Home,ScanPreview,VerifyPhone,VerifySSN,...          13   \n",
       "49996                 Cycle,Splash,Home,RewardsContainer           4   \n",
       "49997  joinscreen,product_review,product_review2,Scan...          25   \n",
       "49998  Cycle,Home,product_review,product_review,produ...          26   \n",
       "49999  product_review,ScanPreview,VerifyDateOfBirth,V...          26   \n",
       "\n",
       "       minigame  used_premium_feature  enrolled  liked  \n",
       "0             0                     0         0      0  \n",
       "1             0                     0         0      0  \n",
       "2             0                     1         0      1  \n",
       "3             0                     0         1      0  \n",
       "4             0                     0         1      1  \n",
       "...         ...                   ...       ...    ...  \n",
       "49995         0                     0         1      0  \n",
       "49996         0                     1         0      0  \n",
       "49997         0                     0         0      0  \n",
       "49998         0                     0         1      0  \n",
       "49999         0                     0         0      1  \n",
       "\n",
       "[50000 rows x 10 columns]"
      ]
     },
     "execution_count": 28,
     "metadata": {},
     "output_type": "execute_result"
    }
   ],
   "source": [
    "dataset.drop(columns=['first_open','enrolled_date','difference',])"
   ]
  },
  {
   "cell_type": "code",
   "execution_count": 29,
   "id": "7d6e159b",
   "metadata": {},
   "outputs": [
    {
     "data": {
      "text/html": [
       "<div>\n",
       "<style scoped>\n",
       "    .dataframe tbody tr th:only-of-type {\n",
       "        vertical-align: middle;\n",
       "    }\n",
       "\n",
       "    .dataframe tbody tr th {\n",
       "        vertical-align: top;\n",
       "    }\n",
       "\n",
       "    .dataframe thead th {\n",
       "        text-align: right;\n",
       "    }\n",
       "</style>\n",
       "<table border=\"1\" class=\"dataframe\">\n",
       "  <thead>\n",
       "    <tr style=\"text-align: right;\">\n",
       "      <th></th>\n",
       "      <th>user</th>\n",
       "      <th>first_open</th>\n",
       "      <th>dayofweek</th>\n",
       "      <th>hour</th>\n",
       "      <th>age</th>\n",
       "      <th>screen_list</th>\n",
       "      <th>numscreens</th>\n",
       "      <th>minigame</th>\n",
       "      <th>used_premium_feature</th>\n",
       "      <th>enrolled</th>\n",
       "      <th>enrolled_date</th>\n",
       "      <th>liked</th>\n",
       "      <th>difference</th>\n",
       "    </tr>\n",
       "  </thead>\n",
       "  <tbody>\n",
       "    <tr>\n",
       "      <th>0</th>\n",
       "      <td>235136</td>\n",
       "      <td>2012-12-27 02:14:51.273</td>\n",
       "      <td>3</td>\n",
       "      <td>2</td>\n",
       "      <td>23</td>\n",
       "      <td>idscreen,joinscreen,Cycle,product_review,ScanP...</td>\n",
       "      <td>15</td>\n",
       "      <td>0</td>\n",
       "      <td>0</td>\n",
       "      <td>0</td>\n",
       "      <td>NaT</td>\n",
       "      <td>0</td>\n",
       "      <td>NaN</td>\n",
       "    </tr>\n",
       "    <tr>\n",
       "      <th>1</th>\n",
       "      <td>333588</td>\n",
       "      <td>2012-12-02 01:16:00.905</td>\n",
       "      <td>6</td>\n",
       "      <td>1</td>\n",
       "      <td>24</td>\n",
       "      <td>joinscreen,product_review,product_review2,Scan...</td>\n",
       "      <td>13</td>\n",
       "      <td>0</td>\n",
       "      <td>0</td>\n",
       "      <td>0</td>\n",
       "      <td>NaT</td>\n",
       "      <td>0</td>\n",
       "      <td>NaN</td>\n",
       "    </tr>\n",
       "    <tr>\n",
       "      <th>2</th>\n",
       "      <td>254414</td>\n",
       "      <td>2013-03-19 19:19:09.157</td>\n",
       "      <td>1</td>\n",
       "      <td>19</td>\n",
       "      <td>23</td>\n",
       "      <td>Splash,Cycle,Loan</td>\n",
       "      <td>3</td>\n",
       "      <td>0</td>\n",
       "      <td>1</td>\n",
       "      <td>0</td>\n",
       "      <td>NaT</td>\n",
       "      <td>1</td>\n",
       "      <td>NaN</td>\n",
       "    </tr>\n",
       "    <tr>\n",
       "      <th>3</th>\n",
       "      <td>234192</td>\n",
       "      <td>2013-07-05 16:08:46.354</td>\n",
       "      <td>4</td>\n",
       "      <td>16</td>\n",
       "      <td>28</td>\n",
       "      <td>product_review,Home,product_review,Loan3,Finan...</td>\n",
       "      <td>40</td>\n",
       "      <td>0</td>\n",
       "      <td>0</td>\n",
       "      <td>1</td>\n",
       "      <td>2013-07-05 16:11:49.513</td>\n",
       "      <td>0</td>\n",
       "      <td>0.0</td>\n",
       "    </tr>\n",
       "    <tr>\n",
       "      <th>4</th>\n",
       "      <td>51549</td>\n",
       "      <td>2013-02-26 18:50:48.661</td>\n",
       "      <td>1</td>\n",
       "      <td>18</td>\n",
       "      <td>31</td>\n",
       "      <td>idscreen,joinscreen,Cycle,Credit3Container,Sca...</td>\n",
       "      <td>32</td>\n",
       "      <td>0</td>\n",
       "      <td>0</td>\n",
       "      <td>1</td>\n",
       "      <td>2013-02-26 18:56:37.841</td>\n",
       "      <td>1</td>\n",
       "      <td>0.0</td>\n",
       "    </tr>\n",
       "  </tbody>\n",
       "</table>\n",
       "</div>"
      ],
      "text/plain": [
       "     user              first_open  dayofweek  hour  age  \\\n",
       "0  235136 2012-12-27 02:14:51.273          3     2   23   \n",
       "1  333588 2012-12-02 01:16:00.905          6     1   24   \n",
       "2  254414 2013-03-19 19:19:09.157          1    19   23   \n",
       "3  234192 2013-07-05 16:08:46.354          4    16   28   \n",
       "4   51549 2013-02-26 18:50:48.661          1    18   31   \n",
       "\n",
       "                                         screen_list  numscreens  minigame  \\\n",
       "0  idscreen,joinscreen,Cycle,product_review,ScanP...          15         0   \n",
       "1  joinscreen,product_review,product_review2,Scan...          13         0   \n",
       "2                                  Splash,Cycle,Loan           3         0   \n",
       "3  product_review,Home,product_review,Loan3,Finan...          40         0   \n",
       "4  idscreen,joinscreen,Cycle,Credit3Container,Sca...          32         0   \n",
       "\n",
       "   used_premium_feature  enrolled           enrolled_date  liked  difference  \n",
       "0                     0         0                     NaT      0         NaN  \n",
       "1                     0         0                     NaT      0         NaN  \n",
       "2                     1         0                     NaT      1         NaN  \n",
       "3                     0         1 2013-07-05 16:11:49.513      0         0.0  \n",
       "4                     0         1 2013-02-26 18:56:37.841      1         0.0  "
      ]
     },
     "execution_count": 29,
     "metadata": {},
     "output_type": "execute_result"
    }
   ],
   "source": [
    "dataset.head()"
   ]
  },
  {
   "cell_type": "markdown",
   "id": "d43ba94f",
   "metadata": {},
   "source": [
    "# Let's do Feature Engineering now"
   ]
  },
  {
   "cell_type": "code",
   "execution_count": 30,
   "id": "162d0676",
   "metadata": {},
   "outputs": [],
   "source": [
    "top_screens=pd.read_csv('top_screens.csv').top_screens.values"
   ]
  },
  {
   "cell_type": "code",
   "execution_count": 31,
   "id": "915fd3cf",
   "metadata": {},
   "outputs": [
    {
     "data": {
      "text/plain": [
       "array(['Loan2', 'location', 'Institutions', 'Credit3Container',\n",
       "       'VerifyPhone', 'BankVerification', 'VerifyDateOfBirth',\n",
       "       'ProfilePage', 'VerifyCountry', 'Cycle', 'idscreen',\n",
       "       'Credit3Dashboard', 'Loan3', 'CC1Category', 'Splash', 'Loan',\n",
       "       'CC1', 'RewardsContainer', 'Credit3', 'Credit1', 'EditProfile',\n",
       "       'Credit2', 'Finances', 'CC3', 'Saving9', 'Saving1', 'Alerts',\n",
       "       'Saving8', 'Saving10', 'Leaderboard', 'Saving4', 'VerifyMobile',\n",
       "       'VerifyHousing', 'RewardDetail', 'VerifyHousingAmount',\n",
       "       'ProfileMaritalStatus', 'ProfileChildren ', 'ProfileEducation',\n",
       "       'Saving7', 'ProfileEducationMajor', 'Rewards', 'AccountView',\n",
       "       'VerifyAnnualIncome', 'VerifyIncomeType', 'Saving2', 'Saving6',\n",
       "       'Saving2Amount', 'Saving5', 'ProfileJobTitle', 'Login',\n",
       "       'ProfileEmploymentLength', 'WebView', 'SecurityModal', 'Loan4',\n",
       "       'ResendToken', 'TransactionList', 'NetworkFailure', 'ListPicker'],\n",
       "      dtype=object)"
      ]
     },
     "execution_count": 31,
     "metadata": {},
     "output_type": "execute_result"
    }
   ],
   "source": [
    "top_screens"
   ]
  },
  {
   "cell_type": "code",
   "execution_count": 32,
   "id": "78960267",
   "metadata": {},
   "outputs": [],
   "source": [
    "dataset['screen_list']=dataset.screen_list+','\n",
    "for sc in top_screens:\n",
    "    dataset[sc]=dataset.screen_list.str.contains(sc)\n",
    "    dataset['screen_list']=dataset.screen_list.str.replace(sc+\",\",\"\")"
   ]
  },
  {
   "cell_type": "code",
   "execution_count": 33,
   "id": "d2ddbb64",
   "metadata": {},
   "outputs": [
    {
     "name": "stdout",
     "output_type": "stream",
     "text": [
      "<class 'pandas.core.frame.DataFrame'>\n",
      "RangeIndex: 50000 entries, 0 to 49999\n",
      "Data columns (total 71 columns):\n",
      " #   Column                   Non-Null Count  Dtype         \n",
      "---  ------                   --------------  -----         \n",
      " 0   user                     50000 non-null  int64         \n",
      " 1   first_open               50000 non-null  datetime64[ns]\n",
      " 2   dayofweek                50000 non-null  int64         \n",
      " 3   hour                     50000 non-null  int32         \n",
      " 4   age                      50000 non-null  int64         \n",
      " 5   screen_list              50000 non-null  object        \n",
      " 6   numscreens               50000 non-null  int64         \n",
      " 7   minigame                 50000 non-null  int64         \n",
      " 8   used_premium_feature     50000 non-null  int64         \n",
      " 9   enrolled                 50000 non-null  int64         \n",
      " 10  enrolled_date            31074 non-null  datetime64[ns]\n",
      " 11  liked                    50000 non-null  int64         \n",
      " 12  difference               31074 non-null  float64       \n",
      " 13  Loan2                    50000 non-null  bool          \n",
      " 14  location                 50000 non-null  bool          \n",
      " 15  Institutions             50000 non-null  bool          \n",
      " 16  Credit3Container         50000 non-null  bool          \n",
      " 17  VerifyPhone              50000 non-null  bool          \n",
      " 18  BankVerification         50000 non-null  bool          \n",
      " 19  VerifyDateOfBirth        50000 non-null  bool          \n",
      " 20  ProfilePage              50000 non-null  bool          \n",
      " 21  VerifyCountry            50000 non-null  bool          \n",
      " 22  Cycle                    50000 non-null  bool          \n",
      " 23  idscreen                 50000 non-null  bool          \n",
      " 24  Credit3Dashboard         50000 non-null  bool          \n",
      " 25  Loan3                    50000 non-null  bool          \n",
      " 26  CC1Category              50000 non-null  bool          \n",
      " 27  Splash                   50000 non-null  bool          \n",
      " 28  Loan                     50000 non-null  bool          \n",
      " 29  CC1                      50000 non-null  bool          \n",
      " 30  RewardsContainer         50000 non-null  bool          \n",
      " 31  Credit3                  50000 non-null  bool          \n",
      " 32  Credit1                  50000 non-null  bool          \n",
      " 33  EditProfile              50000 non-null  bool          \n",
      " 34  Credit2                  50000 non-null  bool          \n",
      " 35  Finances                 50000 non-null  bool          \n",
      " 36  CC3                      50000 non-null  bool          \n",
      " 37  Saving9                  50000 non-null  bool          \n",
      " 38  Saving1                  50000 non-null  bool          \n",
      " 39  Alerts                   50000 non-null  bool          \n",
      " 40  Saving8                  50000 non-null  bool          \n",
      " 41  Saving10                 50000 non-null  bool          \n",
      " 42  Leaderboard              50000 non-null  bool          \n",
      " 43  Saving4                  50000 non-null  bool          \n",
      " 44  VerifyMobile             50000 non-null  bool          \n",
      " 45  VerifyHousing            50000 non-null  bool          \n",
      " 46  RewardDetail             50000 non-null  bool          \n",
      " 47  VerifyHousingAmount      50000 non-null  bool          \n",
      " 48  ProfileMaritalStatus     50000 non-null  bool          \n",
      " 49  ProfileChildren          50000 non-null  bool          \n",
      " 50  ProfileEducation         50000 non-null  bool          \n",
      " 51  Saving7                  50000 non-null  bool          \n",
      " 52  ProfileEducationMajor    50000 non-null  bool          \n",
      " 53  Rewards                  50000 non-null  bool          \n",
      " 54  AccountView              50000 non-null  bool          \n",
      " 55  VerifyAnnualIncome       50000 non-null  bool          \n",
      " 56  VerifyIncomeType         50000 non-null  bool          \n",
      " 57  Saving2                  50000 non-null  bool          \n",
      " 58  Saving6                  50000 non-null  bool          \n",
      " 59  Saving2Amount            50000 non-null  bool          \n",
      " 60  Saving5                  50000 non-null  bool          \n",
      " 61  ProfileJobTitle          50000 non-null  bool          \n",
      " 62  Login                    50000 non-null  bool          \n",
      " 63  ProfileEmploymentLength  50000 non-null  bool          \n",
      " 64  WebView                  50000 non-null  bool          \n",
      " 65  SecurityModal            50000 non-null  bool          \n",
      " 66  Loan4                    50000 non-null  bool          \n",
      " 67  ResendToken              50000 non-null  bool          \n",
      " 68  TransactionList          50000 non-null  bool          \n",
      " 69  NetworkFailure           50000 non-null  bool          \n",
      " 70  ListPicker               50000 non-null  bool          \n",
      "dtypes: bool(58), datetime64[ns](2), float64(1), int32(1), int64(8), object(1)\n",
      "memory usage: 7.5+ MB\n"
     ]
    }
   ],
   "source": [
    "dataset.info()"
   ]
  },
  {
   "cell_type": "code",
   "execution_count": 34,
   "id": "7e6b0b0c",
   "metadata": {},
   "outputs": [],
   "source": [
    "dataset['Others']=dataset['screen_list'].str.count(',')"
   ]
  },
  {
   "cell_type": "code",
   "execution_count": 35,
   "id": "87ffda9c",
   "metadata": {},
   "outputs": [
    {
     "data": {
      "text/html": [
       "<div>\n",
       "<style scoped>\n",
       "    .dataframe tbody tr th:only-of-type {\n",
       "        vertical-align: middle;\n",
       "    }\n",
       "\n",
       "    .dataframe tbody tr th {\n",
       "        vertical-align: top;\n",
       "    }\n",
       "\n",
       "    .dataframe thead th {\n",
       "        text-align: right;\n",
       "    }\n",
       "</style>\n",
       "<table border=\"1\" class=\"dataframe\">\n",
       "  <thead>\n",
       "    <tr style=\"text-align: right;\">\n",
       "      <th></th>\n",
       "      <th>user</th>\n",
       "      <th>first_open</th>\n",
       "      <th>dayofweek</th>\n",
       "      <th>hour</th>\n",
       "      <th>age</th>\n",
       "      <th>screen_list</th>\n",
       "      <th>numscreens</th>\n",
       "      <th>minigame</th>\n",
       "      <th>used_premium_feature</th>\n",
       "      <th>enrolled</th>\n",
       "      <th>...</th>\n",
       "      <th>Login</th>\n",
       "      <th>ProfileEmploymentLength</th>\n",
       "      <th>WebView</th>\n",
       "      <th>SecurityModal</th>\n",
       "      <th>Loan4</th>\n",
       "      <th>ResendToken</th>\n",
       "      <th>TransactionList</th>\n",
       "      <th>NetworkFailure</th>\n",
       "      <th>ListPicker</th>\n",
       "      <th>Others</th>\n",
       "    </tr>\n",
       "  </thead>\n",
       "  <tbody>\n",
       "    <tr>\n",
       "      <th>0</th>\n",
       "      <td>235136</td>\n",
       "      <td>2012-12-27 02:14:51.273</td>\n",
       "      <td>3</td>\n",
       "      <td>2</td>\n",
       "      <td>23</td>\n",
       "      <td>joinscreen,product_review,ScanPreview,VerifyTo...</td>\n",
       "      <td>15</td>\n",
       "      <td>0</td>\n",
       "      <td>0</td>\n",
       "      <td>0</td>\n",
       "      <td>...</td>\n",
       "      <td>True</td>\n",
       "      <td>False</td>\n",
       "      <td>False</td>\n",
       "      <td>False</td>\n",
       "      <td>False</td>\n",
       "      <td>False</td>\n",
       "      <td>False</td>\n",
       "      <td>False</td>\n",
       "      <td>False</td>\n",
       "      <td>7</td>\n",
       "    </tr>\n",
       "    <tr>\n",
       "      <th>1</th>\n",
       "      <td>333588</td>\n",
       "      <td>2012-12-02 01:16:00.905</td>\n",
       "      <td>6</td>\n",
       "      <td>1</td>\n",
       "      <td>24</td>\n",
       "      <td>joinscreen,product_review,product_review2,Scan...</td>\n",
       "      <td>13</td>\n",
       "      <td>0</td>\n",
       "      <td>0</td>\n",
       "      <td>0</td>\n",
       "      <td>...</td>\n",
       "      <td>False</td>\n",
       "      <td>False</td>\n",
       "      <td>False</td>\n",
       "      <td>False</td>\n",
       "      <td>False</td>\n",
       "      <td>False</td>\n",
       "      <td>False</td>\n",
       "      <td>False</td>\n",
       "      <td>False</td>\n",
       "      <td>5</td>\n",
       "    </tr>\n",
       "    <tr>\n",
       "      <th>2</th>\n",
       "      <td>254414</td>\n",
       "      <td>2013-03-19 19:19:09.157</td>\n",
       "      <td>1</td>\n",
       "      <td>19</td>\n",
       "      <td>23</td>\n",
       "      <td></td>\n",
       "      <td>3</td>\n",
       "      <td>0</td>\n",
       "      <td>1</td>\n",
       "      <td>0</td>\n",
       "      <td>...</td>\n",
       "      <td>False</td>\n",
       "      <td>False</td>\n",
       "      <td>False</td>\n",
       "      <td>False</td>\n",
       "      <td>False</td>\n",
       "      <td>False</td>\n",
       "      <td>False</td>\n",
       "      <td>False</td>\n",
       "      <td>False</td>\n",
       "      <td>0</td>\n",
       "    </tr>\n",
       "    <tr>\n",
       "      <th>3</th>\n",
       "      <td>234192</td>\n",
       "      <td>2013-07-05 16:08:46.354</td>\n",
       "      <td>4</td>\n",
       "      <td>16</td>\n",
       "      <td>28</td>\n",
       "      <td>product_review,Home,product_review,ReferralCon...</td>\n",
       "      <td>40</td>\n",
       "      <td>0</td>\n",
       "      <td>0</td>\n",
       "      <td>1</td>\n",
       "      <td>...</td>\n",
       "      <td>False</td>\n",
       "      <td>False</td>\n",
       "      <td>False</td>\n",
       "      <td>False</td>\n",
       "      <td>False</td>\n",
       "      <td>False</td>\n",
       "      <td>False</td>\n",
       "      <td>False</td>\n",
       "      <td>False</td>\n",
       "      <td>6</td>\n",
       "    </tr>\n",
       "    <tr>\n",
       "      <th>4</th>\n",
       "      <td>51549</td>\n",
       "      <td>2013-02-26 18:50:48.661</td>\n",
       "      <td>1</td>\n",
       "      <td>18</td>\n",
       "      <td>31</td>\n",
       "      <td>joinscreen,ScanPreview,VerifySSN,Home,SelectIn...</td>\n",
       "      <td>32</td>\n",
       "      <td>0</td>\n",
       "      <td>0</td>\n",
       "      <td>1</td>\n",
       "      <td>...</td>\n",
       "      <td>False</td>\n",
       "      <td>False</td>\n",
       "      <td>False</td>\n",
       "      <td>False</td>\n",
       "      <td>False</td>\n",
       "      <td>False</td>\n",
       "      <td>False</td>\n",
       "      <td>False</td>\n",
       "      <td>False</td>\n",
       "      <td>10</td>\n",
       "    </tr>\n",
       "  </tbody>\n",
       "</table>\n",
       "<p>5 rows × 72 columns</p>\n",
       "</div>"
      ],
      "text/plain": [
       "     user              first_open  dayofweek  hour  age  \\\n",
       "0  235136 2012-12-27 02:14:51.273          3     2   23   \n",
       "1  333588 2012-12-02 01:16:00.905          6     1   24   \n",
       "2  254414 2013-03-19 19:19:09.157          1    19   23   \n",
       "3  234192 2013-07-05 16:08:46.354          4    16   28   \n",
       "4   51549 2013-02-26 18:50:48.661          1    18   31   \n",
       "\n",
       "                                         screen_list  numscreens  minigame  \\\n",
       "0  joinscreen,product_review,ScanPreview,VerifyTo...          15         0   \n",
       "1  joinscreen,product_review,product_review2,Scan...          13         0   \n",
       "2                                                              3         0   \n",
       "3  product_review,Home,product_review,ReferralCon...          40         0   \n",
       "4  joinscreen,ScanPreview,VerifySSN,Home,SelectIn...          32         0   \n",
       "\n",
       "   used_premium_feature  enrolled  ...  Login  ProfileEmploymentLength  \\\n",
       "0                     0         0  ...   True                    False   \n",
       "1                     0         0  ...  False                    False   \n",
       "2                     1         0  ...  False                    False   \n",
       "3                     0         1  ...  False                    False   \n",
       "4                     0         1  ...  False                    False   \n",
       "\n",
       "   WebView  SecurityModal  Loan4  ResendToken  TransactionList  \\\n",
       "0    False          False  False        False            False   \n",
       "1    False          False  False        False            False   \n",
       "2    False          False  False        False            False   \n",
       "3    False          False  False        False            False   \n",
       "4    False          False  False        False            False   \n",
       "\n",
       "   NetworkFailure  ListPicker  Others  \n",
       "0           False       False       7  \n",
       "1           False       False       5  \n",
       "2           False       False       0  \n",
       "3           False       False       6  \n",
       "4           False       False      10  \n",
       "\n",
       "[5 rows x 72 columns]"
      ]
     },
     "execution_count": 35,
     "metadata": {},
     "output_type": "execute_result"
    }
   ],
   "source": [
    "dataset.head()"
   ]
  },
  {
   "cell_type": "code",
   "execution_count": 36,
   "id": "0104e50f",
   "metadata": {},
   "outputs": [],
   "source": [
    "dataset.drop(columns=['screen_list'],inplace=True)"
   ]
  },
  {
   "cell_type": "code",
   "execution_count": 37,
   "id": "34f6bec9",
   "metadata": {},
   "outputs": [],
   "source": [
    "for sc in top_screens:\n",
    "    dataset[sc]=dataset[sc]+0"
   ]
  },
  {
   "cell_type": "code",
   "execution_count": 38,
   "id": "78875313",
   "metadata": {},
   "outputs": [
    {
     "data": {
      "text/html": [
       "<div>\n",
       "<style scoped>\n",
       "    .dataframe tbody tr th:only-of-type {\n",
       "        vertical-align: middle;\n",
       "    }\n",
       "\n",
       "    .dataframe tbody tr th {\n",
       "        vertical-align: top;\n",
       "    }\n",
       "\n",
       "    .dataframe thead th {\n",
       "        text-align: right;\n",
       "    }\n",
       "</style>\n",
       "<table border=\"1\" class=\"dataframe\">\n",
       "  <thead>\n",
       "    <tr style=\"text-align: right;\">\n",
       "      <th></th>\n",
       "      <th>user</th>\n",
       "      <th>first_open</th>\n",
       "      <th>dayofweek</th>\n",
       "      <th>hour</th>\n",
       "      <th>age</th>\n",
       "      <th>numscreens</th>\n",
       "      <th>minigame</th>\n",
       "      <th>used_premium_feature</th>\n",
       "      <th>enrolled</th>\n",
       "      <th>enrolled_date</th>\n",
       "      <th>...</th>\n",
       "      <th>Login</th>\n",
       "      <th>ProfileEmploymentLength</th>\n",
       "      <th>WebView</th>\n",
       "      <th>SecurityModal</th>\n",
       "      <th>Loan4</th>\n",
       "      <th>ResendToken</th>\n",
       "      <th>TransactionList</th>\n",
       "      <th>NetworkFailure</th>\n",
       "      <th>ListPicker</th>\n",
       "      <th>Others</th>\n",
       "    </tr>\n",
       "  </thead>\n",
       "  <tbody>\n",
       "    <tr>\n",
       "      <th>0</th>\n",
       "      <td>235136</td>\n",
       "      <td>2012-12-27 02:14:51.273</td>\n",
       "      <td>3</td>\n",
       "      <td>2</td>\n",
       "      <td>23</td>\n",
       "      <td>15</td>\n",
       "      <td>0</td>\n",
       "      <td>0</td>\n",
       "      <td>0</td>\n",
       "      <td>NaT</td>\n",
       "      <td>...</td>\n",
       "      <td>1</td>\n",
       "      <td>0</td>\n",
       "      <td>0</td>\n",
       "      <td>0</td>\n",
       "      <td>0</td>\n",
       "      <td>0</td>\n",
       "      <td>0</td>\n",
       "      <td>0</td>\n",
       "      <td>0</td>\n",
       "      <td>7</td>\n",
       "    </tr>\n",
       "    <tr>\n",
       "      <th>1</th>\n",
       "      <td>333588</td>\n",
       "      <td>2012-12-02 01:16:00.905</td>\n",
       "      <td>6</td>\n",
       "      <td>1</td>\n",
       "      <td>24</td>\n",
       "      <td>13</td>\n",
       "      <td>0</td>\n",
       "      <td>0</td>\n",
       "      <td>0</td>\n",
       "      <td>NaT</td>\n",
       "      <td>...</td>\n",
       "      <td>0</td>\n",
       "      <td>0</td>\n",
       "      <td>0</td>\n",
       "      <td>0</td>\n",
       "      <td>0</td>\n",
       "      <td>0</td>\n",
       "      <td>0</td>\n",
       "      <td>0</td>\n",
       "      <td>0</td>\n",
       "      <td>5</td>\n",
       "    </tr>\n",
       "    <tr>\n",
       "      <th>2</th>\n",
       "      <td>254414</td>\n",
       "      <td>2013-03-19 19:19:09.157</td>\n",
       "      <td>1</td>\n",
       "      <td>19</td>\n",
       "      <td>23</td>\n",
       "      <td>3</td>\n",
       "      <td>0</td>\n",
       "      <td>1</td>\n",
       "      <td>0</td>\n",
       "      <td>NaT</td>\n",
       "      <td>...</td>\n",
       "      <td>0</td>\n",
       "      <td>0</td>\n",
       "      <td>0</td>\n",
       "      <td>0</td>\n",
       "      <td>0</td>\n",
       "      <td>0</td>\n",
       "      <td>0</td>\n",
       "      <td>0</td>\n",
       "      <td>0</td>\n",
       "      <td>0</td>\n",
       "    </tr>\n",
       "    <tr>\n",
       "      <th>3</th>\n",
       "      <td>234192</td>\n",
       "      <td>2013-07-05 16:08:46.354</td>\n",
       "      <td>4</td>\n",
       "      <td>16</td>\n",
       "      <td>28</td>\n",
       "      <td>40</td>\n",
       "      <td>0</td>\n",
       "      <td>0</td>\n",
       "      <td>1</td>\n",
       "      <td>2013-07-05 16:11:49.513</td>\n",
       "      <td>...</td>\n",
       "      <td>0</td>\n",
       "      <td>0</td>\n",
       "      <td>0</td>\n",
       "      <td>0</td>\n",
       "      <td>0</td>\n",
       "      <td>0</td>\n",
       "      <td>0</td>\n",
       "      <td>0</td>\n",
       "      <td>0</td>\n",
       "      <td>6</td>\n",
       "    </tr>\n",
       "    <tr>\n",
       "      <th>4</th>\n",
       "      <td>51549</td>\n",
       "      <td>2013-02-26 18:50:48.661</td>\n",
       "      <td>1</td>\n",
       "      <td>18</td>\n",
       "      <td>31</td>\n",
       "      <td>32</td>\n",
       "      <td>0</td>\n",
       "      <td>0</td>\n",
       "      <td>1</td>\n",
       "      <td>2013-02-26 18:56:37.841</td>\n",
       "      <td>...</td>\n",
       "      <td>0</td>\n",
       "      <td>0</td>\n",
       "      <td>0</td>\n",
       "      <td>0</td>\n",
       "      <td>0</td>\n",
       "      <td>0</td>\n",
       "      <td>0</td>\n",
       "      <td>0</td>\n",
       "      <td>0</td>\n",
       "      <td>10</td>\n",
       "    </tr>\n",
       "  </tbody>\n",
       "</table>\n",
       "<p>5 rows × 71 columns</p>\n",
       "</div>"
      ],
      "text/plain": [
       "     user              first_open  dayofweek  hour  age  numscreens  minigame  \\\n",
       "0  235136 2012-12-27 02:14:51.273          3     2   23          15         0   \n",
       "1  333588 2012-12-02 01:16:00.905          6     1   24          13         0   \n",
       "2  254414 2013-03-19 19:19:09.157          1    19   23           3         0   \n",
       "3  234192 2013-07-05 16:08:46.354          4    16   28          40         0   \n",
       "4   51549 2013-02-26 18:50:48.661          1    18   31          32         0   \n",
       "\n",
       "   used_premium_feature  enrolled           enrolled_date  ...  Login  \\\n",
       "0                     0         0                     NaT  ...      1   \n",
       "1                     0         0                     NaT  ...      0   \n",
       "2                     1         0                     NaT  ...      0   \n",
       "3                     0         1 2013-07-05 16:11:49.513  ...      0   \n",
       "4                     0         1 2013-02-26 18:56:37.841  ...      0   \n",
       "\n",
       "   ProfileEmploymentLength  WebView  SecurityModal  Loan4  ResendToken  \\\n",
       "0                        0        0              0      0            0   \n",
       "1                        0        0              0      0            0   \n",
       "2                        0        0              0      0            0   \n",
       "3                        0        0              0      0            0   \n",
       "4                        0        0              0      0            0   \n",
       "\n",
       "   TransactionList  NetworkFailure  ListPicker  Others  \n",
       "0                0               0           0       7  \n",
       "1                0               0           0       5  \n",
       "2                0               0           0       0  \n",
       "3                0               0           0       6  \n",
       "4                0               0           0      10  \n",
       "\n",
       "[5 rows x 71 columns]"
      ]
     },
     "execution_count": 38,
     "metadata": {},
     "output_type": "execute_result"
    }
   ],
   "source": [
    "dataset.head()"
   ]
  },
  {
   "cell_type": "code",
   "execution_count": 39,
   "id": "417feee6",
   "metadata": {},
   "outputs": [],
   "source": [
    "dataset.drop(columns=['first_open','enrolled_date','difference'],inplace=True)"
   ]
  },
  {
   "cell_type": "code",
   "execution_count": 40,
   "id": "ebed5e5f",
   "metadata": {},
   "outputs": [
    {
     "data": {
      "text/html": [
       "<div>\n",
       "<style scoped>\n",
       "    .dataframe tbody tr th:only-of-type {\n",
       "        vertical-align: middle;\n",
       "    }\n",
       "\n",
       "    .dataframe tbody tr th {\n",
       "        vertical-align: top;\n",
       "    }\n",
       "\n",
       "    .dataframe thead th {\n",
       "        text-align: right;\n",
       "    }\n",
       "</style>\n",
       "<table border=\"1\" class=\"dataframe\">\n",
       "  <thead>\n",
       "    <tr style=\"text-align: right;\">\n",
       "      <th></th>\n",
       "      <th>user</th>\n",
       "      <th>dayofweek</th>\n",
       "      <th>hour</th>\n",
       "      <th>age</th>\n",
       "      <th>numscreens</th>\n",
       "      <th>minigame</th>\n",
       "      <th>used_premium_feature</th>\n",
       "      <th>enrolled</th>\n",
       "      <th>liked</th>\n",
       "      <th>Loan2</th>\n",
       "      <th>...</th>\n",
       "      <th>Login</th>\n",
       "      <th>ProfileEmploymentLength</th>\n",
       "      <th>WebView</th>\n",
       "      <th>SecurityModal</th>\n",
       "      <th>Loan4</th>\n",
       "      <th>ResendToken</th>\n",
       "      <th>TransactionList</th>\n",
       "      <th>NetworkFailure</th>\n",
       "      <th>ListPicker</th>\n",
       "      <th>Others</th>\n",
       "    </tr>\n",
       "  </thead>\n",
       "  <tbody>\n",
       "    <tr>\n",
       "      <th>0</th>\n",
       "      <td>235136</td>\n",
       "      <td>3</td>\n",
       "      <td>2</td>\n",
       "      <td>23</td>\n",
       "      <td>15</td>\n",
       "      <td>0</td>\n",
       "      <td>0</td>\n",
       "      <td>0</td>\n",
       "      <td>0</td>\n",
       "      <td>1</td>\n",
       "      <td>...</td>\n",
       "      <td>1</td>\n",
       "      <td>0</td>\n",
       "      <td>0</td>\n",
       "      <td>0</td>\n",
       "      <td>0</td>\n",
       "      <td>0</td>\n",
       "      <td>0</td>\n",
       "      <td>0</td>\n",
       "      <td>0</td>\n",
       "      <td>7</td>\n",
       "    </tr>\n",
       "    <tr>\n",
       "      <th>1</th>\n",
       "      <td>333588</td>\n",
       "      <td>6</td>\n",
       "      <td>1</td>\n",
       "      <td>24</td>\n",
       "      <td>13</td>\n",
       "      <td>0</td>\n",
       "      <td>0</td>\n",
       "      <td>0</td>\n",
       "      <td>0</td>\n",
       "      <td>1</td>\n",
       "      <td>...</td>\n",
       "      <td>0</td>\n",
       "      <td>0</td>\n",
       "      <td>0</td>\n",
       "      <td>0</td>\n",
       "      <td>0</td>\n",
       "      <td>0</td>\n",
       "      <td>0</td>\n",
       "      <td>0</td>\n",
       "      <td>0</td>\n",
       "      <td>5</td>\n",
       "    </tr>\n",
       "    <tr>\n",
       "      <th>2</th>\n",
       "      <td>254414</td>\n",
       "      <td>1</td>\n",
       "      <td>19</td>\n",
       "      <td>23</td>\n",
       "      <td>3</td>\n",
       "      <td>0</td>\n",
       "      <td>1</td>\n",
       "      <td>0</td>\n",
       "      <td>1</td>\n",
       "      <td>0</td>\n",
       "      <td>...</td>\n",
       "      <td>0</td>\n",
       "      <td>0</td>\n",
       "      <td>0</td>\n",
       "      <td>0</td>\n",
       "      <td>0</td>\n",
       "      <td>0</td>\n",
       "      <td>0</td>\n",
       "      <td>0</td>\n",
       "      <td>0</td>\n",
       "      <td>0</td>\n",
       "    </tr>\n",
       "    <tr>\n",
       "      <th>3</th>\n",
       "      <td>234192</td>\n",
       "      <td>4</td>\n",
       "      <td>16</td>\n",
       "      <td>28</td>\n",
       "      <td>40</td>\n",
       "      <td>0</td>\n",
       "      <td>0</td>\n",
       "      <td>1</td>\n",
       "      <td>0</td>\n",
       "      <td>0</td>\n",
       "      <td>...</td>\n",
       "      <td>0</td>\n",
       "      <td>0</td>\n",
       "      <td>0</td>\n",
       "      <td>0</td>\n",
       "      <td>0</td>\n",
       "      <td>0</td>\n",
       "      <td>0</td>\n",
       "      <td>0</td>\n",
       "      <td>0</td>\n",
       "      <td>6</td>\n",
       "    </tr>\n",
       "    <tr>\n",
       "      <th>4</th>\n",
       "      <td>51549</td>\n",
       "      <td>1</td>\n",
       "      <td>18</td>\n",
       "      <td>31</td>\n",
       "      <td>32</td>\n",
       "      <td>0</td>\n",
       "      <td>0</td>\n",
       "      <td>1</td>\n",
       "      <td>1</td>\n",
       "      <td>1</td>\n",
       "      <td>...</td>\n",
       "      <td>0</td>\n",
       "      <td>0</td>\n",
       "      <td>0</td>\n",
       "      <td>0</td>\n",
       "      <td>0</td>\n",
       "      <td>0</td>\n",
       "      <td>0</td>\n",
       "      <td>0</td>\n",
       "      <td>0</td>\n",
       "      <td>10</td>\n",
       "    </tr>\n",
       "  </tbody>\n",
       "</table>\n",
       "<p>5 rows × 68 columns</p>\n",
       "</div>"
      ],
      "text/plain": [
       "     user  dayofweek  hour  age  numscreens  minigame  used_premium_feature  \\\n",
       "0  235136          3     2   23          15         0                     0   \n",
       "1  333588          6     1   24          13         0                     0   \n",
       "2  254414          1    19   23           3         0                     1   \n",
       "3  234192          4    16   28          40         0                     0   \n",
       "4   51549          1    18   31          32         0                     0   \n",
       "\n",
       "   enrolled  liked  Loan2  ...  Login  ProfileEmploymentLength  WebView  \\\n",
       "0         0      0      1  ...      1                        0        0   \n",
       "1         0      0      1  ...      0                        0        0   \n",
       "2         0      1      0  ...      0                        0        0   \n",
       "3         1      0      0  ...      0                        0        0   \n",
       "4         1      1      1  ...      0                        0        0   \n",
       "\n",
       "   SecurityModal  Loan4  ResendToken  TransactionList  NetworkFailure  \\\n",
       "0              0      0            0                0               0   \n",
       "1              0      0            0                0               0   \n",
       "2              0      0            0                0               0   \n",
       "3              0      0            0                0               0   \n",
       "4              0      0            0                0               0   \n",
       "\n",
       "   ListPicker  Others  \n",
       "0           0       7  \n",
       "1           0       5  \n",
       "2           0       0  \n",
       "3           0       6  \n",
       "4           0      10  \n",
       "\n",
       "[5 rows x 68 columns]"
      ]
     },
     "execution_count": 40,
     "metadata": {},
     "output_type": "execute_result"
    }
   ],
   "source": [
    "dataset.head()"
   ]
  },
  {
   "cell_type": "code",
   "execution_count": 41,
   "id": "77873ad8",
   "metadata": {},
   "outputs": [
    {
     "data": {
      "text/plain": [
       "array(['Loan2', 'location', 'Institutions', 'Credit3Container',\n",
       "       'VerifyPhone', 'BankVerification', 'VerifyDateOfBirth',\n",
       "       'ProfilePage', 'VerifyCountry', 'Cycle', 'idscreen',\n",
       "       'Credit3Dashboard', 'Loan3', 'CC1Category', 'Splash', 'Loan',\n",
       "       'CC1', 'RewardsContainer', 'Credit3', 'Credit1', 'EditProfile',\n",
       "       'Credit2', 'Finances', 'CC3', 'Saving9', 'Saving1', 'Alerts',\n",
       "       'Saving8', 'Saving10', 'Leaderboard', 'Saving4', 'VerifyMobile',\n",
       "       'VerifyHousing', 'RewardDetail', 'VerifyHousingAmount',\n",
       "       'ProfileMaritalStatus', 'ProfileChildren ', 'ProfileEducation',\n",
       "       'Saving7', 'ProfileEducationMajor', 'Rewards', 'AccountView',\n",
       "       'VerifyAnnualIncome', 'VerifyIncomeType', 'Saving2', 'Saving6',\n",
       "       'Saving2Amount', 'Saving5', 'ProfileJobTitle', 'Login',\n",
       "       'ProfileEmploymentLength', 'WebView', 'SecurityModal', 'Loan4',\n",
       "       'ResendToken', 'TransactionList', 'NetworkFailure', 'ListPicker'],\n",
       "      dtype=object)"
      ]
     },
     "execution_count": 41,
     "metadata": {},
     "output_type": "execute_result"
    }
   ],
   "source": [
    "top_screens"
   ]
  },
  {
   "cell_type": "markdown",
   "id": "5cc7b1a1",
   "metadata": {},
   "source": [
    "# Funneling"
   ]
  },
  {
   "cell_type": "code",
   "execution_count": 42,
   "id": "bea2be4a",
   "metadata": {},
   "outputs": [],
   "source": [
    "cm_screens = [\"Credit1\",\n",
    "               \"Credit2\",\n",
    "               \"Credit3\",\n",
    "               \"Credit3Container\",\n",
    "               \"Credit3Dashboard\"]\n",
    "savings_screens = [\"Saving1\",\n",
    "                    \"Saving2\",\n",
    "                    \"Saving2Amount\",\n",
    "                    \"Saving4\",\n",
    "                    \"Saving5\",\n",
    "                    \"Saving6\",\n",
    "                    \"Saving7\",\n",
    "                    \"Saving8\",\n",
    "                    \"Saving9\",\n",
    "                    \"Saving10\"]\n",
    "cc_screens = [\"CC1\",\n",
    "                \"CC1Category\",\n",
    "                \"CC3\"]\n",
    "\n",
    "loan_screens = [\"Loan\",\n",
    "               \"Loan2\",\n",
    "               \"Loan3\",\n",
    "               \"Loan4\"]"
   ]
  },
  {
   "cell_type": "code",
   "execution_count": null,
   "id": "42e5d96a",
   "metadata": {},
   "outputs": [],
   "source": [
    "\n"
   ]
  },
  {
   "cell_type": "code",
   "execution_count": 46,
   "id": "4bda513f",
   "metadata": {},
   "outputs": [],
   "source": [
    "for sc_name,sc in zip([\"Savingscount\",\"CMcount\",\"CCcount\",\"Loanscount\"],[savings_screens,cm_screens,cc_screens,loan_screens]):\n",
    "    dataset[sc_name]=dataset[sc].sum(axis=1)\n",
    "    dataset.drop(columns=sc,inplace=True)\n",
    "    "
   ]
  },
  {
   "cell_type": "code",
   "execution_count": 47,
   "id": "c1c1430f",
   "metadata": {},
   "outputs": [
    {
     "data": {
      "text/plain": [
       "Index(['user', 'dayofweek', 'hour', 'age', 'numscreens', 'minigame',\n",
       "       'used_premium_feature', 'enrolled', 'liked', 'location', 'Institutions',\n",
       "       'VerifyPhone', 'BankVerification', 'VerifyDateOfBirth', 'ProfilePage',\n",
       "       'VerifyCountry', 'Cycle', 'idscreen', 'Splash', 'RewardsContainer',\n",
       "       'EditProfile', 'Finances', 'Alerts', 'Leaderboard', 'VerifyMobile',\n",
       "       'VerifyHousing', 'RewardDetail', 'VerifyHousingAmount',\n",
       "       'ProfileMaritalStatus', 'ProfileChildren ', 'ProfileEducation',\n",
       "       'ProfileEducationMajor', 'Rewards', 'AccountView', 'VerifyAnnualIncome',\n",
       "       'VerifyIncomeType', 'ProfileJobTitle', 'Login',\n",
       "       'ProfileEmploymentLength', 'WebView', 'SecurityModal', 'ResendToken',\n",
       "       'TransactionList', 'NetworkFailure', 'ListPicker', 'Others',\n",
       "       'Savingscount', 'CMcount', 'CCcount', 'Loanscount'],\n",
       "      dtype='object')"
      ]
     },
     "execution_count": 47,
     "metadata": {},
     "output_type": "execute_result"
    }
   ],
   "source": [
    "dataset.columns"
   ]
  },
  {
   "cell_type": "code",
   "execution_count": 48,
   "id": "b2044805",
   "metadata": {},
   "outputs": [
    {
     "data": {
      "text/html": [
       "<div>\n",
       "<style scoped>\n",
       "    .dataframe tbody tr th:only-of-type {\n",
       "        vertical-align: middle;\n",
       "    }\n",
       "\n",
       "    .dataframe tbody tr th {\n",
       "        vertical-align: top;\n",
       "    }\n",
       "\n",
       "    .dataframe thead th {\n",
       "        text-align: right;\n",
       "    }\n",
       "</style>\n",
       "<table border=\"1\" class=\"dataframe\">\n",
       "  <thead>\n",
       "    <tr style=\"text-align: right;\">\n",
       "      <th></th>\n",
       "      <th>user</th>\n",
       "      <th>dayofweek</th>\n",
       "      <th>hour</th>\n",
       "      <th>age</th>\n",
       "      <th>numscreens</th>\n",
       "      <th>minigame</th>\n",
       "      <th>used_premium_feature</th>\n",
       "      <th>enrolled</th>\n",
       "      <th>liked</th>\n",
       "      <th>location</th>\n",
       "      <th>...</th>\n",
       "      <th>SecurityModal</th>\n",
       "      <th>ResendToken</th>\n",
       "      <th>TransactionList</th>\n",
       "      <th>NetworkFailure</th>\n",
       "      <th>ListPicker</th>\n",
       "      <th>Others</th>\n",
       "      <th>Savingscount</th>\n",
       "      <th>CMcount</th>\n",
       "      <th>CCcount</th>\n",
       "      <th>Loanscount</th>\n",
       "    </tr>\n",
       "  </thead>\n",
       "  <tbody>\n",
       "    <tr>\n",
       "      <th>0</th>\n",
       "      <td>235136</td>\n",
       "      <td>3</td>\n",
       "      <td>2</td>\n",
       "      <td>23</td>\n",
       "      <td>15</td>\n",
       "      <td>0</td>\n",
       "      <td>0</td>\n",
       "      <td>0</td>\n",
       "      <td>0</td>\n",
       "      <td>0</td>\n",
       "      <td>...</td>\n",
       "      <td>0</td>\n",
       "      <td>0</td>\n",
       "      <td>0</td>\n",
       "      <td>0</td>\n",
       "      <td>0</td>\n",
       "      <td>7</td>\n",
       "      <td>0</td>\n",
       "      <td>0</td>\n",
       "      <td>0</td>\n",
       "      <td>1</td>\n",
       "    </tr>\n",
       "    <tr>\n",
       "      <th>1</th>\n",
       "      <td>333588</td>\n",
       "      <td>6</td>\n",
       "      <td>1</td>\n",
       "      <td>24</td>\n",
       "      <td>13</td>\n",
       "      <td>0</td>\n",
       "      <td>0</td>\n",
       "      <td>0</td>\n",
       "      <td>0</td>\n",
       "      <td>1</td>\n",
       "      <td>...</td>\n",
       "      <td>0</td>\n",
       "      <td>0</td>\n",
       "      <td>0</td>\n",
       "      <td>0</td>\n",
       "      <td>0</td>\n",
       "      <td>5</td>\n",
       "      <td>0</td>\n",
       "      <td>0</td>\n",
       "      <td>0</td>\n",
       "      <td>1</td>\n",
       "    </tr>\n",
       "    <tr>\n",
       "      <th>2</th>\n",
       "      <td>254414</td>\n",
       "      <td>1</td>\n",
       "      <td>19</td>\n",
       "      <td>23</td>\n",
       "      <td>3</td>\n",
       "      <td>0</td>\n",
       "      <td>1</td>\n",
       "      <td>0</td>\n",
       "      <td>1</td>\n",
       "      <td>0</td>\n",
       "      <td>...</td>\n",
       "      <td>0</td>\n",
       "      <td>0</td>\n",
       "      <td>0</td>\n",
       "      <td>0</td>\n",
       "      <td>0</td>\n",
       "      <td>0</td>\n",
       "      <td>0</td>\n",
       "      <td>0</td>\n",
       "      <td>0</td>\n",
       "      <td>1</td>\n",
       "    </tr>\n",
       "    <tr>\n",
       "      <th>3</th>\n",
       "      <td>234192</td>\n",
       "      <td>4</td>\n",
       "      <td>16</td>\n",
       "      <td>28</td>\n",
       "      <td>40</td>\n",
       "      <td>0</td>\n",
       "      <td>0</td>\n",
       "      <td>1</td>\n",
       "      <td>0</td>\n",
       "      <td>1</td>\n",
       "      <td>...</td>\n",
       "      <td>0</td>\n",
       "      <td>0</td>\n",
       "      <td>0</td>\n",
       "      <td>0</td>\n",
       "      <td>0</td>\n",
       "      <td>6</td>\n",
       "      <td>0</td>\n",
       "      <td>3</td>\n",
       "      <td>0</td>\n",
       "      <td>1</td>\n",
       "    </tr>\n",
       "    <tr>\n",
       "      <th>4</th>\n",
       "      <td>51549</td>\n",
       "      <td>1</td>\n",
       "      <td>18</td>\n",
       "      <td>31</td>\n",
       "      <td>32</td>\n",
       "      <td>0</td>\n",
       "      <td>0</td>\n",
       "      <td>1</td>\n",
       "      <td>1</td>\n",
       "      <td>0</td>\n",
       "      <td>...</td>\n",
       "      <td>0</td>\n",
       "      <td>0</td>\n",
       "      <td>0</td>\n",
       "      <td>0</td>\n",
       "      <td>0</td>\n",
       "      <td>10</td>\n",
       "      <td>0</td>\n",
       "      <td>2</td>\n",
       "      <td>0</td>\n",
       "      <td>1</td>\n",
       "    </tr>\n",
       "  </tbody>\n",
       "</table>\n",
       "<p>5 rows × 50 columns</p>\n",
       "</div>"
      ],
      "text/plain": [
       "     user  dayofweek  hour  age  numscreens  minigame  used_premium_feature  \\\n",
       "0  235136          3     2   23          15         0                     0   \n",
       "1  333588          6     1   24          13         0                     0   \n",
       "2  254414          1    19   23           3         0                     1   \n",
       "3  234192          4    16   28          40         0                     0   \n",
       "4   51549          1    18   31          32         0                     0   \n",
       "\n",
       "   enrolled  liked  location  ...  SecurityModal  ResendToken  \\\n",
       "0         0      0         0  ...              0            0   \n",
       "1         0      0         1  ...              0            0   \n",
       "2         0      1         0  ...              0            0   \n",
       "3         1      0         1  ...              0            0   \n",
       "4         1      1         0  ...              0            0   \n",
       "\n",
       "   TransactionList  NetworkFailure  ListPicker  Others  Savingscount  CMcount  \\\n",
       "0                0               0           0       7             0        0   \n",
       "1                0               0           0       5             0        0   \n",
       "2                0               0           0       0             0        0   \n",
       "3                0               0           0       6             0        3   \n",
       "4                0               0           0      10             0        2   \n",
       "\n",
       "   CCcount  Loanscount  \n",
       "0        0           1  \n",
       "1        0           1  \n",
       "2        0           1  \n",
       "3        0           1  \n",
       "4        0           1  \n",
       "\n",
       "[5 rows x 50 columns]"
      ]
     },
     "execution_count": 48,
     "metadata": {},
     "output_type": "execute_result"
    }
   ],
   "source": [
    "dataset.head()\n"
   ]
  },
  {
   "cell_type": "code",
   "execution_count": 49,
   "id": "c90d79f3",
   "metadata": {},
   "outputs": [
    {
     "data": {
      "text/plain": [
       "Index(['user', 'dayofweek', 'hour', 'age', 'numscreens', 'minigame',\n",
       "       'used_premium_feature', 'enrolled', 'liked', 'location', 'Institutions',\n",
       "       'VerifyPhone', 'BankVerification', 'VerifyDateOfBirth', 'ProfilePage',\n",
       "       'VerifyCountry', 'Cycle', 'idscreen', 'Splash', 'RewardsContainer',\n",
       "       'EditProfile', 'Finances', 'Alerts', 'Leaderboard', 'VerifyMobile',\n",
       "       'VerifyHousing', 'RewardDetail', 'VerifyHousingAmount',\n",
       "       'ProfileMaritalStatus', 'ProfileChildren ', 'ProfileEducation',\n",
       "       'ProfileEducationMajor', 'Rewards', 'AccountView', 'VerifyAnnualIncome',\n",
       "       'VerifyIncomeType', 'ProfileJobTitle', 'Login',\n",
       "       'ProfileEmploymentLength', 'WebView', 'SecurityModal', 'ResendToken',\n",
       "       'TransactionList', 'NetworkFailure', 'ListPicker', 'Others',\n",
       "       'Savingscount', 'CMcount', 'CCcount', 'Loanscount'],\n",
       "      dtype='object')"
      ]
     },
     "execution_count": 49,
     "metadata": {},
     "output_type": "execute_result"
    }
   ],
   "source": [
    "dataset.columns"
   ]
  },
  {
   "cell_type": "code",
   "execution_count": null,
   "id": "46338e11",
   "metadata": {},
   "outputs": [],
   "source": []
  },
  {
   "cell_type": "code",
   "execution_count": 51,
   "id": "36d28c7a",
   "metadata": {},
   "outputs": [
    {
     "data": {
      "text/html": [
       "<div>\n",
       "<style scoped>\n",
       "    .dataframe tbody tr th:only-of-type {\n",
       "        vertical-align: middle;\n",
       "    }\n",
       "\n",
       "    .dataframe tbody tr th {\n",
       "        vertical-align: top;\n",
       "    }\n",
       "\n",
       "    .dataframe thead th {\n",
       "        text-align: right;\n",
       "    }\n",
       "</style>\n",
       "<table border=\"1\" class=\"dataframe\">\n",
       "  <thead>\n",
       "    <tr style=\"text-align: right;\">\n",
       "      <th></th>\n",
       "      <th>user</th>\n",
       "      <th>dayofweek</th>\n",
       "      <th>hour</th>\n",
       "      <th>age</th>\n",
       "      <th>numscreens</th>\n",
       "      <th>minigame</th>\n",
       "      <th>used_premium_feature</th>\n",
       "      <th>enrolled</th>\n",
       "      <th>liked</th>\n",
       "      <th>location</th>\n",
       "      <th>...</th>\n",
       "      <th>SecurityModal</th>\n",
       "      <th>ResendToken</th>\n",
       "      <th>TransactionList</th>\n",
       "      <th>NetworkFailure</th>\n",
       "      <th>ListPicker</th>\n",
       "      <th>Others</th>\n",
       "      <th>Savingscount</th>\n",
       "      <th>CMcount</th>\n",
       "      <th>CCcount</th>\n",
       "      <th>Loanscount</th>\n",
       "    </tr>\n",
       "  </thead>\n",
       "  <tbody>\n",
       "    <tr>\n",
       "      <th>0</th>\n",
       "      <td>235136</td>\n",
       "      <td>3</td>\n",
       "      <td>2</td>\n",
       "      <td>23</td>\n",
       "      <td>15</td>\n",
       "      <td>0</td>\n",
       "      <td>0</td>\n",
       "      <td>0</td>\n",
       "      <td>0</td>\n",
       "      <td>0</td>\n",
       "      <td>...</td>\n",
       "      <td>0</td>\n",
       "      <td>0</td>\n",
       "      <td>0</td>\n",
       "      <td>0</td>\n",
       "      <td>0</td>\n",
       "      <td>7</td>\n",
       "      <td>0</td>\n",
       "      <td>0</td>\n",
       "      <td>0</td>\n",
       "      <td>1</td>\n",
       "    </tr>\n",
       "    <tr>\n",
       "      <th>1</th>\n",
       "      <td>333588</td>\n",
       "      <td>6</td>\n",
       "      <td>1</td>\n",
       "      <td>24</td>\n",
       "      <td>13</td>\n",
       "      <td>0</td>\n",
       "      <td>0</td>\n",
       "      <td>0</td>\n",
       "      <td>0</td>\n",
       "      <td>1</td>\n",
       "      <td>...</td>\n",
       "      <td>0</td>\n",
       "      <td>0</td>\n",
       "      <td>0</td>\n",
       "      <td>0</td>\n",
       "      <td>0</td>\n",
       "      <td>5</td>\n",
       "      <td>0</td>\n",
       "      <td>0</td>\n",
       "      <td>0</td>\n",
       "      <td>1</td>\n",
       "    </tr>\n",
       "    <tr>\n",
       "      <th>2</th>\n",
       "      <td>254414</td>\n",
       "      <td>1</td>\n",
       "      <td>19</td>\n",
       "      <td>23</td>\n",
       "      <td>3</td>\n",
       "      <td>0</td>\n",
       "      <td>1</td>\n",
       "      <td>0</td>\n",
       "      <td>1</td>\n",
       "      <td>0</td>\n",
       "      <td>...</td>\n",
       "      <td>0</td>\n",
       "      <td>0</td>\n",
       "      <td>0</td>\n",
       "      <td>0</td>\n",
       "      <td>0</td>\n",
       "      <td>0</td>\n",
       "      <td>0</td>\n",
       "      <td>0</td>\n",
       "      <td>0</td>\n",
       "      <td>1</td>\n",
       "    </tr>\n",
       "    <tr>\n",
       "      <th>3</th>\n",
       "      <td>234192</td>\n",
       "      <td>4</td>\n",
       "      <td>16</td>\n",
       "      <td>28</td>\n",
       "      <td>40</td>\n",
       "      <td>0</td>\n",
       "      <td>0</td>\n",
       "      <td>1</td>\n",
       "      <td>0</td>\n",
       "      <td>1</td>\n",
       "      <td>...</td>\n",
       "      <td>0</td>\n",
       "      <td>0</td>\n",
       "      <td>0</td>\n",
       "      <td>0</td>\n",
       "      <td>0</td>\n",
       "      <td>6</td>\n",
       "      <td>0</td>\n",
       "      <td>3</td>\n",
       "      <td>0</td>\n",
       "      <td>1</td>\n",
       "    </tr>\n",
       "    <tr>\n",
       "      <th>4</th>\n",
       "      <td>51549</td>\n",
       "      <td>1</td>\n",
       "      <td>18</td>\n",
       "      <td>31</td>\n",
       "      <td>32</td>\n",
       "      <td>0</td>\n",
       "      <td>0</td>\n",
       "      <td>1</td>\n",
       "      <td>1</td>\n",
       "      <td>0</td>\n",
       "      <td>...</td>\n",
       "      <td>0</td>\n",
       "      <td>0</td>\n",
       "      <td>0</td>\n",
       "      <td>0</td>\n",
       "      <td>0</td>\n",
       "      <td>10</td>\n",
       "      <td>0</td>\n",
       "      <td>2</td>\n",
       "      <td>0</td>\n",
       "      <td>1</td>\n",
       "    </tr>\n",
       "  </tbody>\n",
       "</table>\n",
       "<p>5 rows × 50 columns</p>\n",
       "</div>"
      ],
      "text/plain": [
       "     user  dayofweek  hour  age  numscreens  minigame  used_premium_feature  \\\n",
       "0  235136          3     2   23          15         0                     0   \n",
       "1  333588          6     1   24          13         0                     0   \n",
       "2  254414          1    19   23           3         0                     1   \n",
       "3  234192          4    16   28          40         0                     0   \n",
       "4   51549          1    18   31          32         0                     0   \n",
       "\n",
       "   enrolled  liked  location  ...  SecurityModal  ResendToken  \\\n",
       "0         0      0         0  ...              0            0   \n",
       "1         0      0         1  ...              0            0   \n",
       "2         0      1         0  ...              0            0   \n",
       "3         1      0         1  ...              0            0   \n",
       "4         1      1         0  ...              0            0   \n",
       "\n",
       "   TransactionList  NetworkFailure  ListPicker  Others  Savingscount  CMcount  \\\n",
       "0                0               0           0       7             0        0   \n",
       "1                0               0           0       5             0        0   \n",
       "2                0               0           0       0             0        0   \n",
       "3                0               0           0       6             0        3   \n",
       "4                0               0           0      10             0        2   \n",
       "\n",
       "   CCcount  Loanscount  \n",
       "0        0           1  \n",
       "1        0           1  \n",
       "2        0           1  \n",
       "3        0           1  \n",
       "4        0           1  \n",
       "\n",
       "[5 rows x 50 columns]"
      ]
     },
     "execution_count": 51,
     "metadata": {},
     "output_type": "execute_result"
    }
   ],
   "source": [
    "dataset.head()"
   ]
  },
  {
   "cell_type": "code",
   "execution_count": 52,
   "id": "1790de6b",
   "metadata": {},
   "outputs": [
    {
     "data": {
      "text/plain": [
       "Index(['user', 'dayofweek', 'hour', 'age', 'numscreens', 'minigame',\n",
       "       'used_premium_feature', 'enrolled', 'liked', 'location', 'Institutions',\n",
       "       'VerifyPhone', 'BankVerification', 'VerifyDateOfBirth', 'ProfilePage',\n",
       "       'VerifyCountry', 'Cycle', 'idscreen', 'Splash', 'RewardsContainer',\n",
       "       'EditProfile', 'Finances', 'Alerts', 'Leaderboard', 'VerifyMobile',\n",
       "       'VerifyHousing', 'RewardDetail', 'VerifyHousingAmount',\n",
       "       'ProfileMaritalStatus', 'ProfileChildren ', 'ProfileEducation',\n",
       "       'ProfileEducationMajor', 'Rewards', 'AccountView', 'VerifyAnnualIncome',\n",
       "       'VerifyIncomeType', 'ProfileJobTitle', 'Login',\n",
       "       'ProfileEmploymentLength', 'WebView', 'SecurityModal', 'ResendToken',\n",
       "       'TransactionList', 'NetworkFailure', 'ListPicker', 'Others',\n",
       "       'Savingscount', 'CMcount', 'CCcount', 'Loanscount'],\n",
       "      dtype='object')"
      ]
     },
     "execution_count": 52,
     "metadata": {},
     "output_type": "execute_result"
    }
   ],
   "source": [
    "dataset.columns"
   ]
  },
  {
   "cell_type": "code",
   "execution_count": 56,
   "id": "6312aca7",
   "metadata": {},
   "outputs": [],
   "source": [
    "dataset.to_csv('newapp_data823.csv',doublequote=False)"
   ]
  },
  {
   "cell_type": "code",
   "execution_count": 2,
   "id": "95e6a7ca",
   "metadata": {},
   "outputs": [],
   "source": [
    "new_dataset=pd.read_csv('newapp_data823.csv',index_col=0)"
   ]
  },
  {
   "cell_type": "code",
   "execution_count": 3,
   "id": "cad0adad",
   "metadata": {},
   "outputs": [
    {
     "data": {
      "text/html": [
       "<div>\n",
       "<style scoped>\n",
       "    .dataframe tbody tr th:only-of-type {\n",
       "        vertical-align: middle;\n",
       "    }\n",
       "\n",
       "    .dataframe tbody tr th {\n",
       "        vertical-align: top;\n",
       "    }\n",
       "\n",
       "    .dataframe thead th {\n",
       "        text-align: right;\n",
       "    }\n",
       "</style>\n",
       "<table border=\"1\" class=\"dataframe\">\n",
       "  <thead>\n",
       "    <tr style=\"text-align: right;\">\n",
       "      <th></th>\n",
       "      <th>user</th>\n",
       "      <th>dayofweek</th>\n",
       "      <th>hour</th>\n",
       "      <th>age</th>\n",
       "      <th>numscreens</th>\n",
       "      <th>minigame</th>\n",
       "      <th>used_premium_feature</th>\n",
       "      <th>enrolled</th>\n",
       "      <th>liked</th>\n",
       "      <th>location</th>\n",
       "      <th>...</th>\n",
       "      <th>SecurityModal</th>\n",
       "      <th>ResendToken</th>\n",
       "      <th>TransactionList</th>\n",
       "      <th>NetworkFailure</th>\n",
       "      <th>ListPicker</th>\n",
       "      <th>Others</th>\n",
       "      <th>Savingscount</th>\n",
       "      <th>CMcount</th>\n",
       "      <th>CCcount</th>\n",
       "      <th>Loanscount</th>\n",
       "    </tr>\n",
       "  </thead>\n",
       "  <tbody>\n",
       "    <tr>\n",
       "      <th>0</th>\n",
       "      <td>235136</td>\n",
       "      <td>3</td>\n",
       "      <td>2</td>\n",
       "      <td>23</td>\n",
       "      <td>15</td>\n",
       "      <td>0</td>\n",
       "      <td>0</td>\n",
       "      <td>0</td>\n",
       "      <td>0</td>\n",
       "      <td>0</td>\n",
       "      <td>...</td>\n",
       "      <td>0</td>\n",
       "      <td>0</td>\n",
       "      <td>0</td>\n",
       "      <td>0</td>\n",
       "      <td>0</td>\n",
       "      <td>7</td>\n",
       "      <td>0</td>\n",
       "      <td>0</td>\n",
       "      <td>0</td>\n",
       "      <td>1</td>\n",
       "    </tr>\n",
       "    <tr>\n",
       "      <th>1</th>\n",
       "      <td>333588</td>\n",
       "      <td>6</td>\n",
       "      <td>1</td>\n",
       "      <td>24</td>\n",
       "      <td>13</td>\n",
       "      <td>0</td>\n",
       "      <td>0</td>\n",
       "      <td>0</td>\n",
       "      <td>0</td>\n",
       "      <td>1</td>\n",
       "      <td>...</td>\n",
       "      <td>0</td>\n",
       "      <td>0</td>\n",
       "      <td>0</td>\n",
       "      <td>0</td>\n",
       "      <td>0</td>\n",
       "      <td>5</td>\n",
       "      <td>0</td>\n",
       "      <td>0</td>\n",
       "      <td>0</td>\n",
       "      <td>1</td>\n",
       "    </tr>\n",
       "    <tr>\n",
       "      <th>2</th>\n",
       "      <td>254414</td>\n",
       "      <td>1</td>\n",
       "      <td>19</td>\n",
       "      <td>23</td>\n",
       "      <td>3</td>\n",
       "      <td>0</td>\n",
       "      <td>1</td>\n",
       "      <td>0</td>\n",
       "      <td>1</td>\n",
       "      <td>0</td>\n",
       "      <td>...</td>\n",
       "      <td>0</td>\n",
       "      <td>0</td>\n",
       "      <td>0</td>\n",
       "      <td>0</td>\n",
       "      <td>0</td>\n",
       "      <td>0</td>\n",
       "      <td>0</td>\n",
       "      <td>0</td>\n",
       "      <td>0</td>\n",
       "      <td>1</td>\n",
       "    </tr>\n",
       "    <tr>\n",
       "      <th>3</th>\n",
       "      <td>234192</td>\n",
       "      <td>4</td>\n",
       "      <td>16</td>\n",
       "      <td>28</td>\n",
       "      <td>40</td>\n",
       "      <td>0</td>\n",
       "      <td>0</td>\n",
       "      <td>1</td>\n",
       "      <td>0</td>\n",
       "      <td>1</td>\n",
       "      <td>...</td>\n",
       "      <td>0</td>\n",
       "      <td>0</td>\n",
       "      <td>0</td>\n",
       "      <td>0</td>\n",
       "      <td>0</td>\n",
       "      <td>6</td>\n",
       "      <td>0</td>\n",
       "      <td>3</td>\n",
       "      <td>0</td>\n",
       "      <td>1</td>\n",
       "    </tr>\n",
       "    <tr>\n",
       "      <th>4</th>\n",
       "      <td>51549</td>\n",
       "      <td>1</td>\n",
       "      <td>18</td>\n",
       "      <td>31</td>\n",
       "      <td>32</td>\n",
       "      <td>0</td>\n",
       "      <td>0</td>\n",
       "      <td>1</td>\n",
       "      <td>1</td>\n",
       "      <td>0</td>\n",
       "      <td>...</td>\n",
       "      <td>0</td>\n",
       "      <td>0</td>\n",
       "      <td>0</td>\n",
       "      <td>0</td>\n",
       "      <td>0</td>\n",
       "      <td>10</td>\n",
       "      <td>0</td>\n",
       "      <td>2</td>\n",
       "      <td>0</td>\n",
       "      <td>1</td>\n",
       "    </tr>\n",
       "  </tbody>\n",
       "</table>\n",
       "<p>5 rows × 50 columns</p>\n",
       "</div>"
      ],
      "text/plain": [
       "     user  dayofweek  hour  age  numscreens  minigame  used_premium_feature  \\\n",
       "0  235136          3     2   23          15         0                     0   \n",
       "1  333588          6     1   24          13         0                     0   \n",
       "2  254414          1    19   23           3         0                     1   \n",
       "3  234192          4    16   28          40         0                     0   \n",
       "4   51549          1    18   31          32         0                     0   \n",
       "\n",
       "   enrolled  liked  location  ...  SecurityModal  ResendToken  \\\n",
       "0         0      0         0  ...              0            0   \n",
       "1         0      0         1  ...              0            0   \n",
       "2         0      1         0  ...              0            0   \n",
       "3         1      0         1  ...              0            0   \n",
       "4         1      1         0  ...              0            0   \n",
       "\n",
       "   TransactionList  NetworkFailure  ListPicker  Others  Savingscount  CMcount  \\\n",
       "0                0               0           0       7             0        0   \n",
       "1                0               0           0       5             0        0   \n",
       "2                0               0           0       0             0        0   \n",
       "3                0               0           0       6             0        3   \n",
       "4                0               0           0      10             0        2   \n",
       "\n",
       "   CCcount  Loanscount  \n",
       "0        0           1  \n",
       "1        0           1  \n",
       "2        0           1  \n",
       "3        0           1  \n",
       "4        0           1  \n",
       "\n",
       "[5 rows x 50 columns]"
      ]
     },
     "execution_count": 3,
     "metadata": {},
     "output_type": "execute_result"
    }
   ],
   "source": [
    "new_dataset.head()"
   ]
  },
  {
   "cell_type": "code",
   "execution_count": 4,
   "id": "bbd48e60",
   "metadata": {},
   "outputs": [],
   "source": [
    "X=new_dataset.drop(['enrolled'],axis=1)"
   ]
  },
  {
   "cell_type": "code",
   "execution_count": 5,
   "id": "4437f3c0",
   "metadata": {},
   "outputs": [],
   "source": [
    "Y=new_dataset['enrolled']"
   ]
  },
  {
   "cell_type": "code",
   "execution_count": 6,
   "id": "d906fb4a",
   "metadata": {},
   "outputs": [],
   "source": [
    "from sklearn.model_selection import train_test_split\n",
    "X_train,X_test,y_train,y_test=train_test_split(X,Y,test_size=0.3,random_state=0)"
   ]
  },
  {
   "cell_type": "code",
   "execution_count": 7,
   "id": "219c565c",
   "metadata": {},
   "outputs": [],
   "source": [
    "train_userid=X_train['user']\n"
   ]
  },
  {
   "cell_type": "code",
   "execution_count": 8,
   "id": "6386b7bc",
   "metadata": {},
   "outputs": [
    {
     "data": {
      "text/plain": [
       "35000"
      ]
     },
     "execution_count": 8,
     "metadata": {},
     "output_type": "execute_result"
    }
   ],
   "source": [
    "len(train_userid.values)"
   ]
  },
  {
   "cell_type": "code",
   "execution_count": 9,
   "id": "15a0f413",
   "metadata": {},
   "outputs": [],
   "source": [
    "X_train.drop(['user'],axis=1,inplace=True)"
   ]
  },
  {
   "cell_type": "code",
   "execution_count": 10,
   "id": "d1ebacd3",
   "metadata": {},
   "outputs": [],
   "source": [
    "test_userid=X_test.user\n",
    "X_test.drop(['user'],axis=1,inplace=True)"
   ]
  },
  {
   "cell_type": "code",
   "execution_count": 11,
   "id": "47c19311",
   "metadata": {},
   "outputs": [],
   "source": [
    "from sklearn.preprocessing import StandardScaler"
   ]
  },
  {
   "cell_type": "code",
   "execution_count": 12,
   "id": "09962011",
   "metadata": {},
   "outputs": [],
   "source": [
    "sc=StandardScaler()"
   ]
  },
  {
   "cell_type": "code",
   "execution_count": 13,
   "id": "6e1e7dde",
   "metadata": {},
   "outputs": [],
   "source": [
    "X_train2=pd.DataFrame(sc.fit_transform(X_train)) #sc return a numpy array"
   ]
  },
  {
   "cell_type": "code",
   "execution_count": 14,
   "id": "ba378e1c",
   "metadata": {},
   "outputs": [],
   "source": [
    "X_test2=pd.DataFrame(sc.transform(X_test))"
   ]
  },
  {
   "cell_type": "code",
   "execution_count": 18,
   "id": "84ddee07",
   "metadata": {},
   "outputs": [
    {
     "name": "stderr",
     "output_type": "stream",
     "text": [
      "C:\\Users\\Abhishek Ambast\\anaconda3\\lib\\site-packages\\sklearn\\neighbors\\_classification.py:211: FutureWarning:\n",
      "\n",
      "Unlike other reduction functions (e.g. `skew`, `kurtosis`), the default behavior of `mode` typically preserves the axis it acts along. In SciPy 1.11.0, this behavior will change: the default value of `keepdims` will become False, the `axis` over which the statistic is taken will be eliminated, and the value None will no longer be accepted. Set `keepdims` to True or False to avoid this warning.\n",
      "\n"
     ]
    },
    {
     "data": {
      "image/png": "[encoded data removed]",
      "text/plain": [
       "<Figure size 2880x2160 with 1 Axes>"
      ]
     },
     "metadata": {
      "needs_background": "light"
     },
     "output_type": "display_data"
    }
   ],
   "source": [
    "from sklearn.metrics import f1_score,accuracy_score,precision_score,recall_score\n",
    "models = {}\n",
    "\n",
    "# Logistic Regression\n",
    "from sklearn.linear_model import LogisticRegression\n",
    "models['Logistic Regression'] = LogisticRegression()\n",
    "\n",
    "\n",
    "# Support Vector Machines\n",
    "from sklearn.svm import SVC\n",
    "models['Support Vector Machines'] = SVC()\n",
    "\n",
    "# Decision Trees\n",
    "from sklearn.tree import DecisionTreeClassifier\n",
    "models['Decision Trees'] = DecisionTreeClassifier()\n",
    "\n",
    "# Random Forest\n",
    "from sklearn.ensemble import RandomForestClassifier\n",
    "models['Random Forest'] = RandomForestClassifier()\n",
    "\n",
    "# Naive Bayes\n",
    "from sklearn.naive_bayes import GaussianNB\n",
    "models['Naive Bayes'] = GaussianNB()\n",
    "\n",
    "# K-Nearest Neighbors\n",
    "from sklearn.neighbors import KNeighborsClassifier\n",
    "models['K-Nearest Neighbor'] = KNeighborsClassifier()\n",
    "from sklearn.metrics import accuracy_score, precision_score, recall_score\n",
    "\n",
    "accuracy, precision, recall,f1 = {}, {}, {},{}\n",
    "\n",
    "for key in models.keys():\n",
    "    \n",
    "    # Fit the classifier model\n",
    "    models[key].fit(X_train2, y_train)\n",
    "    \n",
    "    # Prediction \n",
    "    predictions = models[key].predict(X_test2)\n",
    "    \n",
    "    # Calculate Accuracy, Precision and Recall Metrics\n",
    "    accuracy[key] = accuracy_score(predictions, y_test)\n",
    "    precision[key] = precision_score(predictions, y_test)\n",
    "    recall[key] = recall_score(predictions, y_test)\n",
    "    f1[key]=f1_score(predictions,y_test)\n",
    "\n",
    "    \n",
    "    \n",
    "\n",
    "\n",
    "\n",
    "df_check=pd.DataFrame(index=models.keys(),columns=[\"Accuracy\",\"Precision\",\"Recall\",\"f1\"])\n",
    "df_check[\"Accuracy\"]=accuracy.values()\n",
    "df_check[\"Precision\"]=precision.values()\n",
    "df_check[\"Recall\"]=recall.values()\n",
    "df_check[\"f1\"]=f1.values()\n",
    "\n",
    "\n",
    "ax  = df_check.plot.bar(rot=45,figsize=(40,30),fontsize=30)\n",
    "ax.legend(ncol= len(models.keys()), bbox_to_anchor=(0, 1), loc='lower left', prop={'size': 20})\n",
    "plt.tight_layout()"
   ]
  },
  {
   "cell_type": "code",
   "execution_count": 19,
   "id": "3e30be42",
   "metadata": {},
   "outputs": [],
   "source": [
    "param_grid = { 'bootstrap': [True], 'max_depth': [1,3,5, 10,12,15,None], 'max_features': ['auto', 'log2','sqrt'], 'n_estimators': [5,6,7,8,9,10,11, 12, 13,15,20,40,60,80,100]}"
   ]
  },
  {
   "cell_type": "code",
   "execution_count": 37,
   "id": "8837faf8",
   "metadata": {},
   "outputs": [
    {
     "name": "stdout",
     "output_type": "stream",
     "text": [
      "Fitting 3 folds for each of 315 candidates, totalling 945 fits\n",
      "[CV] END bootstrap=True, max_depth=1, max_features=auto, n_estimators=5; total time=   0.0s\n",
      "[CV] END bootstrap=True, max_depth=1, max_features=auto, n_estimators=5; total time=   0.0s\n",
      "[CV] END bootstrap=True, max_depth=1, max_features=auto, n_estimators=5; total time=   0.0s\n",
      "[CV] END bootstrap=True, max_depth=1, max_features=auto, n_estimators=6; total time=   0.0s\n",
      "[CV] END bootstrap=True, max_depth=1, max_features=auto, n_estimators=6; total time=   0.0s\n",
      "[CV] END bootstrap=True, max_depth=1, max_features=auto, n_estimators=6; total time=   0.0s\n",
      "[CV] END bootstrap=True, max_depth=1, max_features=auto, n_estimators=7; total time=   0.0s\n",
      "[CV] END bootstrap=True, max_depth=1, max_features=auto, n_estimators=7; total time=   0.0s\n",
      "[CV] END bootstrap=True, max_depth=1, max_features=auto, n_estimators=7; total time=   0.0s\n",
      "[CV] END bootstrap=True, max_depth=1, max_features=auto, n_estimators=8; total time=   0.0s\n",
      "[CV] END bootstrap=True, max_depth=1, max_features=auto, n_estimators=8; total time=   0.0s\n",
      "[CV] END bootstrap=True, max_depth=1, max_features=auto, n_estimators=8; total time=   0.0s\n",
      "[CV] END bootstrap=True, max_depth=1, max_features=auto, n_estimators=9; total time=   0.0s\n",
      "[CV] END bootstrap=True, max_depth=1, max_features=auto, n_estimators=9; total time=   0.0s\n",
      "[CV] END bootstrap=True, max_depth=1, max_features=auto, n_estimators=9; total time=   0.0s\n",
      "[CV] END bootstrap=True, max_depth=1, max_features=auto, n_estimators=10; total time=   0.0s\n",
      "[CV] END bootstrap=True, max_depth=1, max_features=auto, n_estimators=10; total time=   0.0s\n",
      "[CV] END bootstrap=True, max_depth=1, max_features=auto, n_estimators=10; total time=   0.0s\n",
      "[CV] END bootstrap=True, max_depth=1, max_features=auto, n_estimators=11; total time=   0.0s\n",
      "[CV] END bootstrap=True, max_depth=1, max_features=auto, n_estimators=11; total time=   0.0s\n",
      "[CV] END bootstrap=True, max_depth=1, max_features=auto, n_estimators=11; total time=   0.0s\n",
      "[CV] END bootstrap=True, max_depth=1, max_features=auto, n_estimators=12; total time=   0.0s\n",
      "[CV] END bootstrap=True, max_depth=1, max_features=auto, n_estimators=12; total time=   0.0s\n",
      "[CV] END bootstrap=True, max_depth=1, max_features=auto, n_estimators=12; total time=   0.0s\n",
      "[CV] END bootstrap=True, max_depth=1, max_features=auto, n_estimators=13; total time=   0.0s\n",
      "[CV] END bootstrap=True, max_depth=1, max_features=auto, n_estimators=13; total time=   0.0s\n",
      "[CV] END bootstrap=True, max_depth=1, max_features=auto, n_estimators=13; total time=   0.0s\n",
      "[CV] END bootstrap=True, max_depth=1, max_features=auto, n_estimators=15; total time=   0.0s\n",
      "[CV] END bootstrap=True, max_depth=1, max_features=auto, n_estimators=15; total time=   0.0s\n",
      "[CV] END bootstrap=True, max_depth=1, max_features=auto, n_estimators=15; total time=   0.0s\n",
      "[CV] END bootstrap=True, max_depth=1, max_features=auto, n_estimators=20; total time=   0.0s\n",
      "[CV] END bootstrap=True, max_depth=1, max_features=auto, n_estimators=20; total time=   0.0s\n",
      "[CV] END bootstrap=True, max_depth=1, max_features=auto, n_estimators=20; total time=   0.0s\n",
      "[CV] END bootstrap=True, max_depth=1, max_features=auto, n_estimators=40; total time=   0.1s\n",
      "[CV] END bootstrap=True, max_depth=1, max_features=auto, n_estimators=40; total time=   0.2s\n",
      "[CV] END bootstrap=True, max_depth=1, max_features=auto, n_estimators=40; total time=   0.1s\n",
      "[CV] END bootstrap=True, max_depth=1, max_features=auto, n_estimators=60; total time=   0.3s\n",
      "[CV] END bootstrap=True, max_depth=1, max_features=auto, n_estimators=60; total time=   0.2s\n",
      "[CV] END bootstrap=True, max_depth=1, max_features=auto, n_estimators=60; total time=   0.2s\n",
      "[CV] END bootstrap=True, max_depth=1, max_features=auto, n_estimators=80; total time=   0.3s\n",
      "[CV] END bootstrap=True, max_depth=1, max_features=auto, n_estimators=80; total time=   0.3s\n",
      "[CV] END bootstrap=True, max_depth=1, max_features=auto, n_estimators=80; total time=   0.3s\n",
      "[CV] END bootstrap=True, max_depth=1, max_features=auto, n_estimators=100; total time=   0.4s\n",
      "[CV] END bootstrap=True, max_depth=1, max_features=auto, n_estimators=100; total time=   0.4s\n",
      "[CV] END bootstrap=True, max_depth=1, max_features=auto, n_estimators=100; total time=   0.4s\n",
      "[CV] END bootstrap=True, max_depth=1, max_features=log2, n_estimators=5; total time=   0.0s\n",
      "[CV] END bootstrap=True, max_depth=1, max_features=log2, n_estimators=5; total time=   0.0s\n",
      "[CV] END bootstrap=True, max_depth=1, max_features=log2, n_estimators=5; total time=   0.0s\n",
      "[CV] END bootstrap=True, max_depth=1, max_features=log2, n_estimators=6; total time=   0.0s\n",
      "[CV] END bootstrap=True, max_depth=1, max_features=log2, n_estimators=6; total time=   0.0s\n",
      "[CV] END bootstrap=True, max_depth=1, max_features=log2, n_estimators=6; total time=   0.0s\n",
      "[CV] END bootstrap=True, max_depth=1, max_features=log2, n_estimators=7; total time=   0.0s\n",
      "[CV] END bootstrap=True, max_depth=1, max_features=log2, n_estimators=7; total time=   0.0s\n",
      "[CV] END bootstrap=True, max_depth=1, max_features=log2, n_estimators=7; total time=   0.0s\n",
      "[CV] END bootstrap=True, max_depth=1, max_features=log2, n_estimators=8; total time=   0.0s\n",
      "[CV] END bootstrap=True, max_depth=1, max_features=log2, n_estimators=8; total time=   0.0s\n",
      "[CV] END bootstrap=True, max_depth=1, max_features=log2, n_estimators=8; total time=   0.0s\n",
      "[CV] END bootstrap=True, max_depth=1, max_features=log2, n_estimators=9; total time=   0.0s\n",
      "[CV] END bootstrap=True, max_depth=1, max_features=log2, n_estimators=9; total time=   0.0s\n",
      "[CV] END bootstrap=True, max_depth=1, max_features=log2, n_estimators=9; total time=   0.0s\n",
      "[CV] END bootstrap=True, max_depth=1, max_features=log2, n_estimators=10; total time=   0.0s\n",
      "[CV] END bootstrap=True, max_depth=1, max_features=log2, n_estimators=10; total time=   0.0s\n",
      "[CV] END bootstrap=True, max_depth=1, max_features=log2, n_estimators=10; total time=   0.0s\n",
      "[CV] END bootstrap=True, max_depth=1, max_features=log2, n_estimators=11; total time=   0.0s\n",
      "[CV] END bootstrap=True, max_depth=1, max_features=log2, n_estimators=11; total time=   0.0s\n",
      "[CV] END bootstrap=True, max_depth=1, max_features=log2, n_estimators=11; total time=   0.0s\n",
      "[CV] END bootstrap=True, max_depth=1, max_features=log2, n_estimators=12; total time=   0.0s\n",
      "[CV] END bootstrap=True, max_depth=1, max_features=log2, n_estimators=12; total time=   0.0s\n",
      "[CV] END bootstrap=True, max_depth=1, max_features=log2, n_estimators=12; total time=   0.0s\n",
      "[CV] END bootstrap=True, max_depth=1, max_features=log2, n_estimators=13; total time=   0.0s\n",
      "[CV] END bootstrap=True, max_depth=1, max_features=log2, n_estimators=13; total time=   0.0s\n",
      "[CV] END bootstrap=True, max_depth=1, max_features=log2, n_estimators=13; total time=   0.0s\n",
      "[CV] END bootstrap=True, max_depth=1, max_features=log2, n_estimators=15; total time=   0.0s\n",
      "[CV] END bootstrap=True, max_depth=1, max_features=log2, n_estimators=15; total time=   0.0s\n",
      "[CV] END bootstrap=True, max_depth=1, max_features=log2, n_estimators=15; total time=   0.0s\n",
      "[CV] END bootstrap=True, max_depth=1, max_features=log2, n_estimators=20; total time=   0.0s\n",
      "[CV] END bootstrap=True, max_depth=1, max_features=log2, n_estimators=20; total time=   0.0s\n",
      "[CV] END bootstrap=True, max_depth=1, max_features=log2, n_estimators=20; total time=   0.0s\n",
      "[CV] END bootstrap=True, max_depth=1, max_features=log2, n_estimators=40; total time=   0.1s\n",
      "[CV] END bootstrap=True, max_depth=1, max_features=log2, n_estimators=40; total time=   0.1s\n",
      "[CV] END bootstrap=True, max_depth=1, max_features=log2, n_estimators=40; total time=   0.1s\n",
      "[CV] END bootstrap=True, max_depth=1, max_features=log2, n_estimators=60; total time=   0.2s\n",
      "[CV] END bootstrap=True, max_depth=1, max_features=log2, n_estimators=60; total time=   0.2s\n",
      "[CV] END bootstrap=True, max_depth=1, max_features=log2, n_estimators=60; total time=   0.2s\n",
      "[CV] END bootstrap=True, max_depth=1, max_features=log2, n_estimators=80; total time=   0.2s\n",
      "[CV] END bootstrap=True, max_depth=1, max_features=log2, n_estimators=80; total time=   0.3s\n",
      "[CV] END bootstrap=True, max_depth=1, max_features=log2, n_estimators=80; total time=   0.3s\n",
      "[CV] END bootstrap=True, max_depth=1, max_features=log2, n_estimators=100; total time=   0.3s\n"
     ]
    },
    {
     "name": "stdout",
     "output_type": "stream",
     "text": [
      "[CV] END bootstrap=True, max_depth=1, max_features=log2, n_estimators=100; total time=   0.3s\n",
      "[CV] END bootstrap=True, max_depth=1, max_features=log2, n_estimators=100; total time=   0.3s\n",
      "[CV] END bootstrap=True, max_depth=1, max_features=sqrt, n_estimators=5; total time=   0.0s\n",
      "[CV] END bootstrap=True, max_depth=1, max_features=sqrt, n_estimators=5; total time=   0.0s\n",
      "[CV] END bootstrap=True, max_depth=1, max_features=sqrt, n_estimators=5; total time=   0.0s\n",
      "[CV] END bootstrap=True, max_depth=1, max_features=sqrt, n_estimators=6; total time=   0.0s\n",
      "[CV] END bootstrap=True, max_depth=1, max_features=sqrt, n_estimators=6; total time=   0.0s\n",
      "[CV] END bootstrap=True, max_depth=1, max_features=sqrt, n_estimators=6; total time=   0.0s\n",
      "[CV] END bootstrap=True, max_depth=1, max_features=sqrt, n_estimators=7; total time=   0.0s\n",
      "[CV] END bootstrap=True, max_depth=1, max_features=sqrt, n_estimators=7; total time=   0.0s\n",
      "[CV] END bootstrap=True, max_depth=1, max_features=sqrt, n_estimators=7; total time=   0.0s\n",
      "[CV] END bootstrap=True, max_depth=1, max_features=sqrt, n_estimators=8; total time=   0.0s\n",
      "[CV] END bootstrap=True, max_depth=1, max_features=sqrt, n_estimators=8; total time=   0.0s\n",
      "[CV] END bootstrap=True, max_depth=1, max_features=sqrt, n_estimators=8; total time=   0.0s\n",
      "[CV] END bootstrap=True, max_depth=1, max_features=sqrt, n_estimators=9; total time=   0.0s\n",
      "[CV] END bootstrap=True, max_depth=1, max_features=sqrt, n_estimators=9; total time=   0.0s\n",
      "[CV] END bootstrap=True, max_depth=1, max_features=sqrt, n_estimators=9; total time=   0.0s\n",
      "[CV] END bootstrap=True, max_depth=1, max_features=sqrt, n_estimators=10; total time=   0.0s\n",
      "[CV] END bootstrap=True, max_depth=1, max_features=sqrt, n_estimators=10; total time=   0.0s\n",
      "[CV] END bootstrap=True, max_depth=1, max_features=sqrt, n_estimators=10; total time=   0.0s\n",
      "[CV] END bootstrap=True, max_depth=1, max_features=sqrt, n_estimators=11; total time=   0.0s\n",
      "[CV] END bootstrap=True, max_depth=1, max_features=sqrt, n_estimators=11; total time=   0.0s\n",
      "[CV] END bootstrap=True, max_depth=1, max_features=sqrt, n_estimators=11; total time=   0.0s\n",
      "[CV] END bootstrap=True, max_depth=1, max_features=sqrt, n_estimators=12; total time=   0.0s\n",
      "[CV] END bootstrap=True, max_depth=1, max_features=sqrt, n_estimators=12; total time=   0.0s\n",
      "[CV] END bootstrap=True, max_depth=1, max_features=sqrt, n_estimators=12; total time=   0.0s\n",
      "[CV] END bootstrap=True, max_depth=1, max_features=sqrt, n_estimators=13; total time=   0.0s\n",
      "[CV] END bootstrap=True, max_depth=1, max_features=sqrt, n_estimators=13; total time=   0.0s\n",
      "[CV] END bootstrap=True, max_depth=1, max_features=sqrt, n_estimators=13; total time=   0.0s\n",
      "[CV] END bootstrap=True, max_depth=1, max_features=sqrt, n_estimators=15; total time=   0.0s\n",
      "[CV] END bootstrap=True, max_depth=1, max_features=sqrt, n_estimators=15; total time=   0.0s\n",
      "[CV] END bootstrap=True, max_depth=1, max_features=sqrt, n_estimators=15; total time=   0.0s\n",
      "[CV] END bootstrap=True, max_depth=1, max_features=sqrt, n_estimators=20; total time=   0.0s\n",
      "[CV] END bootstrap=True, max_depth=1, max_features=sqrt, n_estimators=20; total time=   0.0s\n",
      "[CV] END bootstrap=True, max_depth=1, max_features=sqrt, n_estimators=20; total time=   0.0s\n",
      "[CV] END bootstrap=True, max_depth=1, max_features=sqrt, n_estimators=40; total time=   0.1s\n",
      "[CV] END bootstrap=True, max_depth=1, max_features=sqrt, n_estimators=40; total time=   0.1s\n",
      "[CV] END bootstrap=True, max_depth=1, max_features=sqrt, n_estimators=40; total time=   0.1s\n",
      "[CV] END bootstrap=True, max_depth=1, max_features=sqrt, n_estimators=60; total time=   0.2s\n",
      "[CV] END bootstrap=True, max_depth=1, max_features=sqrt, n_estimators=60; total time=   0.2s\n",
      "[CV] END bootstrap=True, max_depth=1, max_features=sqrt, n_estimators=60; total time=   0.2s\n",
      "[CV] END bootstrap=True, max_depth=1, max_features=sqrt, n_estimators=80; total time=   0.3s\n",
      "[CV] END bootstrap=True, max_depth=1, max_features=sqrt, n_estimators=80; total time=   0.3s\n",
      "[CV] END bootstrap=True, max_depth=1, max_features=sqrt, n_estimators=80; total time=   0.3s\n",
      "[CV] END bootstrap=True, max_depth=1, max_features=sqrt, n_estimators=100; total time=   0.4s\n",
      "[CV] END bootstrap=True, max_depth=1, max_features=sqrt, n_estimators=100; total time=   0.3s\n",
      "[CV] END bootstrap=True, max_depth=1, max_features=sqrt, n_estimators=100; total time=   0.4s\n",
      "[CV] END bootstrap=True, max_depth=3, max_features=auto, n_estimators=5; total time=   0.0s\n",
      "[CV] END bootstrap=True, max_depth=3, max_features=auto, n_estimators=5; total time=   0.0s\n",
      "[CV] END bootstrap=True, max_depth=3, max_features=auto, n_estimators=5; total time=   0.0s\n",
      "[CV] END bootstrap=True, max_depth=3, max_features=auto, n_estimators=6; total time=   0.0s\n",
      "[CV] END bootstrap=True, max_depth=3, max_features=auto, n_estimators=6; total time=   0.0s\n",
      "[CV] END bootstrap=True, max_depth=3, max_features=auto, n_estimators=6; total time=   0.0s\n",
      "[CV] END bootstrap=True, max_depth=3, max_features=auto, n_estimators=7; total time=   0.0s\n",
      "[CV] END bootstrap=True, max_depth=3, max_features=auto, n_estimators=7; total time=   0.0s\n",
      "[CV] END bootstrap=True, max_depth=3, max_features=auto, n_estimators=7; total time=   0.0s\n",
      "[CV] END bootstrap=True, max_depth=3, max_features=auto, n_estimators=8; total time=   0.0s\n",
      "[CV] END bootstrap=True, max_depth=3, max_features=auto, n_estimators=8; total time=   0.0s\n",
      "[CV] END bootstrap=True, max_depth=3, max_features=auto, n_estimators=8; total time=   0.0s\n",
      "[CV] END bootstrap=True, max_depth=3, max_features=auto, n_estimators=9; total time=   0.0s\n",
      "[CV] END bootstrap=True, max_depth=3, max_features=auto, n_estimators=9; total time=   0.0s\n",
      "[CV] END bootstrap=True, max_depth=3, max_features=auto, n_estimators=9; total time=   0.0s\n",
      "[CV] END bootstrap=True, max_depth=3, max_features=auto, n_estimators=10; total time=   0.0s\n",
      "[CV] END bootstrap=True, max_depth=3, max_features=auto, n_estimators=10; total time=   0.0s\n",
      "[CV] END bootstrap=True, max_depth=3, max_features=auto, n_estimators=10; total time=   0.0s\n",
      "[CV] END bootstrap=True, max_depth=3, max_features=auto, n_estimators=11; total time=   0.0s\n",
      "[CV] END bootstrap=True, max_depth=3, max_features=auto, n_estimators=11; total time=   0.0s\n",
      "[CV] END bootstrap=True, max_depth=3, max_features=auto, n_estimators=11; total time=   0.0s\n",
      "[CV] END bootstrap=True, max_depth=3, max_features=auto, n_estimators=12; total time=   0.0s\n",
      "[CV] END bootstrap=True, max_depth=3, max_features=auto, n_estimators=12; total time=   0.0s\n",
      "[CV] END bootstrap=True, max_depth=3, max_features=auto, n_estimators=12; total time=   0.0s\n",
      "[CV] END bootstrap=True, max_depth=3, max_features=auto, n_estimators=13; total time=   0.0s\n",
      "[CV] END bootstrap=True, max_depth=3, max_features=auto, n_estimators=13; total time=   0.0s\n",
      "[CV] END bootstrap=True, max_depth=3, max_features=auto, n_estimators=13; total time=   0.0s\n",
      "[CV] END bootstrap=True, max_depth=3, max_features=auto, n_estimators=15; total time=   0.0s\n",
      "[CV] END bootstrap=True, max_depth=3, max_features=auto, n_estimators=15; total time=   0.0s\n",
      "[CV] END bootstrap=True, max_depth=3, max_features=auto, n_estimators=15; total time=   0.0s\n",
      "[CV] END bootstrap=True, max_depth=3, max_features=auto, n_estimators=20; total time=   0.0s\n",
      "[CV] END bootstrap=True, max_depth=3, max_features=auto, n_estimators=20; total time=   0.0s\n",
      "[CV] END bootstrap=True, max_depth=3, max_features=auto, n_estimators=20; total time=   0.0s\n",
      "[CV] END bootstrap=True, max_depth=3, max_features=auto, n_estimators=40; total time=   0.2s\n",
      "[CV] END bootstrap=True, max_depth=3, max_features=auto, n_estimators=40; total time=   0.2s\n",
      "[CV] END bootstrap=True, max_depth=3, max_features=auto, n_estimators=40; total time=   0.2s\n",
      "[CV] END bootstrap=True, max_depth=3, max_features=auto, n_estimators=60; total time=   0.3s\n",
      "[CV] END bootstrap=True, max_depth=3, max_features=auto, n_estimators=60; total time=   0.3s\n",
      "[CV] END bootstrap=True, max_depth=3, max_features=auto, n_estimators=60; total time=   0.3s\n",
      "[CV] END bootstrap=True, max_depth=3, max_features=auto, n_estimators=80; total time=   0.4s\n",
      "[CV] END bootstrap=True, max_depth=3, max_features=auto, n_estimators=80; total time=   0.4s\n",
      "[CV] END bootstrap=True, max_depth=3, max_features=auto, n_estimators=80; total time=   0.4s\n"
     ]
    },
    {
     "name": "stdout",
     "output_type": "stream",
     "text": [
      "[CV] END bootstrap=True, max_depth=3, max_features=auto, n_estimators=100; total time=   0.6s\n",
      "[CV] END bootstrap=True, max_depth=3, max_features=auto, n_estimators=100; total time=   0.6s\n",
      "[CV] END bootstrap=True, max_depth=3, max_features=auto, n_estimators=100; total time=   0.6s\n",
      "[CV] END bootstrap=True, max_depth=3, max_features=log2, n_estimators=5; total time=   0.0s\n",
      "[CV] END bootstrap=True, max_depth=3, max_features=log2, n_estimators=5; total time=   0.0s\n",
      "[CV] END bootstrap=True, max_depth=3, max_features=log2, n_estimators=5; total time=   0.0s\n",
      "[CV] END bootstrap=True, max_depth=3, max_features=log2, n_estimators=6; total time=   0.0s\n",
      "[CV] END bootstrap=True, max_depth=3, max_features=log2, n_estimators=6; total time=   0.0s\n",
      "[CV] END bootstrap=True, max_depth=3, max_features=log2, n_estimators=6; total time=   0.0s\n",
      "[CV] END bootstrap=True, max_depth=3, max_features=log2, n_estimators=7; total time=   0.0s\n",
      "[CV] END bootstrap=True, max_depth=3, max_features=log2, n_estimators=7; total time=   0.0s\n",
      "[CV] END bootstrap=True, max_depth=3, max_features=log2, n_estimators=7; total time=   0.0s\n",
      "[CV] END bootstrap=True, max_depth=3, max_features=log2, n_estimators=8; total time=   0.0s\n",
      "[CV] END bootstrap=True, max_depth=3, max_features=log2, n_estimators=8; total time=   0.0s\n",
      "[CV] END bootstrap=True, max_depth=3, max_features=log2, n_estimators=8; total time=   0.0s\n",
      "[CV] END bootstrap=True, max_depth=3, max_features=log2, n_estimators=9; total time=   0.0s\n",
      "[CV] END bootstrap=True, max_depth=3, max_features=log2, n_estimators=9; total time=   0.0s\n",
      "[CV] END bootstrap=True, max_depth=3, max_features=log2, n_estimators=9; total time=   0.0s\n",
      "[CV] END bootstrap=True, max_depth=3, max_features=log2, n_estimators=10; total time=   0.0s\n",
      "[CV] END bootstrap=True, max_depth=3, max_features=log2, n_estimators=10; total time=   0.0s\n",
      "[CV] END bootstrap=True, max_depth=3, max_features=log2, n_estimators=10; total time=   0.0s\n",
      "[CV] END bootstrap=True, max_depth=3, max_features=log2, n_estimators=11; total time=   0.0s\n",
      "[CV] END bootstrap=True, max_depth=3, max_features=log2, n_estimators=11; total time=   0.0s\n",
      "[CV] END bootstrap=True, max_depth=3, max_features=log2, n_estimators=11; total time=   0.0s\n",
      "[CV] END bootstrap=True, max_depth=3, max_features=log2, n_estimators=12; total time=   0.0s\n",
      "[CV] END bootstrap=True, max_depth=3, max_features=log2, n_estimators=12; total time=   0.0s\n",
      "[CV] END bootstrap=True, max_depth=3, max_features=log2, n_estimators=12; total time=   0.0s\n",
      "[CV] END bootstrap=True, max_depth=3, max_features=log2, n_estimators=13; total time=   0.0s\n",
      "[CV] END bootstrap=True, max_depth=3, max_features=log2, n_estimators=13; total time=   0.0s\n",
      "[CV] END bootstrap=True, max_depth=3, max_features=log2, n_estimators=13; total time=   0.0s\n",
      "[CV] END bootstrap=True, max_depth=3, max_features=log2, n_estimators=15; total time=   0.0s\n",
      "[CV] END bootstrap=True, max_depth=3, max_features=log2, n_estimators=15; total time=   0.0s\n",
      "[CV] END bootstrap=True, max_depth=3, max_features=log2, n_estimators=15; total time=   0.0s\n",
      "[CV] END bootstrap=True, max_depth=3, max_features=log2, n_estimators=20; total time=   0.0s\n",
      "[CV] END bootstrap=True, max_depth=3, max_features=log2, n_estimators=20; total time=   0.0s\n",
      "[CV] END bootstrap=True, max_depth=3, max_features=log2, n_estimators=20; total time=   0.0s\n",
      "[CV] END bootstrap=True, max_depth=3, max_features=log2, n_estimators=40; total time=   0.2s\n",
      "[CV] END bootstrap=True, max_depth=3, max_features=log2, n_estimators=40; total time=   0.2s\n",
      "[CV] END bootstrap=True, max_depth=3, max_features=log2, n_estimators=40; total time=   0.2s\n",
      "[CV] END bootstrap=True, max_depth=3, max_features=log2, n_estimators=60; total time=   0.3s\n",
      "[CV] END bootstrap=True, max_depth=3, max_features=log2, n_estimators=60; total time=   0.3s\n",
      "[CV] END bootstrap=True, max_depth=3, max_features=log2, n_estimators=60; total time=   0.3s\n",
      "[CV] END bootstrap=True, max_depth=3, max_features=log2, n_estimators=80; total time=   0.4s\n",
      "[CV] END bootstrap=True, max_depth=3, max_features=log2, n_estimators=80; total time=   0.4s\n",
      "[CV] END bootstrap=True, max_depth=3, max_features=log2, n_estimators=80; total time=   0.4s\n",
      "[CV] END bootstrap=True, max_depth=3, max_features=log2, n_estimators=100; total time=   0.5s\n",
      "[CV] END bootstrap=True, max_depth=3, max_features=log2, n_estimators=100; total time=   0.5s\n",
      "[CV] END bootstrap=True, max_depth=3, max_features=log2, n_estimators=100; total time=   0.5s\n",
      "[CV] END bootstrap=True, max_depth=3, max_features=sqrt, n_estimators=5; total time=   0.0s\n",
      "[CV] END bootstrap=True, max_depth=3, max_features=sqrt, n_estimators=5; total time=   0.0s\n",
      "[CV] END bootstrap=True, max_depth=3, max_features=sqrt, n_estimators=5; total time=   0.0s\n",
      "[CV] END bootstrap=True, max_depth=3, max_features=sqrt, n_estimators=6; total time=   0.0s\n",
      "[CV] END bootstrap=True, max_depth=3, max_features=sqrt, n_estimators=6; total time=   0.0s\n",
      "[CV] END bootstrap=True, max_depth=3, max_features=sqrt, n_estimators=6; total time=   0.0s\n",
      "[CV] END bootstrap=True, max_depth=3, max_features=sqrt, n_estimators=7; total time=   0.0s\n",
      "[CV] END bootstrap=True, max_depth=3, max_features=sqrt, n_estimators=7; total time=   0.0s\n",
      "[CV] END bootstrap=True, max_depth=3, max_features=sqrt, n_estimators=7; total time=   0.0s\n",
      "[CV] END bootstrap=True, max_depth=3, max_features=sqrt, n_estimators=8; total time=   0.0s\n",
      "[CV] END bootstrap=True, max_depth=3, max_features=sqrt, n_estimators=8; total time=   0.0s\n",
      "[CV] END bootstrap=True, max_depth=3, max_features=sqrt, n_estimators=8; total time=   0.0s\n",
      "[CV] END bootstrap=True, max_depth=3, max_features=sqrt, n_estimators=9; total time=   0.0s\n",
      "[CV] END bootstrap=True, max_depth=3, max_features=sqrt, n_estimators=9; total time=   0.0s\n",
      "[CV] END bootstrap=True, max_depth=3, max_features=sqrt, n_estimators=9; total time=   0.0s\n",
      "[CV] END bootstrap=True, max_depth=3, max_features=sqrt, n_estimators=10; total time=   0.0s\n",
      "[CV] END bootstrap=True, max_depth=3, max_features=sqrt, n_estimators=10; total time=   0.0s\n",
      "[CV] END bootstrap=True, max_depth=3, max_features=sqrt, n_estimators=10; total time=   0.0s\n",
      "[CV] END bootstrap=True, max_depth=3, max_features=sqrt, n_estimators=11; total time=   0.0s\n",
      "[CV] END bootstrap=True, max_depth=3, max_features=sqrt, n_estimators=11; total time=   0.0s\n",
      "[CV] END bootstrap=True, max_depth=3, max_features=sqrt, n_estimators=11; total time=   0.0s\n",
      "[CV] END bootstrap=True, max_depth=3, max_features=sqrt, n_estimators=12; total time=   0.0s\n",
      "[CV] END bootstrap=True, max_depth=3, max_features=sqrt, n_estimators=12; total time=   0.0s\n",
      "[CV] END bootstrap=True, max_depth=3, max_features=sqrt, n_estimators=12; total time=   0.0s\n",
      "[CV] END bootstrap=True, max_depth=3, max_features=sqrt, n_estimators=13; total time=   0.0s\n",
      "[CV] END bootstrap=True, max_depth=3, max_features=sqrt, n_estimators=13; total time=   0.0s\n",
      "[CV] END bootstrap=True, max_depth=3, max_features=sqrt, n_estimators=13; total time=   0.0s\n",
      "[CV] END bootstrap=True, max_depth=3, max_features=sqrt, n_estimators=15; total time=   0.0s\n",
      "[CV] END bootstrap=True, max_depth=3, max_features=sqrt, n_estimators=15; total time=   0.0s\n",
      "[CV] END bootstrap=True, max_depth=3, max_features=sqrt, n_estimators=15; total time=   0.0s\n",
      "[CV] END bootstrap=True, max_depth=3, max_features=sqrt, n_estimators=20; total time=   0.0s\n",
      "[CV] END bootstrap=True, max_depth=3, max_features=sqrt, n_estimators=20; total time=   0.0s\n",
      "[CV] END bootstrap=True, max_depth=3, max_features=sqrt, n_estimators=20; total time=   0.0s\n",
      "[CV] END bootstrap=True, max_depth=3, max_features=sqrt, n_estimators=40; total time=   0.2s\n",
      "[CV] END bootstrap=True, max_depth=3, max_features=sqrt, n_estimators=40; total time=   0.3s\n",
      "[CV] END bootstrap=True, max_depth=3, max_features=sqrt, n_estimators=40; total time=   0.3s\n",
      "[CV] END bootstrap=True, max_depth=3, max_features=sqrt, n_estimators=60; total time=   0.4s\n",
      "[CV] END bootstrap=True, max_depth=3, max_features=sqrt, n_estimators=60; total time=   0.4s\n",
      "[CV] END bootstrap=True, max_depth=3, max_features=sqrt, n_estimators=60; total time=   0.5s\n",
      "[CV] END bootstrap=True, max_depth=3, max_features=sqrt, n_estimators=80; total time=   0.7s\n",
      "[CV] END bootstrap=True, max_depth=3, max_features=sqrt, n_estimators=80; total time=   0.7s\n"
     ]
    },
    {
     "name": "stdout",
     "output_type": "stream",
     "text": [
      "[CV] END bootstrap=True, max_depth=3, max_features=sqrt, n_estimators=80; total time=   0.7s\n",
      "[CV] END bootstrap=True, max_depth=3, max_features=sqrt, n_estimators=100; total time=   0.9s\n",
      "[CV] END bootstrap=True, max_depth=3, max_features=sqrt, n_estimators=100; total time=   0.9s\n",
      "[CV] END bootstrap=True, max_depth=3, max_features=sqrt, n_estimators=100; total time=   0.9s\n",
      "[CV] END bootstrap=True, max_depth=5, max_features=auto, n_estimators=5; total time=   0.0s\n",
      "[CV] END bootstrap=True, max_depth=5, max_features=auto, n_estimators=5; total time=   0.0s\n",
      "[CV] END bootstrap=True, max_depth=5, max_features=auto, n_estimators=5; total time=   0.0s\n",
      "[CV] END bootstrap=True, max_depth=5, max_features=auto, n_estimators=6; total time=   0.0s\n",
      "[CV] END bootstrap=True, max_depth=5, max_features=auto, n_estimators=6; total time=   0.0s\n",
      "[CV] END bootstrap=True, max_depth=5, max_features=auto, n_estimators=6; total time=   0.0s\n",
      "[CV] END bootstrap=True, max_depth=5, max_features=auto, n_estimators=7; total time=   0.0s\n",
      "[CV] END bootstrap=True, max_depth=5, max_features=auto, n_estimators=7; total time=   0.0s\n",
      "[CV] END bootstrap=True, max_depth=5, max_features=auto, n_estimators=7; total time=   0.0s\n",
      "[CV] END bootstrap=True, max_depth=5, max_features=auto, n_estimators=8; total time=   0.0s\n",
      "[CV] END bootstrap=True, max_depth=5, max_features=auto, n_estimators=8; total time=   0.0s\n",
      "[CV] END bootstrap=True, max_depth=5, max_features=auto, n_estimators=8; total time=   0.0s\n",
      "[CV] END bootstrap=True, max_depth=5, max_features=auto, n_estimators=9; total time=   0.0s\n",
      "[CV] END bootstrap=True, max_depth=5, max_features=auto, n_estimators=9; total time=   0.0s\n",
      "[CV] END bootstrap=True, max_depth=5, max_features=auto, n_estimators=9; total time=   0.1s\n",
      "[CV] END bootstrap=True, max_depth=5, max_features=auto, n_estimators=10; total time=   0.1s\n",
      "[CV] END bootstrap=True, max_depth=5, max_features=auto, n_estimators=10; total time=   0.1s\n",
      "[CV] END bootstrap=True, max_depth=5, max_features=auto, n_estimators=10; total time=   0.1s\n",
      "[CV] END bootstrap=True, max_depth=5, max_features=auto, n_estimators=11; total time=   0.1s\n",
      "[CV] END bootstrap=True, max_depth=5, max_features=auto, n_estimators=11; total time=   0.1s\n",
      "[CV] END bootstrap=True, max_depth=5, max_features=auto, n_estimators=11; total time=   0.1s\n",
      "[CV] END bootstrap=True, max_depth=5, max_features=auto, n_estimators=12; total time=   0.1s\n",
      "[CV] END bootstrap=True, max_depth=5, max_features=auto, n_estimators=12; total time=   0.1s\n",
      "[CV] END bootstrap=True, max_depth=5, max_features=auto, n_estimators=12; total time=   0.1s\n",
      "[CV] END bootstrap=True, max_depth=5, max_features=auto, n_estimators=13; total time=   0.1s\n",
      "[CV] END bootstrap=True, max_depth=5, max_features=auto, n_estimators=13; total time=   0.1s\n",
      "[CV] END bootstrap=True, max_depth=5, max_features=auto, n_estimators=13; total time=   0.1s\n",
      "[CV] END bootstrap=True, max_depth=5, max_features=auto, n_estimators=15; total time=   0.2s\n",
      "[CV] END bootstrap=True, max_depth=5, max_features=auto, n_estimators=15; total time=   0.1s\n",
      "[CV] END bootstrap=True, max_depth=5, max_features=auto, n_estimators=15; total time=   0.2s\n",
      "[CV] END bootstrap=True, max_depth=5, max_features=auto, n_estimators=20; total time=   0.2s\n",
      "[CV] END bootstrap=True, max_depth=5, max_features=auto, n_estimators=20; total time=   0.2s\n",
      "[CV] END bootstrap=True, max_depth=5, max_features=auto, n_estimators=20; total time=   0.2s\n",
      "[CV] END bootstrap=True, max_depth=5, max_features=auto, n_estimators=40; total time=   0.4s\n",
      "[CV] END bootstrap=True, max_depth=5, max_features=auto, n_estimators=40; total time=   0.3s\n",
      "[CV] END bootstrap=True, max_depth=5, max_features=auto, n_estimators=40; total time=   0.4s\n",
      "[CV] END bootstrap=True, max_depth=5, max_features=auto, n_estimators=60; total time=   0.5s\n",
      "[CV] END bootstrap=True, max_depth=5, max_features=auto, n_estimators=60; total time=   0.5s\n",
      "[CV] END bootstrap=True, max_depth=5, max_features=auto, n_estimators=60; total time=   0.4s\n",
      "[CV] END bootstrap=True, max_depth=5, max_features=auto, n_estimators=80; total time=   0.6s\n",
      "[CV] END bootstrap=True, max_depth=5, max_features=auto, n_estimators=80; total time=   0.6s\n",
      "[CV] END bootstrap=True, max_depth=5, max_features=auto, n_estimators=80; total time=   0.6s\n",
      "[CV] END bootstrap=True, max_depth=5, max_features=auto, n_estimators=100; total time=   0.8s\n",
      "[CV] END bootstrap=True, max_depth=5, max_features=auto, n_estimators=100; total time=   0.8s\n",
      "[CV] END bootstrap=True, max_depth=5, max_features=auto, n_estimators=100; total time=   0.8s\n",
      "[CV] END bootstrap=True, max_depth=5, max_features=log2, n_estimators=5; total time=   0.0s\n",
      "[CV] END bootstrap=True, max_depth=5, max_features=log2, n_estimators=5; total time=   0.0s\n",
      "[CV] END bootstrap=True, max_depth=5, max_features=log2, n_estimators=5; total time=   0.0s\n",
      "[CV] END bootstrap=True, max_depth=5, max_features=log2, n_estimators=6; total time=   0.0s\n",
      "[CV] END bootstrap=True, max_depth=5, max_features=log2, n_estimators=6; total time=   0.0s\n",
      "[CV] END bootstrap=True, max_depth=5, max_features=log2, n_estimators=6; total time=   0.0s\n",
      "[CV] END bootstrap=True, max_depth=5, max_features=log2, n_estimators=7; total time=   0.0s\n",
      "[CV] END bootstrap=True, max_depth=5, max_features=log2, n_estimators=7; total time=   0.0s\n",
      "[CV] END bootstrap=True, max_depth=5, max_features=log2, n_estimators=7; total time=   0.0s\n",
      "[CV] END bootstrap=True, max_depth=5, max_features=log2, n_estimators=8; total time=   0.0s\n",
      "[CV] END bootstrap=True, max_depth=5, max_features=log2, n_estimators=8; total time=   0.0s\n",
      "[CV] END bootstrap=True, max_depth=5, max_features=log2, n_estimators=8; total time=   0.0s\n",
      "[CV] END bootstrap=True, max_depth=5, max_features=log2, n_estimators=9; total time=   0.0s\n",
      "[CV] END bootstrap=True, max_depth=5, max_features=log2, n_estimators=9; total time=   0.0s\n",
      "[CV] END bootstrap=True, max_depth=5, max_features=log2, n_estimators=9; total time=   0.0s\n",
      "[CV] END bootstrap=True, max_depth=5, max_features=log2, n_estimators=10; total time=   0.0s\n",
      "[CV] END bootstrap=True, max_depth=5, max_features=log2, n_estimators=10; total time=   0.0s\n",
      "[CV] END bootstrap=True, max_depth=5, max_features=log2, n_estimators=10; total time=   0.0s\n",
      "[CV] END bootstrap=True, max_depth=5, max_features=log2, n_estimators=11; total time=   0.0s\n",
      "[CV] END bootstrap=True, max_depth=5, max_features=log2, n_estimators=11; total time=   0.0s\n",
      "[CV] END bootstrap=True, max_depth=5, max_features=log2, n_estimators=11; total time=   0.0s\n",
      "[CV] END bootstrap=True, max_depth=5, max_features=log2, n_estimators=12; total time=   0.0s\n",
      "[CV] END bootstrap=True, max_depth=5, max_features=log2, n_estimators=12; total time=   0.0s\n",
      "[CV] END bootstrap=True, max_depth=5, max_features=log2, n_estimators=12; total time=   0.0s\n",
      "[CV] END bootstrap=True, max_depth=5, max_features=log2, n_estimators=13; total time=   0.0s\n",
      "[CV] END bootstrap=True, max_depth=5, max_features=log2, n_estimators=13; total time=   0.0s\n",
      "[CV] END bootstrap=True, max_depth=5, max_features=log2, n_estimators=13; total time=   0.0s\n",
      "[CV] END bootstrap=True, max_depth=5, max_features=log2, n_estimators=15; total time=   0.0s\n",
      "[CV] END bootstrap=True, max_depth=5, max_features=log2, n_estimators=15; total time=   0.0s\n",
      "[CV] END bootstrap=True, max_depth=5, max_features=log2, n_estimators=15; total time=   0.0s\n",
      "[CV] END bootstrap=True, max_depth=5, max_features=log2, n_estimators=20; total time=   0.1s\n",
      "[CV] END bootstrap=True, max_depth=5, max_features=log2, n_estimators=20; total time=   0.1s\n",
      "[CV] END bootstrap=True, max_depth=5, max_features=log2, n_estimators=20; total time=   0.1s\n",
      "[CV] END bootstrap=True, max_depth=5, max_features=log2, n_estimators=40; total time=   0.4s\n",
      "[CV] END bootstrap=True, max_depth=5, max_features=log2, n_estimators=40; total time=   0.3s\n",
      "[CV] END bootstrap=True, max_depth=5, max_features=log2, n_estimators=40; total time=   0.3s\n",
      "[CV] END bootstrap=True, max_depth=5, max_features=log2, n_estimators=60; total time=   0.6s\n",
      "[CV] END bootstrap=True, max_depth=5, max_features=log2, n_estimators=60; total time=   0.4s\n",
      "[CV] END bootstrap=True, max_depth=5, max_features=log2, n_estimators=60; total time=   0.4s\n",
      "[CV] END bootstrap=True, max_depth=5, max_features=log2, n_estimators=80; total time=   0.6s\n"
     ]
    },
    {
     "name": "stdout",
     "output_type": "stream",
     "text": [
      "[CV] END bootstrap=True, max_depth=5, max_features=log2, n_estimators=80; total time=   0.6s\n",
      "[CV] END bootstrap=True, max_depth=5, max_features=log2, n_estimators=80; total time=   0.6s\n",
      "[CV] END bootstrap=True, max_depth=5, max_features=log2, n_estimators=100; total time=   0.8s\n",
      "[CV] END bootstrap=True, max_depth=5, max_features=log2, n_estimators=100; total time=   0.7s\n",
      "[CV] END bootstrap=True, max_depth=5, max_features=log2, n_estimators=100; total time=   0.7s\n",
      "[CV] END bootstrap=True, max_depth=5, max_features=sqrt, n_estimators=5; total time=   0.0s\n",
      "[CV] END bootstrap=True, max_depth=5, max_features=sqrt, n_estimators=5; total time=   0.0s\n",
      "[CV] END bootstrap=True, max_depth=5, max_features=sqrt, n_estimators=5; total time=   0.0s\n",
      "[CV] END bootstrap=True, max_depth=5, max_features=sqrt, n_estimators=6; total time=   0.0s\n",
      "[CV] END bootstrap=True, max_depth=5, max_features=sqrt, n_estimators=6; total time=   0.0s\n",
      "[CV] END bootstrap=True, max_depth=5, max_features=sqrt, n_estimators=6; total time=   0.0s\n",
      "[CV] END bootstrap=True, max_depth=5, max_features=sqrt, n_estimators=7; total time=   0.0s\n",
      "[CV] END bootstrap=True, max_depth=5, max_features=sqrt, n_estimators=7; total time=   0.0s\n",
      "[CV] END bootstrap=True, max_depth=5, max_features=sqrt, n_estimators=7; total time=   0.0s\n",
      "[CV] END bootstrap=True, max_depth=5, max_features=sqrt, n_estimators=8; total time=   0.0s\n",
      "[CV] END bootstrap=True, max_depth=5, max_features=sqrt, n_estimators=8; total time=   0.0s\n",
      "[CV] END bootstrap=True, max_depth=5, max_features=sqrt, n_estimators=8; total time=   0.0s\n",
      "[CV] END bootstrap=True, max_depth=5, max_features=sqrt, n_estimators=9; total time=   0.0s\n",
      "[CV] END bootstrap=True, max_depth=5, max_features=sqrt, n_estimators=9; total time=   0.0s\n",
      "[CV] END bootstrap=True, max_depth=5, max_features=sqrt, n_estimators=9; total time=   0.0s\n",
      "[CV] END bootstrap=True, max_depth=5, max_features=sqrt, n_estimators=10; total time=   0.0s\n",
      "[CV] END bootstrap=True, max_depth=5, max_features=sqrt, n_estimators=10; total time=   0.0s\n",
      "[CV] END bootstrap=True, max_depth=5, max_features=sqrt, n_estimators=10; total time=   0.0s\n",
      "[CV] END bootstrap=True, max_depth=5, max_features=sqrt, n_estimators=11; total time=   0.0s\n",
      "[CV] END bootstrap=True, max_depth=5, max_features=sqrt, n_estimators=11; total time=   0.0s\n",
      "[CV] END bootstrap=True, max_depth=5, max_features=sqrt, n_estimators=11; total time=   0.0s\n",
      "[CV] END bootstrap=True, max_depth=5, max_features=sqrt, n_estimators=12; total time=   0.0s\n",
      "[CV] END bootstrap=True, max_depth=5, max_features=sqrt, n_estimators=12; total time=   0.0s\n",
      "[CV] END bootstrap=True, max_depth=5, max_features=sqrt, n_estimators=12; total time=   0.0s\n",
      "[CV] END bootstrap=True, max_depth=5, max_features=sqrt, n_estimators=13; total time=   0.0s\n",
      "[CV] END bootstrap=True, max_depth=5, max_features=sqrt, n_estimators=13; total time=   0.0s\n",
      "[CV] END bootstrap=True, max_depth=5, max_features=sqrt, n_estimators=13; total time=   0.0s\n",
      "[CV] END bootstrap=True, max_depth=5, max_features=sqrt, n_estimators=15; total time=   0.1s\n",
      "[CV] END bootstrap=True, max_depth=5, max_features=sqrt, n_estimators=15; total time=   0.0s\n",
      "[CV] END bootstrap=True, max_depth=5, max_features=sqrt, n_estimators=15; total time=   0.1s\n",
      "[CV] END bootstrap=True, max_depth=5, max_features=sqrt, n_estimators=20; total time=   0.1s\n",
      "[CV] END bootstrap=True, max_depth=5, max_features=sqrt, n_estimators=20; total time=   0.1s\n",
      "[CV] END bootstrap=True, max_depth=5, max_features=sqrt, n_estimators=20; total time=   0.1s\n",
      "[CV] END bootstrap=True, max_depth=5, max_features=sqrt, n_estimators=40; total time=   0.3s\n",
      "[CV] END bootstrap=True, max_depth=5, max_features=sqrt, n_estimators=40; total time=   0.3s\n",
      "[CV] END bootstrap=True, max_depth=5, max_features=sqrt, n_estimators=40; total time=   0.3s\n",
      "[CV] END bootstrap=True, max_depth=5, max_features=sqrt, n_estimators=60; total time=   0.4s\n",
      "[CV] END bootstrap=True, max_depth=5, max_features=sqrt, n_estimators=60; total time=   0.4s\n",
      "[CV] END bootstrap=True, max_depth=5, max_features=sqrt, n_estimators=60; total time=   0.4s\n",
      "[CV] END bootstrap=True, max_depth=5, max_features=sqrt, n_estimators=80; total time=   0.6s\n",
      "[CV] END bootstrap=True, max_depth=5, max_features=sqrt, n_estimators=80; total time=   0.8s\n",
      "[CV] END bootstrap=True, max_depth=5, max_features=sqrt, n_estimators=80; total time=   0.7s\n",
      "[CV] END bootstrap=True, max_depth=5, max_features=sqrt, n_estimators=100; total time=   0.8s\n",
      "[CV] END bootstrap=True, max_depth=5, max_features=sqrt, n_estimators=100; total time=   0.8s\n",
      "[CV] END bootstrap=True, max_depth=5, max_features=sqrt, n_estimators=100; total time=   0.8s\n",
      "[CV] END bootstrap=True, max_depth=10, max_features=auto, n_estimators=5; total time=   0.0s\n",
      "[CV] END bootstrap=True, max_depth=10, max_features=auto, n_estimators=5; total time=   0.0s\n",
      "[CV] END bootstrap=True, max_depth=10, max_features=auto, n_estimators=5; total time=   0.0s\n",
      "[CV] END bootstrap=True, max_depth=10, max_features=auto, n_estimators=6; total time=   0.1s\n",
      "[CV] END bootstrap=True, max_depth=10, max_features=auto, n_estimators=6; total time=   0.1s\n",
      "[CV] END bootstrap=True, max_depth=10, max_features=auto, n_estimators=6; total time=   0.0s\n",
      "[CV] END bootstrap=True, max_depth=10, max_features=auto, n_estimators=7; total time=   0.1s\n",
      "[CV] END bootstrap=True, max_depth=10, max_features=auto, n_estimators=7; total time=   0.1s\n",
      "[CV] END bootstrap=True, max_depth=10, max_features=auto, n_estimators=7; total time=   0.0s\n",
      "[CV] END bootstrap=True, max_depth=10, max_features=auto, n_estimators=8; total time=   0.1s\n",
      "[CV] END bootstrap=True, max_depth=10, max_features=auto, n_estimators=8; total time=   0.1s\n",
      "[CV] END bootstrap=True, max_depth=10, max_features=auto, n_estimators=8; total time=   0.0s\n",
      "[CV] END bootstrap=True, max_depth=10, max_features=auto, n_estimators=9; total time=   0.1s\n",
      "[CV] END bootstrap=True, max_depth=10, max_features=auto, n_estimators=9; total time=   0.1s\n",
      "[CV] END bootstrap=True, max_depth=10, max_features=auto, n_estimators=9; total time=   0.1s\n",
      "[CV] END bootstrap=True, max_depth=10, max_features=auto, n_estimators=10; total time=   0.1s\n",
      "[CV] END bootstrap=True, max_depth=10, max_features=auto, n_estimators=10; total time=   0.1s\n",
      "[CV] END bootstrap=True, max_depth=10, max_features=auto, n_estimators=10; total time=   0.2s\n",
      "[CV] END bootstrap=True, max_depth=10, max_features=auto, n_estimators=11; total time=   0.1s\n",
      "[CV] END bootstrap=True, max_depth=10, max_features=auto, n_estimators=11; total time=   0.1s\n",
      "[CV] END bootstrap=True, max_depth=10, max_features=auto, n_estimators=11; total time=   0.1s\n",
      "[CV] END bootstrap=True, max_depth=10, max_features=auto, n_estimators=12; total time=   0.1s\n",
      "[CV] END bootstrap=True, max_depth=10, max_features=auto, n_estimators=12; total time=   0.1s\n",
      "[CV] END bootstrap=True, max_depth=10, max_features=auto, n_estimators=12; total time=   0.1s\n",
      "[CV] END bootstrap=True, max_depth=10, max_features=auto, n_estimators=13; total time=   0.1s\n",
      "[CV] END bootstrap=True, max_depth=10, max_features=auto, n_estimators=13; total time=   0.1s\n",
      "[CV] END bootstrap=True, max_depth=10, max_features=auto, n_estimators=13; total time=   0.1s\n",
      "[CV] END bootstrap=True, max_depth=10, max_features=auto, n_estimators=15; total time=   0.1s\n",
      "[CV] END bootstrap=True, max_depth=10, max_features=auto, n_estimators=15; total time=   0.1s\n",
      "[CV] END bootstrap=True, max_depth=10, max_features=auto, n_estimators=15; total time=   0.1s\n",
      "[CV] END bootstrap=True, max_depth=10, max_features=auto, n_estimators=20; total time=   0.2s\n",
      "[CV] END bootstrap=True, max_depth=10, max_features=auto, n_estimators=20; total time=   0.2s\n",
      "[CV] END bootstrap=True, max_depth=10, max_features=auto, n_estimators=20; total time=   0.2s\n",
      "[CV] END bootstrap=True, max_depth=10, max_features=auto, n_estimators=40; total time=   0.5s\n",
      "[CV] END bootstrap=True, max_depth=10, max_features=auto, n_estimators=40; total time=   0.5s\n",
      "[CV] END bootstrap=True, max_depth=10, max_features=auto, n_estimators=40; total time=   0.5s\n",
      "[CV] END bootstrap=True, max_depth=10, max_features=auto, n_estimators=60; total time=   0.8s\n",
      "[CV] END bootstrap=True, max_depth=10, max_features=auto, n_estimators=60; total time=   0.8s\n"
     ]
    },
    {
     "name": "stdout",
     "output_type": "stream",
     "text": [
      "[CV] END bootstrap=True, max_depth=10, max_features=auto, n_estimators=60; total time=   0.9s\n",
      "[CV] END bootstrap=True, max_depth=10, max_features=auto, n_estimators=80; total time=   1.1s\n",
      "[CV] END bootstrap=True, max_depth=10, max_features=auto, n_estimators=80; total time=   1.1s\n",
      "[CV] END bootstrap=True, max_depth=10, max_features=auto, n_estimators=80; total time=   1.1s\n",
      "[CV] END bootstrap=True, max_depth=10, max_features=auto, n_estimators=100; total time=   1.3s\n",
      "[CV] END bootstrap=True, max_depth=10, max_features=auto, n_estimators=100; total time=   1.3s\n",
      "[CV] END bootstrap=True, max_depth=10, max_features=auto, n_estimators=100; total time=   1.3s\n",
      "[CV] END bootstrap=True, max_depth=10, max_features=log2, n_estimators=5; total time=   0.0s\n",
      "[CV] END bootstrap=True, max_depth=10, max_features=log2, n_estimators=5; total time=   0.0s\n",
      "[CV] END bootstrap=True, max_depth=10, max_features=log2, n_estimators=5; total time=   0.0s\n",
      "[CV] END bootstrap=True, max_depth=10, max_features=log2, n_estimators=6; total time=   0.0s\n",
      "[CV] END bootstrap=True, max_depth=10, max_features=log2, n_estimators=6; total time=   0.0s\n",
      "[CV] END bootstrap=True, max_depth=10, max_features=log2, n_estimators=6; total time=   0.0s\n",
      "[CV] END bootstrap=True, max_depth=10, max_features=log2, n_estimators=7; total time=   0.1s\n",
      "[CV] END bootstrap=True, max_depth=10, max_features=log2, n_estimators=7; total time=   0.1s\n",
      "[CV] END bootstrap=True, max_depth=10, max_features=log2, n_estimators=7; total time=   0.1s\n",
      "[CV] END bootstrap=True, max_depth=10, max_features=log2, n_estimators=8; total time=   0.1s\n",
      "[CV] END bootstrap=True, max_depth=10, max_features=log2, n_estimators=8; total time=   0.0s\n",
      "[CV] END bootstrap=True, max_depth=10, max_features=log2, n_estimators=8; total time=   0.1s\n",
      "[CV] END bootstrap=True, max_depth=10, max_features=log2, n_estimators=9; total time=   0.1s\n",
      "[CV] END bootstrap=True, max_depth=10, max_features=log2, n_estimators=9; total time=   0.1s\n",
      "[CV] END bootstrap=True, max_depth=10, max_features=log2, n_estimators=9; total time=   0.1s\n",
      "[CV] END bootstrap=True, max_depth=10, max_features=log2, n_estimators=10; total time=   0.1s\n",
      "[CV] END bootstrap=True, max_depth=10, max_features=log2, n_estimators=10; total time=   0.1s\n",
      "[CV] END bootstrap=True, max_depth=10, max_features=log2, n_estimators=10; total time=   0.1s\n",
      "[CV] END bootstrap=True, max_depth=10, max_features=log2, n_estimators=11; total time=   0.1s\n",
      "[CV] END bootstrap=True, max_depth=10, max_features=log2, n_estimators=11; total time=   0.2s\n",
      "[CV] END bootstrap=True, max_depth=10, max_features=log2, n_estimators=11; total time=   0.1s\n",
      "[CV] END bootstrap=True, max_depth=10, max_features=log2, n_estimators=12; total time=   0.1s\n",
      "[CV] END bootstrap=True, max_depth=10, max_features=log2, n_estimators=12; total time=   0.1s\n",
      "[CV] END bootstrap=True, max_depth=10, max_features=log2, n_estimators=12; total time=   0.1s\n",
      "[CV] END bootstrap=True, max_depth=10, max_features=log2, n_estimators=13; total time=   0.1s\n",
      "[CV] END bootstrap=True, max_depth=10, max_features=log2, n_estimators=13; total time=   0.2s\n",
      "[CV] END bootstrap=True, max_depth=10, max_features=log2, n_estimators=13; total time=   0.2s\n",
      "[CV] END bootstrap=True, max_depth=10, max_features=log2, n_estimators=15; total time=   0.2s\n",
      "[CV] END bootstrap=True, max_depth=10, max_features=log2, n_estimators=15; total time=   0.2s\n",
      "[CV] END bootstrap=True, max_depth=10, max_features=log2, n_estimators=15; total time=   0.3s\n",
      "[CV] END bootstrap=True, max_depth=10, max_features=log2, n_estimators=20; total time=   0.3s\n",
      "[CV] END bootstrap=True, max_depth=10, max_features=log2, n_estimators=20; total time=   0.2s\n",
      "[CV] END bootstrap=True, max_depth=10, max_features=log2, n_estimators=20; total time=   0.3s\n",
      "[CV] END bootstrap=True, max_depth=10, max_features=log2, n_estimators=40; total time=   0.6s\n",
      "[CV] END bootstrap=True, max_depth=10, max_features=log2, n_estimators=40; total time=   0.6s\n",
      "[CV] END bootstrap=True, max_depth=10, max_features=log2, n_estimators=40; total time=   0.7s\n",
      "[CV] END bootstrap=True, max_depth=10, max_features=log2, n_estimators=60; total time=   0.9s\n",
      "[CV] END bootstrap=True, max_depth=10, max_features=log2, n_estimators=60; total time=   0.7s\n",
      "[CV] END bootstrap=True, max_depth=10, max_features=log2, n_estimators=60; total time=   0.7s\n",
      "[CV] END bootstrap=True, max_depth=10, max_features=log2, n_estimators=80; total time=   1.0s\n",
      "[CV] END bootstrap=True, max_depth=10, max_features=log2, n_estimators=80; total time=   1.0s\n",
      "[CV] END bootstrap=True, max_depth=10, max_features=log2, n_estimators=80; total time=   1.0s\n",
      "[CV] END bootstrap=True, max_depth=10, max_features=log2, n_estimators=100; total time=   1.7s\n",
      "[CV] END bootstrap=True, max_depth=10, max_features=log2, n_estimators=100; total time=   1.3s\n",
      "[CV] END bootstrap=True, max_depth=10, max_features=log2, n_estimators=100; total time=   1.2s\n",
      "[CV] END bootstrap=True, max_depth=10, max_features=sqrt, n_estimators=5; total time=   0.0s\n",
      "[CV] END bootstrap=True, max_depth=10, max_features=sqrt, n_estimators=5; total time=   0.0s\n",
      "[CV] END bootstrap=True, max_depth=10, max_features=sqrt, n_estimators=5; total time=   0.0s\n",
      "[CV] END bootstrap=True, max_depth=10, max_features=sqrt, n_estimators=6; total time=   0.0s\n",
      "[CV] END bootstrap=True, max_depth=10, max_features=sqrt, n_estimators=6; total time=   0.0s\n",
      "[CV] END bootstrap=True, max_depth=10, max_features=sqrt, n_estimators=6; total time=   0.0s\n",
      "[CV] END bootstrap=True, max_depth=10, max_features=sqrt, n_estimators=7; total time=   0.0s\n",
      "[CV] END bootstrap=True, max_depth=10, max_features=sqrt, n_estimators=7; total time=   0.0s\n",
      "[CV] END bootstrap=True, max_depth=10, max_features=sqrt, n_estimators=7; total time=   0.0s\n",
      "[CV] END bootstrap=True, max_depth=10, max_features=sqrt, n_estimators=8; total time=   0.0s\n",
      "[CV] END bootstrap=True, max_depth=10, max_features=sqrt, n_estimators=8; total time=   0.0s\n",
      "[CV] END bootstrap=True, max_depth=10, max_features=sqrt, n_estimators=8; total time=   0.0s\n",
      "[CV] END bootstrap=True, max_depth=10, max_features=sqrt, n_estimators=9; total time=   0.0s\n",
      "[CV] END bootstrap=True, max_depth=10, max_features=sqrt, n_estimators=9; total time=   0.0s\n",
      "[CV] END bootstrap=True, max_depth=10, max_features=sqrt, n_estimators=9; total time=   0.0s\n",
      "[CV] END bootstrap=True, max_depth=10, max_features=sqrt, n_estimators=10; total time=   0.1s\n",
      "[CV] END bootstrap=True, max_depth=10, max_features=sqrt, n_estimators=10; total time=   0.1s\n",
      "[CV] END bootstrap=True, max_depth=10, max_features=sqrt, n_estimators=10; total time=   0.1s\n",
      "[CV] END bootstrap=True, max_depth=10, max_features=sqrt, n_estimators=11; total time=   0.1s\n",
      "[CV] END bootstrap=True, max_depth=10, max_features=sqrt, n_estimators=11; total time=   0.1s\n",
      "[CV] END bootstrap=True, max_depth=10, max_features=sqrt, n_estimators=11; total time=   0.1s\n",
      "[CV] END bootstrap=True, max_depth=10, max_features=sqrt, n_estimators=12; total time=   0.1s\n",
      "[CV] END bootstrap=True, max_depth=10, max_features=sqrt, n_estimators=12; total time=   0.1s\n",
      "[CV] END bootstrap=True, max_depth=10, max_features=sqrt, n_estimators=12; total time=   0.1s\n",
      "[CV] END bootstrap=True, max_depth=10, max_features=sqrt, n_estimators=13; total time=   0.1s\n",
      "[CV] END bootstrap=True, max_depth=10, max_features=sqrt, n_estimators=13; total time=   0.1s\n",
      "[CV] END bootstrap=True, max_depth=10, max_features=sqrt, n_estimators=13; total time=   0.1s\n",
      "[CV] END bootstrap=True, max_depth=10, max_features=sqrt, n_estimators=15; total time=   0.1s\n",
      "[CV] END bootstrap=True, max_depth=10, max_features=sqrt, n_estimators=15; total time=   0.1s\n",
      "[CV] END bootstrap=True, max_depth=10, max_features=sqrt, n_estimators=15; total time=   0.1s\n",
      "[CV] END bootstrap=True, max_depth=10, max_features=sqrt, n_estimators=20; total time=   0.2s\n",
      "[CV] END bootstrap=True, max_depth=10, max_features=sqrt, n_estimators=20; total time=   0.2s\n",
      "[CV] END bootstrap=True, max_depth=10, max_features=sqrt, n_estimators=20; total time=   0.2s\n",
      "[CV] END bootstrap=True, max_depth=10, max_features=sqrt, n_estimators=40; total time=   0.5s\n",
      "[CV] END bootstrap=True, max_depth=10, max_features=sqrt, n_estimators=40; total time=   0.5s\n",
      "[CV] END bootstrap=True, max_depth=10, max_features=sqrt, n_estimators=40; total time=   0.5s\n"
     ]
    },
    {
     "name": "stdout",
     "output_type": "stream",
     "text": [
      "[CV] END bootstrap=True, max_depth=10, max_features=sqrt, n_estimators=60; total time=   0.8s\n",
      "[CV] END bootstrap=True, max_depth=10, max_features=sqrt, n_estimators=60; total time=   0.8s\n",
      "[CV] END bootstrap=True, max_depth=10, max_features=sqrt, n_estimators=60; total time=   0.8s\n",
      "[CV] END bootstrap=True, max_depth=10, max_features=sqrt, n_estimators=80; total time=   1.1s\n",
      "[CV] END bootstrap=True, max_depth=10, max_features=sqrt, n_estimators=80; total time=   1.1s\n",
      "[CV] END bootstrap=True, max_depth=10, max_features=sqrt, n_estimators=80; total time=   1.1s\n",
      "[CV] END bootstrap=True, max_depth=10, max_features=sqrt, n_estimators=100; total time=   1.3s\n",
      "[CV] END bootstrap=True, max_depth=10, max_features=sqrt, n_estimators=100; total time=   1.3s\n",
      "[CV] END bootstrap=True, max_depth=10, max_features=sqrt, n_estimators=100; total time=   1.3s\n",
      "[CV] END bootstrap=True, max_depth=12, max_features=auto, n_estimators=5; total time=   0.0s\n",
      "[CV] END bootstrap=True, max_depth=12, max_features=auto, n_estimators=5; total time=   0.0s\n",
      "[CV] END bootstrap=True, max_depth=12, max_features=auto, n_estimators=5; total time=   0.0s\n",
      "[CV] END bootstrap=True, max_depth=12, max_features=auto, n_estimators=6; total time=   0.0s\n",
      "[CV] END bootstrap=True, max_depth=12, max_features=auto, n_estimators=6; total time=   0.0s\n",
      "[CV] END bootstrap=True, max_depth=12, max_features=auto, n_estimators=6; total time=   0.0s\n",
      "[CV] END bootstrap=True, max_depth=12, max_features=auto, n_estimators=7; total time=   0.0s\n",
      "[CV] END bootstrap=True, max_depth=12, max_features=auto, n_estimators=7; total time=   0.0s\n",
      "[CV] END bootstrap=True, max_depth=12, max_features=auto, n_estimators=7; total time=   0.0s\n",
      "[CV] END bootstrap=True, max_depth=12, max_features=auto, n_estimators=8; total time=   0.1s\n",
      "[CV] END bootstrap=True, max_depth=12, max_features=auto, n_estimators=8; total time=   0.0s\n",
      "[CV] END bootstrap=True, max_depth=12, max_features=auto, n_estimators=8; total time=   0.1s\n",
      "[CV] END bootstrap=True, max_depth=12, max_features=auto, n_estimators=9; total time=   0.1s\n",
      "[CV] END bootstrap=True, max_depth=12, max_features=auto, n_estimators=9; total time=   0.1s\n",
      "[CV] END bootstrap=True, max_depth=12, max_features=auto, n_estimators=9; total time=   0.1s\n",
      "[CV] END bootstrap=True, max_depth=12, max_features=auto, n_estimators=10; total time=   0.1s\n",
      "[CV] END bootstrap=True, max_depth=12, max_features=auto, n_estimators=10; total time=   0.1s\n",
      "[CV] END bootstrap=True, max_depth=12, max_features=auto, n_estimators=10; total time=   0.1s\n",
      "[CV] END bootstrap=True, max_depth=12, max_features=auto, n_estimators=11; total time=   0.1s\n",
      "[CV] END bootstrap=True, max_depth=12, max_features=auto, n_estimators=11; total time=   0.1s\n",
      "[CV] END bootstrap=True, max_depth=12, max_features=auto, n_estimators=11; total time=   0.1s\n",
      "[CV] END bootstrap=True, max_depth=12, max_features=auto, n_estimators=12; total time=   0.1s\n",
      "[CV] END bootstrap=True, max_depth=12, max_features=auto, n_estimators=12; total time=   0.1s\n",
      "[CV] END bootstrap=True, max_depth=12, max_features=auto, n_estimators=12; total time=   0.1s\n",
      "[CV] END bootstrap=True, max_depth=12, max_features=auto, n_estimators=13; total time=   0.1s\n",
      "[CV] END bootstrap=True, max_depth=12, max_features=auto, n_estimators=13; total time=   0.1s\n",
      "[CV] END bootstrap=True, max_depth=12, max_features=auto, n_estimators=13; total time=   0.1s\n",
      "[CV] END bootstrap=True, max_depth=12, max_features=auto, n_estimators=15; total time=   0.2s\n",
      "[CV] END bootstrap=True, max_depth=12, max_features=auto, n_estimators=15; total time=   0.2s\n",
      "[CV] END bootstrap=True, max_depth=12, max_features=auto, n_estimators=15; total time=   0.2s\n",
      "[CV] END bootstrap=True, max_depth=12, max_features=auto, n_estimators=20; total time=   0.3s\n",
      "[CV] END bootstrap=True, max_depth=12, max_features=auto, n_estimators=20; total time=   0.3s\n",
      "[CV] END bootstrap=True, max_depth=12, max_features=auto, n_estimators=20; total time=   0.3s\n",
      "[CV] END bootstrap=True, max_depth=12, max_features=auto, n_estimators=40; total time=   0.6s\n",
      "[CV] END bootstrap=True, max_depth=12, max_features=auto, n_estimators=40; total time=   0.7s\n",
      "[CV] END bootstrap=True, max_depth=12, max_features=auto, n_estimators=40; total time=   0.9s\n",
      "[CV] END bootstrap=True, max_depth=12, max_features=auto, n_estimators=60; total time=   1.3s\n",
      "[CV] END bootstrap=True, max_depth=12, max_features=auto, n_estimators=60; total time=   1.1s\n",
      "[CV] END bootstrap=True, max_depth=12, max_features=auto, n_estimators=60; total time=   1.0s\n",
      "[CV] END bootstrap=True, max_depth=12, max_features=auto, n_estimators=80; total time=   1.4s\n",
      "[CV] END bootstrap=True, max_depth=12, max_features=auto, n_estimators=80; total time=   1.3s\n",
      "[CV] END bootstrap=True, max_depth=12, max_features=auto, n_estimators=80; total time=   1.4s\n",
      "[CV] END bootstrap=True, max_depth=12, max_features=auto, n_estimators=100; total time=   2.3s\n",
      "[CV] END bootstrap=True, max_depth=12, max_features=auto, n_estimators=100; total time=   2.2s\n",
      "[CV] END bootstrap=True, max_depth=12, max_features=auto, n_estimators=100; total time=   1.8s\n",
      "[CV] END bootstrap=True, max_depth=12, max_features=log2, n_estimators=5; total time=   0.0s\n",
      "[CV] END bootstrap=True, max_depth=12, max_features=log2, n_estimators=5; total time=   0.0s\n",
      "[CV] END bootstrap=True, max_depth=12, max_features=log2, n_estimators=5; total time=   0.0s\n",
      "[CV] END bootstrap=True, max_depth=12, max_features=log2, n_estimators=6; total time=   0.0s\n",
      "[CV] END bootstrap=True, max_depth=12, max_features=log2, n_estimators=6; total time=   0.0s\n",
      "[CV] END bootstrap=True, max_depth=12, max_features=log2, n_estimators=6; total time=   0.0s\n",
      "[CV] END bootstrap=True, max_depth=12, max_features=log2, n_estimators=7; total time=   0.0s\n",
      "[CV] END bootstrap=True, max_depth=12, max_features=log2, n_estimators=7; total time=   0.0s\n",
      "[CV] END bootstrap=True, max_depth=12, max_features=log2, n_estimators=7; total time=   0.0s\n",
      "[CV] END bootstrap=True, max_depth=12, max_features=log2, n_estimators=8; total time=   0.0s\n",
      "[CV] END bootstrap=True, max_depth=12, max_features=log2, n_estimators=8; total time=   0.0s\n",
      "[CV] END bootstrap=True, max_depth=12, max_features=log2, n_estimators=8; total time=   0.0s\n",
      "[CV] END bootstrap=True, max_depth=12, max_features=log2, n_estimators=9; total time=   0.0s\n",
      "[CV] END bootstrap=True, max_depth=12, max_features=log2, n_estimators=9; total time=   0.1s\n",
      "[CV] END bootstrap=True, max_depth=12, max_features=log2, n_estimators=9; total time=   0.0s\n",
      "[CV] END bootstrap=True, max_depth=12, max_features=log2, n_estimators=10; total time=   0.1s\n",
      "[CV] END bootstrap=True, max_depth=12, max_features=log2, n_estimators=10; total time=   0.1s\n",
      "[CV] END bootstrap=True, max_depth=12, max_features=log2, n_estimators=10; total time=   0.1s\n",
      "[CV] END bootstrap=True, max_depth=12, max_features=log2, n_estimators=11; total time=   0.1s\n",
      "[CV] END bootstrap=True, max_depth=12, max_features=log2, n_estimators=11; total time=   0.1s\n",
      "[CV] END bootstrap=True, max_depth=12, max_features=log2, n_estimators=11; total time=   0.1s\n",
      "[CV] END bootstrap=True, max_depth=12, max_features=log2, n_estimators=12; total time=   0.1s\n",
      "[CV] END bootstrap=True, max_depth=12, max_features=log2, n_estimators=12; total time=   0.1s\n",
      "[CV] END bootstrap=True, max_depth=12, max_features=log2, n_estimators=12; total time=   0.1s\n",
      "[CV] END bootstrap=True, max_depth=12, max_features=log2, n_estimators=13; total time=   0.1s\n",
      "[CV] END bootstrap=True, max_depth=12, max_features=log2, n_estimators=13; total time=   0.1s\n",
      "[CV] END bootstrap=True, max_depth=12, max_features=log2, n_estimators=13; total time=   0.1s\n",
      "[CV] END bootstrap=True, max_depth=12, max_features=log2, n_estimators=15; total time=   0.1s\n",
      "[CV] END bootstrap=True, max_depth=12, max_features=log2, n_estimators=15; total time=   0.1s\n",
      "[CV] END bootstrap=True, max_depth=12, max_features=log2, n_estimators=15; total time=   0.1s\n",
      "[CV] END bootstrap=True, max_depth=12, max_features=log2, n_estimators=20; total time=   0.2s\n",
      "[CV] END bootstrap=True, max_depth=12, max_features=log2, n_estimators=20; total time=   0.2s\n",
      "[CV] END bootstrap=True, max_depth=12, max_features=log2, n_estimators=20; total time=   0.2s\n",
      "[CV] END bootstrap=True, max_depth=12, max_features=log2, n_estimators=40; total time=   0.5s\n"
     ]
    },
    {
     "name": "stdout",
     "output_type": "stream",
     "text": [
      "[CV] END bootstrap=True, max_depth=12, max_features=log2, n_estimators=40; total time=   0.5s\n",
      "[CV] END bootstrap=True, max_depth=12, max_features=log2, n_estimators=40; total time=   0.5s\n",
      "[CV] END bootstrap=True, max_depth=12, max_features=log2, n_estimators=60; total time=   0.8s\n",
      "[CV] END bootstrap=True, max_depth=12, max_features=log2, n_estimators=60; total time=   0.9s\n",
      "[CV] END bootstrap=True, max_depth=12, max_features=log2, n_estimators=60; total time=   1.0s\n",
      "[CV] END bootstrap=True, max_depth=12, max_features=log2, n_estimators=80; total time=   1.3s\n",
      "[CV] END bootstrap=True, max_depth=12, max_features=log2, n_estimators=80; total time=   1.1s\n",
      "[CV] END bootstrap=True, max_depth=12, max_features=log2, n_estimators=80; total time=   1.1s\n",
      "[CV] END bootstrap=True, max_depth=12, max_features=log2, n_estimators=100; total time=   1.4s\n",
      "[CV] END bootstrap=True, max_depth=12, max_features=log2, n_estimators=100; total time=   1.4s\n",
      "[CV] END bootstrap=True, max_depth=12, max_features=log2, n_estimators=100; total time=   1.4s\n",
      "[CV] END bootstrap=True, max_depth=12, max_features=sqrt, n_estimators=5; total time=   0.0s\n",
      "[CV] END bootstrap=True, max_depth=12, max_features=sqrt, n_estimators=5; total time=   0.0s\n",
      "[CV] END bootstrap=True, max_depth=12, max_features=sqrt, n_estimators=5; total time=   0.0s\n",
      "[CV] END bootstrap=True, max_depth=12, max_features=sqrt, n_estimators=6; total time=   0.0s\n",
      "[CV] END bootstrap=True, max_depth=12, max_features=sqrt, n_estimators=6; total time=   0.0s\n",
      "[CV] END bootstrap=True, max_depth=12, max_features=sqrt, n_estimators=6; total time=   0.0s\n",
      "[CV] END bootstrap=True, max_depth=12, max_features=sqrt, n_estimators=7; total time=   0.0s\n",
      "[CV] END bootstrap=True, max_depth=12, max_features=sqrt, n_estimators=7; total time=   0.0s\n",
      "[CV] END bootstrap=True, max_depth=12, max_features=sqrt, n_estimators=7; total time=   0.0s\n",
      "[CV] END bootstrap=True, max_depth=12, max_features=sqrt, n_estimators=8; total time=   0.1s\n",
      "[CV] END bootstrap=True, max_depth=12, max_features=sqrt, n_estimators=8; total time=   0.0s\n",
      "[CV] END bootstrap=True, max_depth=12, max_features=sqrt, n_estimators=8; total time=   0.1s\n",
      "[CV] END bootstrap=True, max_depth=12, max_features=sqrt, n_estimators=9; total time=   0.1s\n",
      "[CV] END bootstrap=True, max_depth=12, max_features=sqrt, n_estimators=9; total time=   0.1s\n",
      "[CV] END bootstrap=True, max_depth=12, max_features=sqrt, n_estimators=9; total time=   0.1s\n",
      "[CV] END bootstrap=True, max_depth=12, max_features=sqrt, n_estimators=10; total time=   0.1s\n",
      "[CV] END bootstrap=True, max_depth=12, max_features=sqrt, n_estimators=10; total time=   0.1s\n",
      "[CV] END bootstrap=True, max_depth=12, max_features=sqrt, n_estimators=10; total time=   0.1s\n",
      "[CV] END bootstrap=True, max_depth=12, max_features=sqrt, n_estimators=11; total time=   0.1s\n",
      "[CV] END bootstrap=True, max_depth=12, max_features=sqrt, n_estimators=11; total time=   0.1s\n",
      "[CV] END bootstrap=True, max_depth=12, max_features=sqrt, n_estimators=11; total time=   0.1s\n",
      "[CV] END bootstrap=True, max_depth=12, max_features=sqrt, n_estimators=12; total time=   0.1s\n",
      "[CV] END bootstrap=True, max_depth=12, max_features=sqrt, n_estimators=12; total time=   0.1s\n",
      "[CV] END bootstrap=True, max_depth=12, max_features=sqrt, n_estimators=12; total time=   0.1s\n",
      "[CV] END bootstrap=True, max_depth=12, max_features=sqrt, n_estimators=13; total time=   0.1s\n",
      "[CV] END bootstrap=True, max_depth=12, max_features=sqrt, n_estimators=13; total time=   0.1s\n",
      "[CV] END bootstrap=True, max_depth=12, max_features=sqrt, n_estimators=13; total time=   0.1s\n",
      "[CV] END bootstrap=True, max_depth=12, max_features=sqrt, n_estimators=15; total time=   0.2s\n",
      "[CV] END bootstrap=True, max_depth=12, max_features=sqrt, n_estimators=15; total time=   0.2s\n",
      "[CV] END bootstrap=True, max_depth=12, max_features=sqrt, n_estimators=15; total time=   0.2s\n",
      "[CV] END bootstrap=True, max_depth=12, max_features=sqrt, n_estimators=20; total time=   0.2s\n",
      "[CV] END bootstrap=True, max_depth=12, max_features=sqrt, n_estimators=20; total time=   0.2s\n",
      "[CV] END bootstrap=True, max_depth=12, max_features=sqrt, n_estimators=20; total time=   0.3s\n",
      "[CV] END bootstrap=True, max_depth=12, max_features=sqrt, n_estimators=40; total time=   0.6s\n",
      "[CV] END bootstrap=True, max_depth=12, max_features=sqrt, n_estimators=40; total time=   0.6s\n",
      "[CV] END bootstrap=True, max_depth=12, max_features=sqrt, n_estimators=40; total time=   0.6s\n",
      "[CV] END bootstrap=True, max_depth=12, max_features=sqrt, n_estimators=60; total time=   0.9s\n",
      "[CV] END bootstrap=True, max_depth=12, max_features=sqrt, n_estimators=60; total time=   0.9s\n",
      "[CV] END bootstrap=True, max_depth=12, max_features=sqrt, n_estimators=60; total time=   0.9s\n",
      "[CV] END bootstrap=True, max_depth=12, max_features=sqrt, n_estimators=80; total time=   1.3s\n",
      "[CV] END bootstrap=True, max_depth=12, max_features=sqrt, n_estimators=80; total time=   1.3s\n",
      "[CV] END bootstrap=True, max_depth=12, max_features=sqrt, n_estimators=80; total time=   1.3s\n",
      "[CV] END bootstrap=True, max_depth=12, max_features=sqrt, n_estimators=100; total time=   1.5s\n",
      "[CV] END bootstrap=True, max_depth=12, max_features=sqrt, n_estimators=100; total time=   1.6s\n",
      "[CV] END bootstrap=True, max_depth=12, max_features=sqrt, n_estimators=100; total time=   1.6s\n",
      "[CV] END bootstrap=True, max_depth=15, max_features=auto, n_estimators=5; total time=   0.0s\n",
      "[CV] END bootstrap=True, max_depth=15, max_features=auto, n_estimators=5; total time=   0.0s\n",
      "[CV] END bootstrap=True, max_depth=15, max_features=auto, n_estimators=5; total time=   0.0s\n",
      "[CV] END bootstrap=True, max_depth=15, max_features=auto, n_estimators=6; total time=   0.0s\n",
      "[CV] END bootstrap=True, max_depth=15, max_features=auto, n_estimators=6; total time=   0.0s\n",
      "[CV] END bootstrap=True, max_depth=15, max_features=auto, n_estimators=6; total time=   0.0s\n",
      "[CV] END bootstrap=True, max_depth=15, max_features=auto, n_estimators=7; total time=   0.1s\n",
      "[CV] END bootstrap=True, max_depth=15, max_features=auto, n_estimators=7; total time=   0.1s\n",
      "[CV] END bootstrap=True, max_depth=15, max_features=auto, n_estimators=7; total time=   0.1s\n",
      "[CV] END bootstrap=True, max_depth=15, max_features=auto, n_estimators=8; total time=   0.1s\n",
      "[CV] END bootstrap=True, max_depth=15, max_features=auto, n_estimators=8; total time=   0.1s\n",
      "[CV] END bootstrap=True, max_depth=15, max_features=auto, n_estimators=8; total time=   0.1s\n",
      "[CV] END bootstrap=True, max_depth=15, max_features=auto, n_estimators=9; total time=   0.1s\n",
      "[CV] END bootstrap=True, max_depth=15, max_features=auto, n_estimators=9; total time=   0.1s\n",
      "[CV] END bootstrap=True, max_depth=15, max_features=auto, n_estimators=9; total time=   0.1s\n",
      "[CV] END bootstrap=True, max_depth=15, max_features=auto, n_estimators=10; total time=   0.1s\n",
      "[CV] END bootstrap=True, max_depth=15, max_features=auto, n_estimators=10; total time=   0.1s\n",
      "[CV] END bootstrap=True, max_depth=15, max_features=auto, n_estimators=10; total time=   0.1s\n",
      "[CV] END bootstrap=True, max_depth=15, max_features=auto, n_estimators=11; total time=   0.1s\n",
      "[CV] END bootstrap=True, max_depth=15, max_features=auto, n_estimators=11; total time=   0.1s\n",
      "[CV] END bootstrap=True, max_depth=15, max_features=auto, n_estimators=11; total time=   0.1s\n",
      "[CV] END bootstrap=True, max_depth=15, max_features=auto, n_estimators=12; total time=   0.2s\n",
      "[CV] END bootstrap=True, max_depth=15, max_features=auto, n_estimators=12; total time=   0.2s\n",
      "[CV] END bootstrap=True, max_depth=15, max_features=auto, n_estimators=12; total time=   0.2s\n",
      "[CV] END bootstrap=True, max_depth=15, max_features=auto, n_estimators=13; total time=   0.2s\n",
      "[CV] END bootstrap=True, max_depth=15, max_features=auto, n_estimators=13; total time=   0.2s\n",
      "[CV] END bootstrap=True, max_depth=15, max_features=auto, n_estimators=13; total time=   0.2s\n",
      "[CV] END bootstrap=True, max_depth=15, max_features=auto, n_estimators=15; total time=   0.2s\n",
      "[CV] END bootstrap=True, max_depth=15, max_features=auto, n_estimators=15; total time=   0.2s\n",
      "[CV] END bootstrap=True, max_depth=15, max_features=auto, n_estimators=15; total time=   0.2s\n",
      "[CV] END bootstrap=True, max_depth=15, max_features=auto, n_estimators=20; total time=   0.3s\n",
      "[CV] END bootstrap=True, max_depth=15, max_features=auto, n_estimators=20; total time=   0.3s\n"
     ]
    },
    {
     "name": "stdout",
     "output_type": "stream",
     "text": [
      "[CV] END bootstrap=True, max_depth=15, max_features=auto, n_estimators=20; total time=   0.3s\n",
      "[CV] END bootstrap=True, max_depth=15, max_features=auto, n_estimators=40; total time=   0.7s\n",
      "[CV] END bootstrap=True, max_depth=15, max_features=auto, n_estimators=40; total time=   0.9s\n",
      "[CV] END bootstrap=True, max_depth=15, max_features=auto, n_estimators=40; total time=   0.9s\n",
      "[CV] END bootstrap=True, max_depth=15, max_features=auto, n_estimators=60; total time=   1.1s\n",
      "[CV] END bootstrap=True, max_depth=15, max_features=auto, n_estimators=60; total time=   1.1s\n",
      "[CV] END bootstrap=True, max_depth=15, max_features=auto, n_estimators=60; total time=   1.1s\n",
      "[CV] END bootstrap=True, max_depth=15, max_features=auto, n_estimators=80; total time=   1.5s\n",
      "[CV] END bootstrap=True, max_depth=15, max_features=auto, n_estimators=80; total time=   1.5s\n",
      "[CV] END bootstrap=True, max_depth=15, max_features=auto, n_estimators=80; total time=   1.5s\n",
      "[CV] END bootstrap=True, max_depth=15, max_features=auto, n_estimators=100; total time=   1.9s\n",
      "[CV] END bootstrap=True, max_depth=15, max_features=auto, n_estimators=100; total time=   1.9s\n",
      "[CV] END bootstrap=True, max_depth=15, max_features=auto, n_estimators=100; total time=   2.0s\n",
      "[CV] END bootstrap=True, max_depth=15, max_features=log2, n_estimators=5; total time=   0.0s\n",
      "[CV] END bootstrap=True, max_depth=15, max_features=log2, n_estimators=5; total time=   0.0s\n",
      "[CV] END bootstrap=True, max_depth=15, max_features=log2, n_estimators=5; total time=   0.0s\n",
      "[CV] END bootstrap=True, max_depth=15, max_features=log2, n_estimators=6; total time=   0.0s\n",
      "[CV] END bootstrap=True, max_depth=15, max_features=log2, n_estimators=6; total time=   0.0s\n",
      "[CV] END bootstrap=True, max_depth=15, max_features=log2, n_estimators=6; total time=   0.0s\n",
      "[CV] END bootstrap=True, max_depth=15, max_features=log2, n_estimators=7; total time=   0.0s\n",
      "[CV] END bootstrap=True, max_depth=15, max_features=log2, n_estimators=7; total time=   0.0s\n",
      "[CV] END bootstrap=True, max_depth=15, max_features=log2, n_estimators=7; total time=   0.0s\n",
      "[CV] END bootstrap=True, max_depth=15, max_features=log2, n_estimators=8; total time=   0.1s\n",
      "[CV] END bootstrap=True, max_depth=15, max_features=log2, n_estimators=8; total time=   0.1s\n",
      "[CV] END bootstrap=True, max_depth=15, max_features=log2, n_estimators=8; total time=   0.1s\n",
      "[CV] END bootstrap=True, max_depth=15, max_features=log2, n_estimators=9; total time=   0.1s\n",
      "[CV] END bootstrap=True, max_depth=15, max_features=log2, n_estimators=9; total time=   0.1s\n",
      "[CV] END bootstrap=True, max_depth=15, max_features=log2, n_estimators=9; total time=   0.1s\n",
      "[CV] END bootstrap=True, max_depth=15, max_features=log2, n_estimators=10; total time=   0.1s\n",
      "[CV] END bootstrap=True, max_depth=15, max_features=log2, n_estimators=10; total time=   0.1s\n",
      "[CV] END bootstrap=True, max_depth=15, max_features=log2, n_estimators=10; total time=   0.1s\n",
      "[CV] END bootstrap=True, max_depth=15, max_features=log2, n_estimators=11; total time=   0.1s\n",
      "[CV] END bootstrap=True, max_depth=15, max_features=log2, n_estimators=11; total time=   0.1s\n",
      "[CV] END bootstrap=True, max_depth=15, max_features=log2, n_estimators=11; total time=   0.1s\n",
      "[CV] END bootstrap=True, max_depth=15, max_features=log2, n_estimators=12; total time=   0.1s\n",
      "[CV] END bootstrap=True, max_depth=15, max_features=log2, n_estimators=12; total time=   0.1s\n",
      "[CV] END bootstrap=True, max_depth=15, max_features=log2, n_estimators=12; total time=   0.1s\n",
      "[CV] END bootstrap=True, max_depth=15, max_features=log2, n_estimators=13; total time=   0.2s\n",
      "[CV] END bootstrap=True, max_depth=15, max_features=log2, n_estimators=13; total time=   0.2s\n",
      "[CV] END bootstrap=True, max_depth=15, max_features=log2, n_estimators=13; total time=   0.2s\n",
      "[CV] END bootstrap=True, max_depth=15, max_features=log2, n_estimators=15; total time=   0.2s\n",
      "[CV] END bootstrap=True, max_depth=15, max_features=log2, n_estimators=15; total time=   0.2s\n",
      "[CV] END bootstrap=True, max_depth=15, max_features=log2, n_estimators=15; total time=   0.2s\n",
      "[CV] END bootstrap=True, max_depth=15, max_features=log2, n_estimators=20; total time=   0.3s\n",
      "[CV] END bootstrap=True, max_depth=15, max_features=log2, n_estimators=20; total time=   0.3s\n",
      "[CV] END bootstrap=True, max_depth=15, max_features=log2, n_estimators=20; total time=   0.3s\n",
      "[CV] END bootstrap=True, max_depth=15, max_features=log2, n_estimators=40; total time=   0.6s\n",
      "[CV] END bootstrap=True, max_depth=15, max_features=log2, n_estimators=40; total time=   0.6s\n",
      "[CV] END bootstrap=True, max_depth=15, max_features=log2, n_estimators=40; total time=   0.6s\n",
      "[CV] END bootstrap=True, max_depth=15, max_features=log2, n_estimators=60; total time=   1.0s\n",
      "[CV] END bootstrap=True, max_depth=15, max_features=log2, n_estimators=60; total time=   1.0s\n",
      "[CV] END bootstrap=True, max_depth=15, max_features=log2, n_estimators=60; total time=   1.0s\n",
      "[CV] END bootstrap=True, max_depth=15, max_features=log2, n_estimators=80; total time=   1.3s\n",
      "[CV] END bootstrap=True, max_depth=15, max_features=log2, n_estimators=80; total time=   1.3s\n",
      "[CV] END bootstrap=True, max_depth=15, max_features=log2, n_estimators=80; total time=   1.3s\n",
      "[CV] END bootstrap=True, max_depth=15, max_features=log2, n_estimators=100; total time=   1.8s\n",
      "[CV] END bootstrap=True, max_depth=15, max_features=log2, n_estimators=100; total time=   1.7s\n",
      "[CV] END bootstrap=True, max_depth=15, max_features=log2, n_estimators=100; total time=   1.7s\n",
      "[CV] END bootstrap=True, max_depth=15, max_features=sqrt, n_estimators=5; total time=   0.0s\n",
      "[CV] END bootstrap=True, max_depth=15, max_features=sqrt, n_estimators=5; total time=   0.0s\n",
      "[CV] END bootstrap=True, max_depth=15, max_features=sqrt, n_estimators=5; total time=   0.0s\n",
      "[CV] END bootstrap=True, max_depth=15, max_features=sqrt, n_estimators=6; total time=   0.0s\n",
      "[CV] END bootstrap=True, max_depth=15, max_features=sqrt, n_estimators=6; total time=   0.1s\n",
      "[CV] END bootstrap=True, max_depth=15, max_features=sqrt, n_estimators=6; total time=   0.0s\n",
      "[CV] END bootstrap=True, max_depth=15, max_features=sqrt, n_estimators=7; total time=   0.1s\n",
      "[CV] END bootstrap=True, max_depth=15, max_features=sqrt, n_estimators=7; total time=   0.1s\n",
      "[CV] END bootstrap=True, max_depth=15, max_features=sqrt, n_estimators=7; total time=   0.1s\n",
      "[CV] END bootstrap=True, max_depth=15, max_features=sqrt, n_estimators=8; total time=   0.1s\n",
      "[CV] END bootstrap=True, max_depth=15, max_features=sqrt, n_estimators=8; total time=   0.2s\n",
      "[CV] END bootstrap=True, max_depth=15, max_features=sqrt, n_estimators=8; total time=   0.1s\n",
      "[CV] END bootstrap=True, max_depth=15, max_features=sqrt, n_estimators=9; total time=   0.1s\n",
      "[CV] END bootstrap=True, max_depth=15, max_features=sqrt, n_estimators=9; total time=   0.1s\n",
      "[CV] END bootstrap=True, max_depth=15, max_features=sqrt, n_estimators=9; total time=   0.1s\n",
      "[CV] END bootstrap=True, max_depth=15, max_features=sqrt, n_estimators=10; total time=   0.1s\n",
      "[CV] END bootstrap=True, max_depth=15, max_features=sqrt, n_estimators=10; total time=   0.1s\n",
      "[CV] END bootstrap=True, max_depth=15, max_features=sqrt, n_estimators=10; total time=   0.1s\n",
      "[CV] END bootstrap=True, max_depth=15, max_features=sqrt, n_estimators=11; total time=   0.1s\n",
      "[CV] END bootstrap=True, max_depth=15, max_features=sqrt, n_estimators=11; total time=   0.1s\n",
      "[CV] END bootstrap=True, max_depth=15, max_features=sqrt, n_estimators=11; total time=   0.1s\n",
      "[CV] END bootstrap=True, max_depth=15, max_features=sqrt, n_estimators=12; total time=   0.2s\n",
      "[CV] END bootstrap=True, max_depth=15, max_features=sqrt, n_estimators=12; total time=   0.2s\n",
      "[CV] END bootstrap=True, max_depth=15, max_features=sqrt, n_estimators=12; total time=   0.2s\n",
      "[CV] END bootstrap=True, max_depth=15, max_features=sqrt, n_estimators=13; total time=   0.2s\n",
      "[CV] END bootstrap=True, max_depth=15, max_features=sqrt, n_estimators=13; total time=   0.2s\n",
      "[CV] END bootstrap=True, max_depth=15, max_features=sqrt, n_estimators=13; total time=   0.2s\n",
      "[CV] END bootstrap=True, max_depth=15, max_features=sqrt, n_estimators=15; total time=   0.2s\n",
      "[CV] END bootstrap=True, max_depth=15, max_features=sqrt, n_estimators=15; total time=   0.3s\n",
      "[CV] END bootstrap=True, max_depth=15, max_features=sqrt, n_estimators=15; total time=   0.2s\n"
     ]
    },
    {
     "name": "stdout",
     "output_type": "stream",
     "text": [
      "[CV] END bootstrap=True, max_depth=15, max_features=sqrt, n_estimators=20; total time=   0.3s\n",
      "[CV] END bootstrap=True, max_depth=15, max_features=sqrt, n_estimators=20; total time=   0.3s\n",
      "[CV] END bootstrap=True, max_depth=15, max_features=sqrt, n_estimators=20; total time=   0.4s\n",
      "[CV] END bootstrap=True, max_depth=15, max_features=sqrt, n_estimators=40; total time=   0.7s\n",
      "[CV] END bootstrap=True, max_depth=15, max_features=sqrt, n_estimators=40; total time=   0.7s\n",
      "[CV] END bootstrap=True, max_depth=15, max_features=sqrt, n_estimators=40; total time=   0.8s\n",
      "[CV] END bootstrap=True, max_depth=15, max_features=sqrt, n_estimators=60; total time=   1.1s\n",
      "[CV] END bootstrap=True, max_depth=15, max_features=sqrt, n_estimators=60; total time=   1.1s\n",
      "[CV] END bootstrap=True, max_depth=15, max_features=sqrt, n_estimators=60; total time=   1.1s\n",
      "[CV] END bootstrap=True, max_depth=15, max_features=sqrt, n_estimators=80; total time=   1.5s\n",
      "[CV] END bootstrap=True, max_depth=15, max_features=sqrt, n_estimators=80; total time=   1.5s\n",
      "[CV] END bootstrap=True, max_depth=15, max_features=sqrt, n_estimators=80; total time=   1.5s\n",
      "[CV] END bootstrap=True, max_depth=15, max_features=sqrt, n_estimators=100; total time=   1.9s\n",
      "[CV] END bootstrap=True, max_depth=15, max_features=sqrt, n_estimators=100; total time=   2.1s\n",
      "[CV] END bootstrap=True, max_depth=15, max_features=sqrt, n_estimators=100; total time=   1.9s\n",
      "[CV] END bootstrap=True, max_depth=None, max_features=auto, n_estimators=5; total time=   0.1s\n",
      "[CV] END bootstrap=True, max_depth=None, max_features=auto, n_estimators=5; total time=   0.1s\n",
      "[CV] END bootstrap=True, max_depth=None, max_features=auto, n_estimators=5; total time=   0.1s\n",
      "[CV] END bootstrap=True, max_depth=None, max_features=auto, n_estimators=6; total time=   0.1s\n",
      "[CV] END bootstrap=True, max_depth=None, max_features=auto, n_estimators=6; total time=   0.1s\n",
      "[CV] END bootstrap=True, max_depth=None, max_features=auto, n_estimators=6; total time=   0.1s\n",
      "[CV] END bootstrap=True, max_depth=None, max_features=auto, n_estimators=7; total time=   0.1s\n",
      "[CV] END bootstrap=True, max_depth=None, max_features=auto, n_estimators=7; total time=   0.1s\n",
      "[CV] END bootstrap=True, max_depth=None, max_features=auto, n_estimators=7; total time=   0.1s\n",
      "[CV] END bootstrap=True, max_depth=None, max_features=auto, n_estimators=8; total time=   0.1s\n",
      "[CV] END bootstrap=True, max_depth=None, max_features=auto, n_estimators=8; total time=   0.1s\n",
      "[CV] END bootstrap=True, max_depth=None, max_features=auto, n_estimators=8; total time=   0.1s\n",
      "[CV] END bootstrap=True, max_depth=None, max_features=auto, n_estimators=9; total time=   0.2s\n",
      "[CV] END bootstrap=True, max_depth=None, max_features=auto, n_estimators=9; total time=   0.2s\n",
      "[CV] END bootstrap=True, max_depth=None, max_features=auto, n_estimators=9; total time=   0.2s\n",
      "[CV] END bootstrap=True, max_depth=None, max_features=auto, n_estimators=10; total time=   0.2s\n",
      "[CV] END bootstrap=True, max_depth=None, max_features=auto, n_estimators=10; total time=   0.2s\n",
      "[CV] END bootstrap=True, max_depth=None, max_features=auto, n_estimators=10; total time=   0.2s\n",
      "[CV] END bootstrap=True, max_depth=None, max_features=auto, n_estimators=11; total time=   0.2s\n",
      "[CV] END bootstrap=True, max_depth=None, max_features=auto, n_estimators=11; total time=   0.2s\n",
      "[CV] END bootstrap=True, max_depth=None, max_features=auto, n_estimators=11; total time=   0.2s\n",
      "[CV] END bootstrap=True, max_depth=None, max_features=auto, n_estimators=12; total time=   0.3s\n",
      "[CV] END bootstrap=True, max_depth=None, max_features=auto, n_estimators=12; total time=   0.3s\n",
      "[CV] END bootstrap=True, max_depth=None, max_features=auto, n_estimators=12; total time=   0.3s\n",
      "[CV] END bootstrap=True, max_depth=None, max_features=auto, n_estimators=13; total time=   0.3s\n",
      "[CV] END bootstrap=True, max_depth=None, max_features=auto, n_estimators=13; total time=   0.3s\n",
      "[CV] END bootstrap=True, max_depth=None, max_features=auto, n_estimators=13; total time=   0.3s\n",
      "[CV] END bootstrap=True, max_depth=None, max_features=auto, n_estimators=15; total time=   0.3s\n",
      "[CV] END bootstrap=True, max_depth=None, max_features=auto, n_estimators=15; total time=   0.3s\n",
      "[CV] END bootstrap=True, max_depth=None, max_features=auto, n_estimators=15; total time=   0.3s\n",
      "[CV] END bootstrap=True, max_depth=None, max_features=auto, n_estimators=20; total time=   0.5s\n",
      "[CV] END bootstrap=True, max_depth=None, max_features=auto, n_estimators=20; total time=   0.5s\n",
      "[CV] END bootstrap=True, max_depth=None, max_features=auto, n_estimators=20; total time=   0.5s\n",
      "[CV] END bootstrap=True, max_depth=None, max_features=auto, n_estimators=40; total time=   1.0s\n",
      "[CV] END bootstrap=True, max_depth=None, max_features=auto, n_estimators=40; total time=   1.0s\n",
      "[CV] END bootstrap=True, max_depth=None, max_features=auto, n_estimators=40; total time=   1.0s\n",
      "[CV] END bootstrap=True, max_depth=None, max_features=auto, n_estimators=60; total time=   1.6s\n",
      "[CV] END bootstrap=True, max_depth=None, max_features=auto, n_estimators=60; total time=   1.6s\n",
      "[CV] END bootstrap=True, max_depth=None, max_features=auto, n_estimators=60; total time=   1.6s\n",
      "[CV] END bootstrap=True, max_depth=None, max_features=auto, n_estimators=80; total time=   2.2s\n",
      "[CV] END bootstrap=True, max_depth=None, max_features=auto, n_estimators=80; total time=   2.1s\n",
      "[CV] END bootstrap=True, max_depth=None, max_features=auto, n_estimators=80; total time=   2.1s\n",
      "[CV] END bootstrap=True, max_depth=None, max_features=auto, n_estimators=100; total time=   2.8s\n",
      "[CV] END bootstrap=True, max_depth=None, max_features=auto, n_estimators=100; total time=   2.8s\n",
      "[CV] END bootstrap=True, max_depth=None, max_features=auto, n_estimators=100; total time=   2.7s\n",
      "[CV] END bootstrap=True, max_depth=None, max_features=log2, n_estimators=5; total time=   0.0s\n",
      "[CV] END bootstrap=True, max_depth=None, max_features=log2, n_estimators=5; total time=   0.0s\n",
      "[CV] END bootstrap=True, max_depth=None, max_features=log2, n_estimators=5; total time=   0.0s\n",
      "[CV] END bootstrap=True, max_depth=None, max_features=log2, n_estimators=6; total time=   0.1s\n",
      "[CV] END bootstrap=True, max_depth=None, max_features=log2, n_estimators=6; total time=   0.1s\n",
      "[CV] END bootstrap=True, max_depth=None, max_features=log2, n_estimators=6; total time=   0.1s\n",
      "[CV] END bootstrap=True, max_depth=None, max_features=log2, n_estimators=7; total time=   0.1s\n",
      "[CV] END bootstrap=True, max_depth=None, max_features=log2, n_estimators=7; total time=   0.1s\n",
      "[CV] END bootstrap=True, max_depth=None, max_features=log2, n_estimators=7; total time=   0.1s\n",
      "[CV] END bootstrap=True, max_depth=None, max_features=log2, n_estimators=8; total time=   0.3s\n",
      "[CV] END bootstrap=True, max_depth=None, max_features=log2, n_estimators=8; total time=   0.2s\n",
      "[CV] END bootstrap=True, max_depth=None, max_features=log2, n_estimators=8; total time=   0.1s\n",
      "[CV] END bootstrap=True, max_depth=None, max_features=log2, n_estimators=9; total time=   0.2s\n",
      "[CV] END bootstrap=True, max_depth=None, max_features=log2, n_estimators=9; total time=   0.2s\n",
      "[CV] END bootstrap=True, max_depth=None, max_features=log2, n_estimators=9; total time=   0.2s\n",
      "[CV] END bootstrap=True, max_depth=None, max_features=log2, n_estimators=10; total time=   0.2s\n",
      "[CV] END bootstrap=True, max_depth=None, max_features=log2, n_estimators=10; total time=   0.2s\n",
      "[CV] END bootstrap=True, max_depth=None, max_features=log2, n_estimators=10; total time=   0.2s\n",
      "[CV] END bootstrap=True, max_depth=None, max_features=log2, n_estimators=11; total time=   0.2s\n",
      "[CV] END bootstrap=True, max_depth=None, max_features=log2, n_estimators=11; total time=   0.2s\n",
      "[CV] END bootstrap=True, max_depth=None, max_features=log2, n_estimators=11; total time=   0.2s\n",
      "[CV] END bootstrap=True, max_depth=None, max_features=log2, n_estimators=12; total time=   0.3s\n",
      "[CV] END bootstrap=True, max_depth=None, max_features=log2, n_estimators=12; total time=   0.2s\n",
      "[CV] END bootstrap=True, max_depth=None, max_features=log2, n_estimators=12; total time=   0.4s\n",
      "[CV] END bootstrap=True, max_depth=None, max_features=log2, n_estimators=13; total time=   0.4s\n",
      "[CV] END bootstrap=True, max_depth=None, max_features=log2, n_estimators=13; total time=   0.3s\n"
     ]
    },
    {
     "name": "stdout",
     "output_type": "stream",
     "text": [
      "[CV] END bootstrap=True, max_depth=None, max_features=log2, n_estimators=13; total time=   0.3s\n",
      "[CV] END bootstrap=True, max_depth=None, max_features=log2, n_estimators=15; total time=   0.3s\n",
      "[CV] END bootstrap=True, max_depth=None, max_features=log2, n_estimators=15; total time=   0.3s\n",
      "[CV] END bootstrap=True, max_depth=None, max_features=log2, n_estimators=15; total time=   0.3s\n",
      "[CV] END bootstrap=True, max_depth=None, max_features=log2, n_estimators=20; total time=   0.4s\n",
      "[CV] END bootstrap=True, max_depth=None, max_features=log2, n_estimators=20; total time=   0.4s\n",
      "[CV] END bootstrap=True, max_depth=None, max_features=log2, n_estimators=20; total time=   0.4s\n",
      "[CV] END bootstrap=True, max_depth=None, max_features=log2, n_estimators=40; total time=   0.9s\n",
      "[CV] END bootstrap=True, max_depth=None, max_features=log2, n_estimators=40; total time=   1.0s\n",
      "[CV] END bootstrap=True, max_depth=None, max_features=log2, n_estimators=40; total time=   1.1s\n",
      "[CV] END bootstrap=True, max_depth=None, max_features=log2, n_estimators=60; total time=   1.5s\n",
      "[CV] END bootstrap=True, max_depth=None, max_features=log2, n_estimators=60; total time=   1.5s\n",
      "[CV] END bootstrap=True, max_depth=None, max_features=log2, n_estimators=60; total time=   1.5s\n",
      "[CV] END bootstrap=True, max_depth=None, max_features=log2, n_estimators=80; total time=   2.0s\n",
      "[CV] END bootstrap=True, max_depth=None, max_features=log2, n_estimators=80; total time=   2.0s\n",
      "[CV] END bootstrap=True, max_depth=None, max_features=log2, n_estimators=80; total time=   2.0s\n",
      "[CV] END bootstrap=True, max_depth=None, max_features=log2, n_estimators=100; total time=   2.5s\n",
      "[CV] END bootstrap=True, max_depth=None, max_features=log2, n_estimators=100; total time=   2.8s\n",
      "[CV] END bootstrap=True, max_depth=None, max_features=log2, n_estimators=100; total time=   2.7s\n",
      "[CV] END bootstrap=True, max_depth=None, max_features=sqrt, n_estimators=5; total time=   0.1s\n",
      "[CV] END bootstrap=True, max_depth=None, max_features=sqrt, n_estimators=5; total time=   0.1s\n",
      "[CV] END bootstrap=True, max_depth=None, max_features=sqrt, n_estimators=5; total time=   0.2s\n",
      "[CV] END bootstrap=True, max_depth=None, max_features=sqrt, n_estimators=6; total time=   0.2s\n",
      "[CV] END bootstrap=True, max_depth=None, max_features=sqrt, n_estimators=6; total time=   0.1s\n",
      "[CV] END bootstrap=True, max_depth=None, max_features=sqrt, n_estimators=6; total time=   0.1s\n",
      "[CV] END bootstrap=True, max_depth=None, max_features=sqrt, n_estimators=7; total time=   0.1s\n",
      "[CV] END bootstrap=True, max_depth=None, max_features=sqrt, n_estimators=7; total time=   0.1s\n",
      "[CV] END bootstrap=True, max_depth=None, max_features=sqrt, n_estimators=7; total time=   0.2s\n",
      "[CV] END bootstrap=True, max_depth=None, max_features=sqrt, n_estimators=8; total time=   0.1s\n",
      "[CV] END bootstrap=True, max_depth=None, max_features=sqrt, n_estimators=8; total time=   0.1s\n",
      "[CV] END bootstrap=True, max_depth=None, max_features=sqrt, n_estimators=8; total time=   0.1s\n",
      "[CV] END bootstrap=True, max_depth=None, max_features=sqrt, n_estimators=9; total time=   0.2s\n",
      "[CV] END bootstrap=True, max_depth=None, max_features=sqrt, n_estimators=9; total time=   0.3s\n",
      "[CV] END bootstrap=True, max_depth=None, max_features=sqrt, n_estimators=9; total time=   0.3s\n",
      "[CV] END bootstrap=True, max_depth=None, max_features=sqrt, n_estimators=10; total time=   0.2s\n",
      "[CV] END bootstrap=True, max_depth=None, max_features=sqrt, n_estimators=10; total time=   0.2s\n",
      "[CV] END bootstrap=True, max_depth=None, max_features=sqrt, n_estimators=10; total time=   0.2s\n",
      "[CV] END bootstrap=True, max_depth=None, max_features=sqrt, n_estimators=11; total time=   0.2s\n",
      "[CV] END bootstrap=True, max_depth=None, max_features=sqrt, n_estimators=11; total time=   0.3s\n",
      "[CV] END bootstrap=True, max_depth=None, max_features=sqrt, n_estimators=11; total time=   0.4s\n",
      "[CV] END bootstrap=True, max_depth=None, max_features=sqrt, n_estimators=12; total time=   0.4s\n",
      "[CV] END bootstrap=True, max_depth=None, max_features=sqrt, n_estimators=12; total time=   0.5s\n",
      "[CV] END bootstrap=True, max_depth=None, max_features=sqrt, n_estimators=12; total time=   0.3s\n",
      "[CV] END bootstrap=True, max_depth=None, max_features=sqrt, n_estimators=13; total time=   0.3s\n",
      "[CV] END bootstrap=True, max_depth=None, max_features=sqrt, n_estimators=13; total time=   0.3s\n",
      "[CV] END bootstrap=True, max_depth=None, max_features=sqrt, n_estimators=13; total time=   0.5s\n",
      "[CV] END bootstrap=True, max_depth=None, max_features=sqrt, n_estimators=15; total time=   0.4s\n",
      "[CV] END bootstrap=True, max_depth=None, max_features=sqrt, n_estimators=15; total time=   0.3s\n",
      "[CV] END bootstrap=True, max_depth=None, max_features=sqrt, n_estimators=15; total time=   0.3s\n",
      "[CV] END bootstrap=True, max_depth=None, max_features=sqrt, n_estimators=20; total time=   0.5s\n",
      "[CV] END bootstrap=True, max_depth=None, max_features=sqrt, n_estimators=20; total time=   0.7s\n",
      "[CV] END bootstrap=True, max_depth=None, max_features=sqrt, n_estimators=20; total time=   0.5s\n",
      "[CV] END bootstrap=True, max_depth=None, max_features=sqrt, n_estimators=40; total time=   1.4s\n",
      "[CV] END bootstrap=True, max_depth=None, max_features=sqrt, n_estimators=40; total time=   1.4s\n",
      "[CV] END bootstrap=True, max_depth=None, max_features=sqrt, n_estimators=40; total time=   1.2s\n",
      "[CV] END bootstrap=True, max_depth=None, max_features=sqrt, n_estimators=60; total time=   1.9s\n",
      "[CV] END bootstrap=True, max_depth=None, max_features=sqrt, n_estimators=60; total time=   1.7s\n",
      "[CV] END bootstrap=True, max_depth=None, max_features=sqrt, n_estimators=60; total time=   2.0s\n",
      "[CV] END bootstrap=True, max_depth=None, max_features=sqrt, n_estimators=80; total time=   2.5s\n",
      "[CV] END bootstrap=True, max_depth=None, max_features=sqrt, n_estimators=80; total time=   2.6s\n",
      "[CV] END bootstrap=True, max_depth=None, max_features=sqrt, n_estimators=80; total time=   2.5s\n",
      "[CV] END bootstrap=True, max_depth=None, max_features=sqrt, n_estimators=100; total time=   3.0s\n",
      "[CV] END bootstrap=True, max_depth=None, max_features=sqrt, n_estimators=100; total time=   3.5s\n",
      "[CV] END bootstrap=True, max_depth=None, max_features=sqrt, n_estimators=100; total time=   3.9s\n"
     ]
    },
    {
     "data": {
      "text/plain": [
       "GridSearchCV(cv=3, estimator=RandomForestClassifier(), n_jobs=1,\n",
       "             param_grid={'bootstrap': [True],\n",
       "                         'max_depth': [1, 3, 5, 10, 12, 15, None],\n",
       "                         'max_features': ['auto', 'log2', 'sqrt'],\n",
       "                         'n_estimators': [5, 6, 7, 8, 9, 10, 11, 12, 13, 15, 20,\n",
       "                                          40, 60, 80, 100]},\n",
       "             return_train_score=True, verbose=2)"
      ]
     },
     "execution_count": 37,
     "metadata": {},
     "output_type": "execute_result"
    }
   ],
   "source": [
    "from sklearn.model_selection import GridSearchCV\n",
    "rf=RandomForestClassifier(n_estimators=100)\n",
    "g_search = GridSearchCV(estimator = rf, param_grid = param_grid, cv = 3, n_jobs = 1, verbose = 2, return_train_score=True)\n",
    "g_search.fit(X_train2,y_train)"
   ]
  },
  {
   "cell_type": "code",
   "execution_count": 38,
   "id": "7fe03cb3",
   "metadata": {},
   "outputs": [
    {
     "data": {
      "text/plain": [
       "{'bootstrap': True,\n",
       " 'max_depth': 15,\n",
       " 'max_features': 'auto',\n",
       " 'n_estimators': 80}"
      ]
     },
     "execution_count": 38,
     "metadata": {},
     "output_type": "execute_result"
    }
   ],
   "source": [
    "g_search.best_params_"
   ]
  },
  {
   "cell_type": "code",
   "execution_count": 39,
   "id": "caceeb1e",
   "metadata": {},
   "outputs": [],
   "source": [
    "rf1=RandomForestClassifier(max_depth=15,n_estimators=80)"
   ]
  },
  {
   "cell_type": "code",
   "execution_count": 40,
   "id": "9892052e",
   "metadata": {},
   "outputs": [
    {
     "data": {
      "text/plain": [
       "RandomForestClassifier(max_depth=15, n_estimators=80)"
      ]
     },
     "execution_count": 40,
     "metadata": {},
     "output_type": "execute_result"
    }
   ],
   "source": [
    "rf1.fit(X_train2, y_train)"
   ]
  },
  {
   "cell_type": "code",
   "execution_count": 41,
   "id": "3f3ea960",
   "metadata": {},
   "outputs": [],
   "source": [
    "Y_check=rf1.predict(X_test2)"
   ]
  },
  {
   "cell_type": "code",
   "execution_count": 43,
   "id": "70b3f007",
   "metadata": {},
   "outputs": [
    {
     "name": "stdout",
     "output_type": "stream",
     "text": [
      "accuracy of our new model is 0.7842666666666667\n"
     ]
    }
   ],
   "source": [
    "print(f'accuracy of our new model is {accuracy_score(y_test,Y_check)}')"
   ]
  },
  {
   "cell_type": "code",
   "execution_count": 30,
   "id": "808a8347",
   "metadata": {},
   "outputs": [],
   "source": [
    "from sklearn.linear_model import LogisticRegression\n"
   ]
  },
  {
   "cell_type": "code",
   "execution_count": 35,
   "id": "372b03bf",
   "metadata": {},
   "outputs": [],
   "source": [
    "lr=LogisticRegression(random_state=0,penalty='l2')"
   ]
  },
  {
   "cell_type": "code",
   "execution_count": 36,
   "id": "aae78857",
   "metadata": {},
   "outputs": [
    {
     "data": {
      "text/plain": [
       "LogisticRegression(random_state=0)"
      ]
     },
     "execution_count": 36,
     "metadata": {},
     "output_type": "execute_result"
    }
   ],
   "source": [
    "lr.fit(X_train2,y_train)"
   ]
  },
  {
   "cell_type": "code",
   "execution_count": 37,
   "id": "db93fc41",
   "metadata": {},
   "outputs": [],
   "source": [
    "y_pred=lr.predict(X_test2)"
   ]
  },
  {
   "cell_type": "code",
   "execution_count": 38,
   "id": "add6f46c",
   "metadata": {},
   "outputs": [],
   "source": [
    "from sklearn.metrics import classification_report,confusion_matrix"
   ]
  },
  {
   "cell_type": "code",
   "execution_count": 42,
   "id": "147158da",
   "metadata": {},
   "outputs": [
    {
     "name": "stdout",
     "output_type": "stream",
     "text": [
      "Here is the classifiacte report: \n",
      "\n",
      "              precision    recall  f1-score   support\n",
      "\n",
      "           0       0.69      0.63      0.66      5669\n",
      "           1       0.79      0.83      0.81      9331\n",
      "\n",
      "    accuracy                           0.75     15000\n",
      "   macro avg       0.74      0.73      0.73     15000\n",
      "weighted avg       0.75      0.75      0.75     15000\n",
      "\n"
     ]
    }
   ],
   "source": [
    "print(\"Here is the classifiacte report: \\n\"+\"\\n\"+classification_report(y_test,y_pred))"
   ]
  },
  {
   "cell_type": "code",
   "execution_count": 55,
   "id": "6f10426f",
   "metadata": {},
   "outputs": [],
   "source": [
    "from sklearn.metrics import precision_score,recall_score,f1_score,accuracy_score"
   ]
  },
  {
   "cell_type": "code",
   "execution_count": 44,
   "id": "644b82a5",
   "metadata": {},
   "outputs": [
    {
     "name": "stdout",
     "output_type": "stream",
     "text": [
      "0.7868935996738687\n"
     ]
    }
   ],
   "source": [
    "print(precision_score(y_test,y_pred))"
   ]
  },
  {
   "cell_type": "code",
   "execution_count": 45,
   "id": "704fba14",
   "metadata": {},
   "outputs": [
    {
     "name": "stdout",
     "output_type": "stream",
     "text": [
      "0.827456864216054\n"
     ]
    }
   ],
   "source": [
    "print(recall_score(y_test,y_pred))"
   ]
  },
  {
   "cell_type": "code",
   "execution_count": 46,
   "id": "41c74755",
   "metadata": {},
   "outputs": [
    {
     "name": "stdout",
     "output_type": "stream",
     "text": [
      "0.806665621898344\n"
     ]
    }
   ],
   "source": [
    "print(f1_score(y_test,y_pred))"
   ]
  },
  {
   "cell_type": "code",
   "execution_count": 52,
   "id": "82b6a5f7",
   "metadata": {},
   "outputs": [],
   "source": [
    "cm=pd.DataFrame(confusion_matrix(y_test,y_pred),columns=[0,1],index=[0,1])"
   ]
  },
  {
   "cell_type": "code",
   "execution_count": 53,
   "id": "7126ebf6",
   "metadata": {},
   "outputs": [
    {
     "data": {
      "text/plain": [
       "<Axes: >"
      ]
     },
     "execution_count": 53,
     "metadata": {},
     "output_type": "execute_result"
    },
    {
     "data": {
      "image/png": "[encoded data removed]",
      "text/plain": [
       "<Figure size 1440x720 with 2 Axes>"
      ]
     },
     "metadata": {
      "needs_background": "light"
     },
     "output_type": "display_data"
    }
   ],
   "source": [
    "\n",
    "plt.figure(figsize=(20,10))\n",
    "sns.heatmap(cm,annot=True)"
   ]
  },
  {
   "cell_type": "code",
   "execution_count": 59,
   "id": "f326e089",
   "metadata": {},
   "outputs": [
    {
     "name": "stdout",
     "output_type": "stream",
     "text": [
      "Test Data Accuracy: 0.7533\n"
     ]
    }
   ],
   "source": [
    "print(\"Test Data Accuracy: %0.4f\" % accuracy_score(y_test, y_pred))"
   ]
  },
  {
   "cell_type": "raw",
   "id": "d94850cc",
   "metadata": {},
   "source": [
    "Now we will use k fold cross validation"
   ]
  },
  {
   "cell_type": "code",
   "execution_count": 61,
   "id": "d6b75096",
   "metadata": {},
   "outputs": [],
   "source": [
    "from sklearn.model_selection import cross_val_score"
   ]
  },
  {
   "cell_type": "code",
   "execution_count": null,
   "id": "7b9a0503",
   "metadata": {},
   "outputs": [],
   "source": [
    "cross_score=cross_val_score(lr,X_train2,y_train)"
   ]
  },
  {
   "cell_type": "code",
   "execution_count": 62,
   "id": "4cb3f3ec",
   "metadata": {},
   "outputs": [],
   "source": [
    "cross_score=cross_val_score(lr,X_train2,y_train,cv=10)"
   ]
  },
  {
   "cell_type": "code",
   "execution_count": 63,
   "id": "177629a7",
   "metadata": {},
   "outputs": [
    {
     "name": "stdout",
     "output_type": "stream",
     "text": [
      "[0.75542857 0.75628571 0.76371429 0.76228571 0.75314286 0.76028571\n",
      " 0.74828571 0.76314286 0.75571429 0.75114286]\n"
     ]
    }
   ],
   "source": [
    "print(cross_score)"
   ]
  },
  {
   "cell_type": "code",
   "execution_count": 68,
   "id": "ddbb7651",
   "metadata": {},
   "outputs": [
    {
     "name": "stdout",
     "output_type": "stream",
     "text": [
      "Mean accuracy after using Kfold: 0.756942857142857 +/- 0.010025437035616017\n"
     ]
    }
   ],
   "source": [
    "print(f'Mean accuracy after using Kfold: {cross_score.mean()} +/- {2*cross_score.std()}')"
   ]
  },
  {
   "cell_type": "code",
   "execution_count": 82,
   "id": "40f5f62f",
   "metadata": {},
   "outputs": [],
   "source": [
    "result=pd.DataFrame(np.transpose([y_test,y_pred]),columns=['enrolled','prediction'])"
   ]
  },
  {
   "cell_type": "code",
   "execution_count": 83,
   "id": "e646c40f",
   "metadata": {},
   "outputs": [
    {
     "data": {
      "text/html": [
       "<div>\n",
       "<style scoped>\n",
       "    .dataframe tbody tr th:only-of-type {\n",
       "        vertical-align: middle;\n",
       "    }\n",
       "\n",
       "    .dataframe tbody tr th {\n",
       "        vertical-align: top;\n",
       "    }\n",
       "\n",
       "    .dataframe thead th {\n",
       "        text-align: right;\n",
       "    }\n",
       "</style>\n",
       "<table border=\"1\" class=\"dataframe\">\n",
       "  <thead>\n",
       "    <tr style=\"text-align: right;\">\n",
       "      <th></th>\n",
       "      <th>enrolled</th>\n",
       "      <th>prediction</th>\n",
       "    </tr>\n",
       "  </thead>\n",
       "  <tbody>\n",
       "    <tr>\n",
       "      <th>0</th>\n",
       "      <td>1</td>\n",
       "      <td>1</td>\n",
       "    </tr>\n",
       "    <tr>\n",
       "      <th>1</th>\n",
       "      <td>1</td>\n",
       "      <td>1</td>\n",
       "    </tr>\n",
       "    <tr>\n",
       "      <th>2</th>\n",
       "      <td>0</td>\n",
       "      <td>0</td>\n",
       "    </tr>\n",
       "    <tr>\n",
       "      <th>3</th>\n",
       "      <td>1</td>\n",
       "      <td>1</td>\n",
       "    </tr>\n",
       "    <tr>\n",
       "      <th>4</th>\n",
       "      <td>1</td>\n",
       "      <td>1</td>\n",
       "    </tr>\n",
       "  </tbody>\n",
       "</table>\n",
       "</div>"
      ],
      "text/plain": [
       "   enrolled  prediction\n",
       "0         1           1\n",
       "1         1           1\n",
       "2         0           0\n",
       "3         1           1\n",
       "4         1           1"
      ]
     },
     "execution_count": 83,
     "metadata": {},
     "output_type": "execute_result"
    }
   ],
   "source": [
    "result.head()"
   ]
  },
  {
   "cell_type": "code",
   "execution_count": 109,
   "id": "dac2f2a6",
   "metadata": {},
   "outputs": [],
   "source": [
    "result=pd.concat([pd.DataFrame(test_userid.values.astype(int),columns=['user']),result],axis=1)"
   ]
  },
  {
   "cell_type": "code",
   "execution_count": 110,
   "id": "f241750a",
   "metadata": {},
   "outputs": [
    {
     "data": {
      "text/html": [
       "<div>\n",
       "<style scoped>\n",
       "    .dataframe tbody tr th:only-of-type {\n",
       "        vertical-align: middle;\n",
       "    }\n",
       "\n",
       "    .dataframe tbody tr th {\n",
       "        vertical-align: top;\n",
       "    }\n",
       "\n",
       "    .dataframe thead th {\n",
       "        text-align: right;\n",
       "    }\n",
       "</style>\n",
       "<table border=\"1\" class=\"dataframe\">\n",
       "  <thead>\n",
       "    <tr style=\"text-align: right;\">\n",
       "      <th></th>\n",
       "      <th>user</th>\n",
       "      <th>enrolled</th>\n",
       "      <th>prediction</th>\n",
       "    </tr>\n",
       "  </thead>\n",
       "  <tbody>\n",
       "    <tr>\n",
       "      <th>0</th>\n",
       "      <td>239786.0</td>\n",
       "      <td>1.0</td>\n",
       "      <td>1.0</td>\n",
       "    </tr>\n",
       "    <tr>\n",
       "      <th>1</th>\n",
       "      <td>279644.0</td>\n",
       "      <td>1.0</td>\n",
       "      <td>1.0</td>\n",
       "    </tr>\n",
       "    <tr>\n",
       "      <th>2</th>\n",
       "      <td>98290.0</td>\n",
       "      <td>0.0</td>\n",
       "      <td>0.0</td>\n",
       "    </tr>\n",
       "    <tr>\n",
       "      <th>3</th>\n",
       "      <td>170150.0</td>\n",
       "      <td>1.0</td>\n",
       "      <td>1.0</td>\n",
       "    </tr>\n",
       "    <tr>\n",
       "      <th>4</th>\n",
       "      <td>237568.0</td>\n",
       "      <td>1.0</td>\n",
       "      <td>1.0</td>\n",
       "    </tr>\n",
       "  </tbody>\n",
       "</table>\n",
       "</div>"
      ],
      "text/plain": [
       "       user  enrolled  prediction\n",
       "0  239786.0       1.0         1.0\n",
       "1  279644.0       1.0         1.0\n",
       "2   98290.0       0.0         0.0\n",
       "3  170150.0       1.0         1.0\n",
       "4  237568.0       1.0         1.0"
      ]
     },
     "execution_count": 110,
     "metadata": {},
     "output_type": "execute_result"
    }
   ],
   "source": [
    "result.head()"
   ]
  },
  {
   "cell_type": "code",
   "execution_count": 113,
   "id": "dba2882e",
   "metadata": {},
   "outputs": [],
   "source": [
    "result=result.convert_dtypes()"
   ]
  },
  {
   "cell_type": "code",
   "execution_count": 114,
   "id": "a20bc357",
   "metadata": {},
   "outputs": [
    {
     "data": {
      "text/html": [
       "<div>\n",
       "<style scoped>\n",
       "    .dataframe tbody tr th:only-of-type {\n",
       "        vertical-align: middle;\n",
       "    }\n",
       "\n",
       "    .dataframe tbody tr th {\n",
       "        vertical-align: top;\n",
       "    }\n",
       "\n",
       "    .dataframe thead th {\n",
       "        text-align: right;\n",
       "    }\n",
       "</style>\n",
       "<table border=\"1\" class=\"dataframe\">\n",
       "  <thead>\n",
       "    <tr style=\"text-align: right;\">\n",
       "      <th></th>\n",
       "      <th>user</th>\n",
       "      <th>enrolled</th>\n",
       "      <th>prediction</th>\n",
       "    </tr>\n",
       "  </thead>\n",
       "  <tbody>\n",
       "    <tr>\n",
       "      <th>0</th>\n",
       "      <td>239786</td>\n",
       "      <td>1</td>\n",
       "      <td>1</td>\n",
       "    </tr>\n",
       "    <tr>\n",
       "      <th>1</th>\n",
       "      <td>279644</td>\n",
       "      <td>1</td>\n",
       "      <td>1</td>\n",
       "    </tr>\n",
       "    <tr>\n",
       "      <th>2</th>\n",
       "      <td>98290</td>\n",
       "      <td>0</td>\n",
       "      <td>0</td>\n",
       "    </tr>\n",
       "    <tr>\n",
       "      <th>3</th>\n",
       "      <td>170150</td>\n",
       "      <td>1</td>\n",
       "      <td>1</td>\n",
       "    </tr>\n",
       "    <tr>\n",
       "      <th>4</th>\n",
       "      <td>237568</td>\n",
       "      <td>1</td>\n",
       "      <td>1</td>\n",
       "    </tr>\n",
       "  </tbody>\n",
       "</table>\n",
       "</div>"
      ],
      "text/plain": [
       "     user  enrolled  prediction\n",
       "0  239786         1           1\n",
       "1  279644         1           1\n",
       "2   98290         0           0\n",
       "3  170150         1           1\n",
       "4  237568         1           1"
      ]
     },
     "execution_count": 114,
     "metadata": {},
     "output_type": "execute_result"
    }
   ],
   "source": [
    "result.head()"
   ]
  },
  {
   "cell_type": "code",
   "execution_count": 124,
   "id": "99ed2443",
   "metadata": {},
   "outputs": [],
   "source": [
    "df_coeff=pd.concat([pd.DataFrame(X.columns[1:],columns=[\"Features\"]),pd.DataFrame(np.transpose(lr.coef_),columns=[\"Coefficient\"])],axis=1)"
   ]
  },
  {
   "cell_type": "code",
   "execution_count": 126,
   "id": "affbddb6",
   "metadata": {},
   "outputs": [
    {
     "data": {
      "text/html": [
       "<div>\n",
       "<style scoped>\n",
       "    .dataframe tbody tr th:only-of-type {\n",
       "        vertical-align: middle;\n",
       "    }\n",
       "\n",
       "    .dataframe tbody tr th {\n",
       "        vertical-align: top;\n",
       "    }\n",
       "\n",
       "    .dataframe thead th {\n",
       "        text-align: right;\n",
       "    }\n",
       "</style>\n",
       "<table border=\"1\" class=\"dataframe\">\n",
       "  <thead>\n",
       "    <tr style=\"text-align: right;\">\n",
       "      <th></th>\n",
       "      <th>Features</th>\n",
       "      <th>Coefficient</th>\n",
       "    </tr>\n",
       "  </thead>\n",
       "  <tbody>\n",
       "    <tr>\n",
       "      <th>0</th>\n",
       "      <td>dayofweek</td>\n",
       "      <td>0.032494</td>\n",
       "    </tr>\n",
       "    <tr>\n",
       "      <th>1</th>\n",
       "      <td>hour</td>\n",
       "      <td>-0.049153</td>\n",
       "    </tr>\n",
       "    <tr>\n",
       "      <th>2</th>\n",
       "      <td>age</td>\n",
       "      <td>-0.085671</td>\n",
       "    </tr>\n",
       "    <tr>\n",
       "      <th>3</th>\n",
       "      <td>numscreens</td>\n",
       "      <td>-0.111608</td>\n",
       "    </tr>\n",
       "    <tr>\n",
       "      <th>4</th>\n",
       "      <td>minigame</td>\n",
       "      <td>0.284847</td>\n",
       "    </tr>\n",
       "    <tr>\n",
       "      <th>5</th>\n",
       "      <td>used_premium_feature</td>\n",
       "      <td>-0.078320</td>\n",
       "    </tr>\n",
       "    <tr>\n",
       "      <th>6</th>\n",
       "      <td>liked</td>\n",
       "      <td>-0.000265</td>\n",
       "    </tr>\n",
       "    <tr>\n",
       "      <th>7</th>\n",
       "      <td>location</td>\n",
       "      <td>-0.168459</td>\n",
       "    </tr>\n",
       "    <tr>\n",
       "      <th>8</th>\n",
       "      <td>Institutions</td>\n",
       "      <td>0.023233</td>\n",
       "    </tr>\n",
       "    <tr>\n",
       "      <th>9</th>\n",
       "      <td>VerifyPhone</td>\n",
       "      <td>0.578707</td>\n",
       "    </tr>\n",
       "    <tr>\n",
       "      <th>10</th>\n",
       "      <td>BankVerification</td>\n",
       "      <td>0.052941</td>\n",
       "    </tr>\n",
       "    <tr>\n",
       "      <th>11</th>\n",
       "      <td>VerifyDateOfBirth</td>\n",
       "      <td>0.062601</td>\n",
       "    </tr>\n",
       "    <tr>\n",
       "      <th>12</th>\n",
       "      <td>ProfilePage</td>\n",
       "      <td>-0.115229</td>\n",
       "    </tr>\n",
       "    <tr>\n",
       "      <th>13</th>\n",
       "      <td>VerifyCountry</td>\n",
       "      <td>-0.335967</td>\n",
       "    </tr>\n",
       "    <tr>\n",
       "      <th>14</th>\n",
       "      <td>Cycle</td>\n",
       "      <td>0.094326</td>\n",
       "    </tr>\n",
       "    <tr>\n",
       "      <th>15</th>\n",
       "      <td>idscreen</td>\n",
       "      <td>0.173148</td>\n",
       "    </tr>\n",
       "    <tr>\n",
       "      <th>16</th>\n",
       "      <td>Splash</td>\n",
       "      <td>-0.056947</td>\n",
       "    </tr>\n",
       "    <tr>\n",
       "      <th>17</th>\n",
       "      <td>RewardsContainer</td>\n",
       "      <td>0.009148</td>\n",
       "    </tr>\n",
       "    <tr>\n",
       "      <th>18</th>\n",
       "      <td>EditProfile</td>\n",
       "      <td>0.010371</td>\n",
       "    </tr>\n",
       "    <tr>\n",
       "      <th>19</th>\n",
       "      <td>Finances</td>\n",
       "      <td>-0.066409</td>\n",
       "    </tr>\n",
       "    <tr>\n",
       "      <th>20</th>\n",
       "      <td>Alerts</td>\n",
       "      <td>-0.193484</td>\n",
       "    </tr>\n",
       "    <tr>\n",
       "      <th>21</th>\n",
       "      <td>Leaderboard</td>\n",
       "      <td>-0.027902</td>\n",
       "    </tr>\n",
       "    <tr>\n",
       "      <th>22</th>\n",
       "      <td>VerifyMobile</td>\n",
       "      <td>0.391082</td>\n",
       "    </tr>\n",
       "    <tr>\n",
       "      <th>23</th>\n",
       "      <td>VerifyHousing</td>\n",
       "      <td>0.020752</td>\n",
       "    </tr>\n",
       "    <tr>\n",
       "      <th>24</th>\n",
       "      <td>RewardDetail</td>\n",
       "      <td>0.000436</td>\n",
       "    </tr>\n",
       "    <tr>\n",
       "      <th>25</th>\n",
       "      <td>VerifyHousingAmount</td>\n",
       "      <td>0.063689</td>\n",
       "    </tr>\n",
       "    <tr>\n",
       "      <th>26</th>\n",
       "      <td>ProfileMaritalStatus</td>\n",
       "      <td>-0.095817</td>\n",
       "    </tr>\n",
       "    <tr>\n",
       "      <th>27</th>\n",
       "      <td>ProfileChildren</td>\n",
       "      <td>0.000000</td>\n",
       "    </tr>\n",
       "    <tr>\n",
       "      <th>28</th>\n",
       "      <td>ProfileEducation</td>\n",
       "      <td>0.035417</td>\n",
       "    </tr>\n",
       "    <tr>\n",
       "      <th>29</th>\n",
       "      <td>ProfileEducationMajor</td>\n",
       "      <td>-0.035837</td>\n",
       "    </tr>\n",
       "    <tr>\n",
       "      <th>30</th>\n",
       "      <td>Rewards</td>\n",
       "      <td>-0.003706</td>\n",
       "    </tr>\n",
       "    <tr>\n",
       "      <th>31</th>\n",
       "      <td>AccountView</td>\n",
       "      <td>-0.062270</td>\n",
       "    </tr>\n",
       "    <tr>\n",
       "      <th>32</th>\n",
       "      <td>VerifyAnnualIncome</td>\n",
       "      <td>0.068008</td>\n",
       "    </tr>\n",
       "    <tr>\n",
       "      <th>33</th>\n",
       "      <td>VerifyIncomeType</td>\n",
       "      <td>-0.071068</td>\n",
       "    </tr>\n",
       "    <tr>\n",
       "      <th>34</th>\n",
       "      <td>ProfileJobTitle</td>\n",
       "      <td>-0.000359</td>\n",
       "    </tr>\n",
       "    <tr>\n",
       "      <th>35</th>\n",
       "      <td>Login</td>\n",
       "      <td>-0.131056</td>\n",
       "    </tr>\n",
       "    <tr>\n",
       "      <th>36</th>\n",
       "      <td>ProfileEmploymentLength</td>\n",
       "      <td>-0.036633</td>\n",
       "    </tr>\n",
       "    <tr>\n",
       "      <th>37</th>\n",
       "      <td>WebView</td>\n",
       "      <td>-0.096104</td>\n",
       "    </tr>\n",
       "    <tr>\n",
       "      <th>38</th>\n",
       "      <td>SecurityModal</td>\n",
       "      <td>0.015776</td>\n",
       "    </tr>\n",
       "    <tr>\n",
       "      <th>39</th>\n",
       "      <td>ResendToken</td>\n",
       "      <td>-0.092289</td>\n",
       "    </tr>\n",
       "    <tr>\n",
       "      <th>40</th>\n",
       "      <td>TransactionList</td>\n",
       "      <td>-0.033907</td>\n",
       "    </tr>\n",
       "    <tr>\n",
       "      <th>41</th>\n",
       "      <td>NetworkFailure</td>\n",
       "      <td>0.023016</td>\n",
       "    </tr>\n",
       "    <tr>\n",
       "      <th>42</th>\n",
       "      <td>ListPicker</td>\n",
       "      <td>-0.052720</td>\n",
       "    </tr>\n",
       "    <tr>\n",
       "      <th>43</th>\n",
       "      <td>Others</td>\n",
       "      <td>1.058857</td>\n",
       "    </tr>\n",
       "    <tr>\n",
       "      <th>44</th>\n",
       "      <td>Savingscount</td>\n",
       "      <td>0.054658</td>\n",
       "    </tr>\n",
       "    <tr>\n",
       "      <th>45</th>\n",
       "      <td>CMcount</td>\n",
       "      <td>0.430440</td>\n",
       "    </tr>\n",
       "    <tr>\n",
       "      <th>46</th>\n",
       "      <td>CCcount</td>\n",
       "      <td>0.041647</td>\n",
       "    </tr>\n",
       "    <tr>\n",
       "      <th>47</th>\n",
       "      <td>Loanscount</td>\n",
       "      <td>-0.490695</td>\n",
       "    </tr>\n",
       "  </tbody>\n",
       "</table>\n",
       "</div>"
      ],
      "text/plain": [
       "                   Features  Coefficient\n",
       "0                 dayofweek     0.032494\n",
       "1                      hour    -0.049153\n",
       "2                       age    -0.085671\n",
       "3                numscreens    -0.111608\n",
       "4                  minigame     0.284847\n",
       "5      used_premium_feature    -0.078320\n",
       "6                     liked    -0.000265\n",
       "7                  location    -0.168459\n",
       "8              Institutions     0.023233\n",
       "9               VerifyPhone     0.578707\n",
       "10         BankVerification     0.052941\n",
       "11        VerifyDateOfBirth     0.062601\n",
       "12              ProfilePage    -0.115229\n",
       "13            VerifyCountry    -0.335967\n",
       "14                    Cycle     0.094326\n",
       "15                 idscreen     0.173148\n",
       "16                   Splash    -0.056947\n",
       "17         RewardsContainer     0.009148\n",
       "18              EditProfile     0.010371\n",
       "19                 Finances    -0.066409\n",
       "20                   Alerts    -0.193484\n",
       "21              Leaderboard    -0.027902\n",
       "22             VerifyMobile     0.391082\n",
       "23            VerifyHousing     0.020752\n",
       "24             RewardDetail     0.000436\n",
       "25      VerifyHousingAmount     0.063689\n",
       "26     ProfileMaritalStatus    -0.095817\n",
       "27         ProfileChildren      0.000000\n",
       "28         ProfileEducation     0.035417\n",
       "29    ProfileEducationMajor    -0.035837\n",
       "30                  Rewards    -0.003706\n",
       "31              AccountView    -0.062270\n",
       "32       VerifyAnnualIncome     0.068008\n",
       "33         VerifyIncomeType    -0.071068\n",
       "34          ProfileJobTitle    -0.000359\n",
       "35                    Login    -0.131056\n",
       "36  ProfileEmploymentLength    -0.036633\n",
       "37                  WebView    -0.096104\n",
       "38            SecurityModal     0.015776\n",
       "39              ResendToken    -0.092289\n",
       "40          TransactionList    -0.033907\n",
       "41           NetworkFailure     0.023016\n",
       "42               ListPicker    -0.052720\n",
       "43                   Others     1.058857\n",
       "44             Savingscount     0.054658\n",
       "45                  CMcount     0.430440\n",
       "46                  CCcount     0.041647\n",
       "47               Loanscount    -0.490695"
      ]
     },
     "metadata": {},
     "output_type": "display_data"
    }
   ],
   "source": []
  },
  {
   "cell_type": "code",
   "execution_count": 137,
   "id": "3a24492b",
   "metadata": {},
   "outputs": [
    {
     "data": {
      "image/png": "[encoded data removed]",
      "text/plain": [
       "<Figure size 2160x1440 with 1 Axes>"
      ]
     },
     "metadata": {},
     "output_type": "display_data"
    }
   ],
   "source": [
    "sns.set_theme()\n",
    "plt.figure(figsize=(30,20))\n",
    "sns.barplot(x=df_coeff['Features'],y=df_coeff['Coefficient'],data=df_coeff)\n",
    "plt.xticks(rotation=90,fontsize=25)\n",
    "plt.yticks(fontsize=25)\n",
    "plt.show()\n"
   ]
  },
  {
   "cell_type": "code",
   "execution_count": null,
   "id": "5ddf534c",
   "metadata": {},
   "outputs": [],
   "source": []
  },
  {
   "cell_type": "markdown",
   "id": "976e02d9",
   "metadata": {},
   "source": [
    "# Let's Tune the model"
   ]
  },
  {
   "cell_type": "code",
   "execution_count": 138,
   "id": "e6b150e3",
   "metadata": {},
   "outputs": [],
   "source": [
    "from sklearn.model_selection import GridSearchCV\n"
   ]
  },
  {
   "cell_type": "code",
   "execution_count": 141,
   "id": "0bda8f84",
   "metadata": {},
   "outputs": [],
   "source": [
    "reg=[\"l1\",\"l2\"]\n",
    "c=[0.001,0.01,0.1,1,10,100]\n",
    "param=dict(penalty=reg,C=c)\n"
   ]
  },
  {
   "cell_type": "code",
   "execution_count": 148,
   "id": "9bbbb80b",
   "metadata": {},
   "outputs": [],
   "source": [
    "GSCV=GridSearchCV(LogisticRegression(solver='liblinear'),param_grid=param,cv=10,n_jobs=-1,verbose=2)"
   ]
  },
  {
   "cell_type": "code",
   "execution_count": 149,
   "id": "fbe57dbc",
   "metadata": {},
   "outputs": [],
   "source": [
    "import time"
   ]
  },
  {
   "cell_type": "code",
   "execution_count": 150,
   "id": "b8f968a2",
   "metadata": {},
   "outputs": [
    {
     "name": "stdout",
     "output_type": "stream",
     "text": [
      "Fitting 10 folds for each of 12 candidates, totalling 120 fits\n",
      "Took 20.80 seconds\n"
     ]
    }
   ],
   "source": [
    "t0=time.time()\n",
    "GSCV.fit(X_train2,y_train)\n",
    "t1 = time.time()\n",
    "\n",
    "print(\"Took %0.2f seconds\"%(t1-t0))"
   ]
  },
  {
   "cell_type": "code",
   "execution_count": 151,
   "id": "44045cb8",
   "metadata": {},
   "outputs": [
    {
     "data": {
      "text/plain": [
       "(0.7571142857142857, {'C': 0.1, 'penalty': 'l1'})"
      ]
     },
     "execution_count": 151,
     "metadata": {},
     "output_type": "execute_result"
    }
   ],
   "source": [
    "rf_best_accuracy = GSCV.best_score_\n",
    "rf_best_parameters = GSCV.best_params_\n",
    "rf_best_accuracy, rf_best_parameters\n"
   ]
  },
  {
   "cell_type": "code",
   "execution_count": 157,
   "id": "de628df2",
   "metadata": {},
   "outputs": [],
   "source": [
    "reg=[\"l1\",\"l2\"]\n",
    "c=[0.5,0.2,0.1,1,0.05,0.08]\n",
    "param=dict(penalty=reg,C=c)\n",
    "GSCV1=GridSearchCV(LogisticRegression(solver='liblinear'),param_grid=param,cv=10,n_jobs=-1,verbose=2)\n",
    "\n"
   ]
  },
  {
   "cell_type": "code",
   "execution_count": 158,
   "id": "59ac5f8c",
   "metadata": {},
   "outputs": [
    {
     "name": "stdout",
     "output_type": "stream",
     "text": [
      "Fitting 10 folds for each of 12 candidates, totalling 120 fits\n"
     ]
    },
    {
     "data": {
      "text/plain": [
       "GridSearchCV(cv=10, estimator=LogisticRegression(solver='liblinear'), n_jobs=-1,\n",
       "             param_grid={'C': [0.5, 0.2, 0.1, 1, 0.05, 0.08],\n",
       "                         'penalty': ['l1', 'l2']},\n",
       "             verbose=2)"
      ]
     },
     "execution_count": 158,
     "metadata": {},
     "output_type": "execute_result"
    }
   ],
   "source": [
    "GSCV1.fit(X_train2,y_train)"
   ]
  },
  {
   "cell_type": "code",
   "execution_count": 159,
   "id": "61e4cfef",
   "metadata": {},
   "outputs": [
    {
     "data": {
      "text/plain": [
       "(0.7571428571428572, {'C': 0.1, 'penalty': 'l1'})"
      ]
     },
     "execution_count": 159,
     "metadata": {},
     "output_type": "execute_result"
    }
   ],
   "source": [
    "rf_best_accuracy = GSCV1.best_score_\n",
    "rf_best_parameters = GSCV1.best_params_\n",
    "rf_best_accuracy, rf_best_parameters\n"
   ]
  },
  {
   "cell_type": "code",
   "execution_count": 163,
   "id": "1c53d130",
   "metadata": {},
   "outputs": [],
   "source": [
    "reg=[\"l1\",\"l2\"]\n",
    "c = [0.1, 0.5, 0.9, 1, 2, 5]\n",
    "param=dict(penalty=reg,C=c)\n",
    "GSCV2=GridSearchCV(LogisticRegression(solver='liblinear'),param_grid=param,cv=10,n_jobs=-1,verbose=2,scoring='accuracy')"
   ]
  },
  {
   "cell_type": "code",
   "execution_count": 164,
   "id": "79533160",
   "metadata": {},
   "outputs": [
    {
     "name": "stdout",
     "output_type": "stream",
     "text": [
      "Fitting 10 folds for each of 12 candidates, totalling 120 fits\n"
     ]
    },
    {
     "data": {
      "text/plain": [
       "GridSearchCV(cv=10, estimator=LogisticRegression(solver='liblinear'), n_jobs=-1,\n",
       "             param_grid={'C': [0.1, 0.5, 0.9, 1, 2, 5],\n",
       "                         'penalty': ['l1', 'l2']},\n",
       "             scoring='accuracy', verbose=2)"
      ]
     },
     "execution_count": 164,
     "metadata": {},
     "output_type": "execute_result"
    }
   ],
   "source": [
    "GSCV2.fit(X_train2,y_train)"
   ]
  },
  {
   "cell_type": "code",
   "execution_count": 165,
   "id": "96fe19d3",
   "metadata": {},
   "outputs": [
    {
     "data": {
      "text/plain": [
       "(0.7571142857142857, {'C': 0.1, 'penalty': 'l1'})"
      ]
     },
     "execution_count": 165,
     "metadata": {},
     "output_type": "execute_result"
    }
   ],
   "source": [
    "rf_best_accuracy = GSCV2.best_score_\n",
    "rf_best_parameters = GSCV2.best_params_\n",
    "rf_best_accuracy, rf_best_parameters"
   ]
  },
  {
   "cell_type": "code",
   "execution_count": 166,
   "id": "00dda52a",
   "metadata": {},
   "outputs": [],
   "source": [
    "y_pred=GSCV2.predict(X_test2)"
   ]
  },
  {
   "cell_type": "code",
   "execution_count": 195,
   "id": "13fc068e",
   "metadata": {},
   "outputs": [],
   "source": [
    "y_test=y_test.reset_index(drop=True)\n"
   ]
  },
  {
   "cell_type": "code",
   "execution_count": 184,
   "id": "000b1988",
   "metadata": {},
   "outputs": [],
   "source": [
    "final_result=pd.DataFrame(np.transpose(np.array([y_test,y_pred])),columns=['Enrolled','Predicted']).dropna()"
   ]
  },
  {
   "cell_type": "code",
   "execution_count": null,
   "id": "157301d0",
   "metadata": {},
   "outputs": [],
   "source": []
  },
  {
   "cell_type": "code",
   "execution_count": 185,
   "id": "d64e27d7",
   "metadata": {},
   "outputs": [],
   "source": [
    "final_result=pd.concat([pd.DataFrame(test_userid.values,columns=[\"User\"]),final_result],axis=1)"
   ]
  },
  {
   "cell_type": "code",
   "execution_count": 196,
   "id": "989630f4",
   "metadata": {},
   "outputs": [
    {
     "data": {
      "text/html": [
       "<div>\n",
       "<style scoped>\n",
       "    .dataframe tbody tr th:only-of-type {\n",
       "        vertical-align: middle;\n",
       "    }\n",
       "\n",
       "    .dataframe tbody tr th {\n",
       "        vertical-align: top;\n",
       "    }\n",
       "\n",
       "    .dataframe thead th {\n",
       "        text-align: right;\n",
       "    }\n",
       "</style>\n",
       "<table border=\"1\" class=\"dataframe\">\n",
       "  <thead>\n",
       "    <tr style=\"text-align: right;\">\n",
       "      <th></th>\n",
       "      <th>User</th>\n",
       "      <th>Enrolled</th>\n",
       "      <th>Predicted</th>\n",
       "    </tr>\n",
       "  </thead>\n",
       "  <tbody>\n",
       "    <tr>\n",
       "      <th>0</th>\n",
       "      <td>239786</td>\n",
       "      <td>1</td>\n",
       "      <td>1</td>\n",
       "    </tr>\n",
       "    <tr>\n",
       "      <th>1</th>\n",
       "      <td>279644</td>\n",
       "      <td>1</td>\n",
       "      <td>1</td>\n",
       "    </tr>\n",
       "    <tr>\n",
       "      <th>2</th>\n",
       "      <td>98290</td>\n",
       "      <td>0</td>\n",
       "      <td>0</td>\n",
       "    </tr>\n",
       "    <tr>\n",
       "      <th>3</th>\n",
       "      <td>170150</td>\n",
       "      <td>1</td>\n",
       "      <td>1</td>\n",
       "    </tr>\n",
       "    <tr>\n",
       "      <th>4</th>\n",
       "      <td>237568</td>\n",
       "      <td>1</td>\n",
       "      <td>1</td>\n",
       "    </tr>\n",
       "    <tr>\n",
       "      <th>5</th>\n",
       "      <td>65042</td>\n",
       "      <td>1</td>\n",
       "      <td>0</td>\n",
       "    </tr>\n",
       "    <tr>\n",
       "      <th>6</th>\n",
       "      <td>207226</td>\n",
       "      <td>1</td>\n",
       "      <td>1</td>\n",
       "    </tr>\n",
       "    <tr>\n",
       "      <th>7</th>\n",
       "      <td>363062</td>\n",
       "      <td>0</td>\n",
       "      <td>0</td>\n",
       "    </tr>\n",
       "    <tr>\n",
       "      <th>8</th>\n",
       "      <td>152296</td>\n",
       "      <td>1</td>\n",
       "      <td>1</td>\n",
       "    </tr>\n",
       "    <tr>\n",
       "      <th>9</th>\n",
       "      <td>64484</td>\n",
       "      <td>0</td>\n",
       "      <td>0</td>\n",
       "    </tr>\n",
       "    <tr>\n",
       "      <th>10</th>\n",
       "      <td>38108</td>\n",
       "      <td>1</td>\n",
       "      <td>1</td>\n",
       "    </tr>\n",
       "    <tr>\n",
       "      <th>11</th>\n",
       "      <td>359940</td>\n",
       "      <td>0</td>\n",
       "      <td>0</td>\n",
       "    </tr>\n",
       "    <tr>\n",
       "      <th>12</th>\n",
       "      <td>136089</td>\n",
       "      <td>0</td>\n",
       "      <td>0</td>\n",
       "    </tr>\n",
       "    <tr>\n",
       "      <th>13</th>\n",
       "      <td>14231</td>\n",
       "      <td>1</td>\n",
       "      <td>1</td>\n",
       "    </tr>\n",
       "    <tr>\n",
       "      <th>14</th>\n",
       "      <td>216038</td>\n",
       "      <td>0</td>\n",
       "      <td>0</td>\n",
       "    </tr>\n",
       "    <tr>\n",
       "      <th>15</th>\n",
       "      <td>18918</td>\n",
       "      <td>1</td>\n",
       "      <td>1</td>\n",
       "    </tr>\n",
       "    <tr>\n",
       "      <th>16</th>\n",
       "      <td>316730</td>\n",
       "      <td>1</td>\n",
       "      <td>1</td>\n",
       "    </tr>\n",
       "    <tr>\n",
       "      <th>17</th>\n",
       "      <td>28308</td>\n",
       "      <td>1</td>\n",
       "      <td>1</td>\n",
       "    </tr>\n",
       "    <tr>\n",
       "      <th>18</th>\n",
       "      <td>228387</td>\n",
       "      <td>1</td>\n",
       "      <td>0</td>\n",
       "    </tr>\n",
       "    <tr>\n",
       "      <th>19</th>\n",
       "      <td>69640</td>\n",
       "      <td>1</td>\n",
       "      <td>1</td>\n",
       "    </tr>\n",
       "  </tbody>\n",
       "</table>\n",
       "</div>"
      ],
      "text/plain": [
       "      User  Enrolled  Predicted\n",
       "0   239786         1          1\n",
       "1   279644         1          1\n",
       "2    98290         0          0\n",
       "3   170150         1          1\n",
       "4   237568         1          1\n",
       "5    65042         1          0\n",
       "6   207226         1          1\n",
       "7   363062         0          0\n",
       "8   152296         1          1\n",
       "9    64484         0          0\n",
       "10   38108         1          1\n",
       "11  359940         0          0\n",
       "12  136089         0          0\n",
       "13   14231         1          1\n",
       "14  216038         0          0\n",
       "15   18918         1          1\n",
       "16  316730         1          1\n",
       "17   28308         1          1\n",
       "18  228387         1          0\n",
       "19   69640         1          1"
      ]
     },
     "execution_count": 196,
     "metadata": {},
     "output_type": "execute_result"
    }
   ],
   "source": [
    "final_result=final_result.reset_index(drop=True)\n",
    "final_result.head(20)"
   ]
  },
  {
   "cell_type": "code",
   "execution_count": 188,
   "id": "7cd6a279",
   "metadata": {},
   "outputs": [],
   "source": [
    "check=final_result[final_result[\"Enrolled\"]==final_result[\"Predicted\"]].User"
   ]
  },
  {
   "cell_type": "code",
   "execution_count": 190,
   "id": "944edbfc",
   "metadata": {},
   "outputs": [
    {
     "data": {
      "text/plain": [
       "(11296,)"
      ]
     },
     "execution_count": 190,
     "metadata": {},
     "output_type": "execute_result"
    }
   ],
   "source": [
    "check.shape"
   ]
  },
  {
   "cell_type": "code",
   "execution_count": 191,
   "id": "30e4375e",
   "metadata": {},
   "outputs": [
    {
     "data": {
      "text/plain": [
       "(15000, 3)"
      ]
     },
     "execution_count": 191,
     "metadata": {},
     "output_type": "execute_result"
    }
   ],
   "source": [
    "final_result.shape"
   ]
  },
  {
   "cell_type": "code",
   "execution_count": 192,
   "id": "f4202670",
   "metadata": {},
   "outputs": [],
   "source": [
    "accuracy=check.shape[0]/final_result.shape[0]"
   ]
  },
  {
   "cell_type": "code",
   "execution_count": 194,
   "id": "5de5c72f",
   "metadata": {},
   "outputs": [
    {
     "name": "stdout",
     "output_type": "stream",
     "text": [
      "Manualy calculate accuracy: 0.7531\n"
     ]
    }
   ],
   "source": [
    "print(\"Manualy calculate accuracy: %0.4f\"%accuracy)"
   ]
  },
  {
   "cell_type": "code",
   "execution_count": null,
   "id": "d5218a3d",
   "metadata": {},
   "outputs": [],
   "source": []
  },
  {
   "cell_type": "code",
   "execution_count": null,
   "id": "7501219e",
   "metadata": {},
   "outputs": [],
   "source": []
  },
  {
   "cell_type": "code",
   "execution_count": null,
   "id": "6de4564f",
   "metadata": {},
   "outputs": [],
   "source": []
  },
  {
   "cell_type": "code",
   "execution_count": null,
   "id": "6632f86f",
   "metadata": {},
   "outputs": [],
   "source": []
  },
  {
   "cell_type": "markdown",
   "id": "30fbe77d",
   "metadata": {},
   "source": [
    "# This is the end of the notebook"
   ]
  },
  {
   "cell_type": "code",
   "execution_count": null,
   "id": "636844db",
   "metadata": {},
   "outputs": [],
   "source": []
  }
 ],
 "metadata": {
  "kernelspec": {
   "display_name": "Python 3",
   "language": "python",
   "name": "python3"
  },
  "language_info": {
   "codemirror_mode": {
    "name": "ipython",
    "version": 3
   },
   "file_extension": ".py",
   "mimetype": "text/x-python",
   "name": "python",
   "nbconvert_exporter": "python",
   "pygments_lexer": "ipython3",
   "version": "3.8.8"
  },
  "widgets": {
   "application/vnd.jupyter.widget-state+json": {
    "state": {},
    "version_major": 2,
    "version_minor": 0
   }
  }
 },
 "nbformat": 4,
 "nbformat_minor": 5
}
